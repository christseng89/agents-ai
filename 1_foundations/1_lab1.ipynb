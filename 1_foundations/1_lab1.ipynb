{
 "cells": [
  {
   "cell_type": "markdown",
   "metadata": {},
   "source": [
    "# Welcome to the start of your adventure in Agentic AI"
   ]
  },
  {
   "cell_type": "markdown",
   "metadata": {},
   "source": [
    "<table style=\"margin: 0; text-align: left; width:100%\">\n",
    "    <tr>\n",
    "        <td style=\"width: 150px; height: 150px; vertical-align: middle;\">\n",
    "            <img src=\"../assets/stop.png\" width=\"150\" height=\"150\" style=\"display: block;\" />\n",
    "        </td>\n",
    "        <td>\n",
    "            <h2 style=\"color:#ff7800;\">Are you ready for action??</h2>\n",
    "            <span style=\"color:#ff7800;\">Have you completed all the setup steps in the <a href=\"../setup/\">setup</a> folder?<br/>\n",
    "            Have you checked out the guides in the <a href=\"../guides/01_intro.ipynb\">guides</a> folder?<br/>\n",
    "            Well in that case, you're ready!!\n",
    "            </span>\n",
    "        </td>\n",
    "    </tr>\n",
    "</table>"
   ]
  },
  {
   "cell_type": "markdown",
   "metadata": {
    "editable": true,
    "slideshow": {
     "slide_type": ""
    },
    "tags": []
   },
   "source": [
    "<table style=\"margin: 0; text-align: left; width:100%\">\n",
    "    <tr>\n",
    "        <td style=\"width: 150px; height: 150px; vertical-align: middle;\">\n",
    "            <img src=\"../assets/tools.png\" width=\"150\" height=\"150\" style=\"display: block;\" />\n",
    "        </td>\n",
    "        <td>\n",
    "            <h2 style=\"color:#00bfff;\">This code is a live resource - keep an eye out for my updates</h2>\n",
    "            <span style=\"color:#00bfff;\">I push updates regularly. As people ask questions or have problems, I add more examples and improve explanations. As a result, the code below might not be identical to the videos, as I've added more steps and better comments. Consider this like an interactive book that accompanies the lectures.<br/><br/>\n",
    "            I try to send emails regularly with important updates related to the course. You can find this in the 'Announcements' section of Udemy in the left sidebar. You can also choose to receive my emails via your Notification Settings in Udemy. I'm respectful of your inbox and always try to add value with my emails!\n",
    "            </span>\n",
    "        </td>\n",
    "    </tr>\n",
    "</table>"
   ]
  },
  {
   "cell_type": "markdown",
   "metadata": {},
   "source": [
    "### And please do remember to contact me if I can help\n",
    "\n",
    "And I love to connect: https://www.linkedin.com/in/eddonner/\n",
    "\n",
    "\n",
    "### New to Notebooks like this one? Head over to the guides folder!\n",
    "\n",
    "Just to check you've already added the Python and Jupyter extensions to Cursor, if not already installed:\n",
    "- Open extensions (View >> extensions)\n",
    "- Search for python, and when the results show, click on the ms-python one, and Install it if not already installed\n",
    "- Search for jupyter, and when the results show, click on the Microsoft one, and Install it if not already installed  \n",
    "Then View >> Explorer to bring back the File Explorer.\n",
    "\n",
    "And then:\n",
    "1. Click where it says \"Select Kernel\" near the top right, and select the option called `.venv (Python 3.12.9)` or similar, which should be the first choice or the most prominent choice. You may need to choose \"Python Environments\" first.\n",
    "2. Click in each \"cell\" below, starting with the cell immediately below this text, and press Shift+Enter to run\n",
    "3. Enjoy!\n",
    "\n",
    "After you click \"Select Kernel\", if there is no option like `.venv (Python 3.12.9)` then please do the following:  \n",
    "1. On Mac: From the Cursor menu, choose Settings >> VS Code Settings (NOTE: be sure to select `VSCode Settings` not `Cursor Settings`);  \n",
    "On Windows PC: From the File menu, choose Preferences >> VS Code Settings(NOTE: be sure to select `VSCode Settings` not `Cursor Settings`)  \n",
    "2. In the Settings search bar, type \"venv\"  \n",
    "3. In the field \"Path to folder with a list of Virtual Environments\" put the path to the project root, like C:\\Users\\username\\projects\\agents (on a Windows PC) or /Users/username/projects/agents (on Mac or Linux).  \n",
    "And then try again.\n",
    "\n",
    "Having problems with missing Python versions in that list? Have you ever used Anaconda before? It might be interferring. Quit Cursor, bring up a new command line, and make sure that your Anaconda environment is deactivated:    \n",
    "`conda deactivate`  \n",
    "And if you still have any problems with conda and python versions, it's possible that you will need to run this too:  \n",
    "`conda config --set auto_activate_base false`  \n",
    "and then from within the Agents directory, you should be able to run `uv python list` and see the Python 3.12 version."
   ]
  },
  {
   "cell_type": "code",
   "execution_count": 1,
   "metadata": {},
   "outputs": [],
   "source": [
    "# First let's do an import\n",
    "from dotenv import load_dotenv\n"
   ]
  },
  {
   "cell_type": "code",
   "execution_count": 2,
   "metadata": {},
   "outputs": [
    {
     "data": {
      "text/plain": [
       "True"
      ]
     },
     "execution_count": 2,
     "metadata": {},
     "output_type": "execute_result"
    }
   ],
   "source": [
    "# Next it's time to load the API keys into environment variables\n",
    "\n",
    "load_dotenv(override=True)"
   ]
  },
  {
   "cell_type": "code",
   "execution_count": 3,
   "metadata": {},
   "outputs": [
    {
     "name": "stdout",
     "output_type": "stream",
     "text": [
      "OpenAI API Key exists and begins sk-proj-\n"
     ]
    }
   ],
   "source": [
    "# Check the keys\n",
    "\n",
    "import os\n",
    "openai_api_key = os.getenv('OPENAI_API_KEY')\n",
    "\n",
    "if openai_api_key:\n",
    "    print(f\"OpenAI API Key exists and begins {openai_api_key[:8]}\")\n",
    "else:\n",
    "    print(\"OpenAI API Key not set - please head to the troubleshooting guide in the setup folder\")\n",
    "    \n"
   ]
  },
  {
   "cell_type": "code",
   "execution_count": 4,
   "metadata": {},
   "outputs": [],
   "source": [
    "# And now - the all important import statement\n",
    "# If you get an import error - head over to troubleshooting guide\n",
    "\n",
    "from openai import OpenAI"
   ]
  },
  {
   "cell_type": "code",
   "execution_count": 5,
   "metadata": {},
   "outputs": [],
   "source": [
    "# And now we'll create an instance of the OpenAI class\n",
    "# If you're not sure what it means to create an instance of a class - head over to the guides folder!\n",
    "# If you get a NameError - head over to the guides folder to learn about NameErrors\n",
    "\n",
    "openai = OpenAI() # OpenAI Client"
   ]
  },
  {
   "cell_type": "code",
   "execution_count": 6,
   "metadata": {},
   "outputs": [],
   "source": [
    "# Create a list of messages in the familiar OpenAI format\n",
    "\n",
    "messages = [{\"role\": \"user\", \"content\": \"What is 2+2?\"}]"
   ]
  },
  {
   "cell_type": "code",
   "execution_count": 7,
   "metadata": {},
   "outputs": [
    {
     "name": "stdout",
     "output_type": "stream",
     "text": [
      "2 + 2 equals 4.\n"
     ]
    }
   ],
   "source": [
    "# And now call it! Any problems, head to the troubleshooting guide\n",
    "# This uses GPT 4.1 nano, the incredibly cheap model\n",
    "\n",
    "response = openai.chat.completions.create(\n",
    "    model=\"gpt-4.1-nano\",\n",
    "    messages=messages\n",
    ")\n",
    "\n",
    "print(response.choices[0].message.content)\n"
   ]
  },
  {
   "cell_type": "code",
   "execution_count": 8,
   "metadata": {},
   "outputs": [],
   "source": [
    "# And now - let's ask for a question:\n",
    "\n",
    "question = \"Please propose a hard, challenging question to assess someone's IQ. Respond only with the question.\"\n",
    "messages = [{\"role\": \"user\", \"content\": question}]\n"
   ]
  },
  {
   "cell_type": "code",
   "execution_count": 9,
   "metadata": {},
   "outputs": [
    {
     "name": "stdout",
     "output_type": "stream",
     "text": [
      "You have eight identical-looking balls, but one is slightly heavier than the others. Using a balance scale only twice, how can you determine which ball is the heavier one?\n"
     ]
    }
   ],
   "source": [
    "# ask it - this uses GPT 4.1 mini, still cheap but more powerful than nano\n",
    "\n",
    "response = openai.chat.completions.create(\n",
    "    model=\"gpt-4.1-mini\",\n",
    "    messages=messages\n",
    ")\n",
    "\n",
    "question = response.choices[0].message.content\n",
    "\n",
    "print(question)\n"
   ]
  },
  {
   "cell_type": "code",
   "execution_count": 10,
   "metadata": {},
   "outputs": [],
   "source": [
    "# form a new messages list\n",
    "messages = [{\"role\": \"user\", \"content\": question}]\n"
   ]
  },
  {
   "cell_type": "code",
   "execution_count": 11,
   "metadata": {},
   "outputs": [
    {
     "name": "stdout",
     "output_type": "stream",
     "text": [
      "You have **8 balls**, and **one is heavier**. You want to identify the heavy ball using a **balance scale only twice**.\n",
      "\n",
      "---\n",
      "\n",
      "### Step-by-step solution:\n",
      "\n",
      "1. **Divide the balls into three groups:**\n",
      "\n",
      "- Group 1: 3 balls\n",
      "- Group 2: 3 balls\n",
      "- Group 3: 2 balls\n",
      "\n",
      "---\n",
      "\n",
      "2. **First weighing:** Compare Group 1 vs Group 2 (3 balls vs 3 balls)\n",
      "\n",
      "- **If they balance:**  \n",
      "  The heavier ball is in Group 3 (the 2 balls not weighed yet).\n",
      "\n",
      "- **If one side is heavier:**  \n",
      "  The heavier ball is in that heavier group (3 balls).\n",
      "\n",
      "---\n",
      "\n",
      "3. **Second weighing:** Now you have either 3 balls (if Group 1 ≠ Group 2) or 2 balls (if Group 1 = Group 2).\n",
      "\n",
      "- **If from the first step, the heavier ball is among 3 balls:**  \n",
      "  Pick any 2 balls from these 3 and weigh them.\n",
      "  - If one is heavier, you found the heavy ball.\n",
      "  - If they balance, the remaining ball (not weighed this time) is the heavy one.\n",
      "\n",
      "- **If from the first step, the heavier ball is among 2 balls (Group 3):**  \n",
      "  Weigh these 2 balls against each other.\n",
      "  - The heavier side contains the heavy ball.\n",
      "\n",
      "---\n",
      "\n",
      "### Summary:\n",
      "\n",
      "| Step           | Action                           | Outcome                                 |\n",
      "|----------------|--------------------------------|----------------------------------------|\n",
      "| **Weighing 1** | 3 balls vs 3 balls              | Either group heavier or balanced       |\n",
      "| **Weighing 2** | 2 balls from suspected group    | Identify the single heavier ball       |\n",
      "\n",
      "---\n",
      "\n",
      "### Therefore:\n",
      "You can always find the heavier ball among 8 balls in **2 weighings** by this method.\n"
     ]
    }
   ],
   "source": [
    "# Ask it again\n",
    "\n",
    "response = openai.chat.completions.create(\n",
    "    model=\"gpt-4.1-mini\",\n",
    "    messages=messages\n",
    ")\n",
    "\n",
    "answer = response.choices[0].message.content\n",
    "print(answer)\n"
   ]
  },
  {
   "cell_type": "code",
   "execution_count": 12,
   "metadata": {},
   "outputs": [
    {
     "data": {
      "text/markdown": [
       "You have **8 balls**, and **one is heavier**. You want to identify the heavy ball using a **balance scale only twice**.\n",
       "\n",
       "---\n",
       "\n",
       "### Step-by-step solution:\n",
       "\n",
       "1. **Divide the balls into three groups:**\n",
       "\n",
       "- Group 1: 3 balls\n",
       "- Group 2: 3 balls\n",
       "- Group 3: 2 balls\n",
       "\n",
       "---\n",
       "\n",
       "2. **First weighing:** Compare Group 1 vs Group 2 (3 balls vs 3 balls)\n",
       "\n",
       "- **If they balance:**  \n",
       "  The heavier ball is in Group 3 (the 2 balls not weighed yet).\n",
       "\n",
       "- **If one side is heavier:**  \n",
       "  The heavier ball is in that heavier group (3 balls).\n",
       "\n",
       "---\n",
       "\n",
       "3. **Second weighing:** Now you have either 3 balls (if Group 1 ≠ Group 2) or 2 balls (if Group 1 = Group 2).\n",
       "\n",
       "- **If from the first step, the heavier ball is among 3 balls:**  \n",
       "  Pick any 2 balls from these 3 and weigh them.\n",
       "  - If one is heavier, you found the heavy ball.\n",
       "  - If they balance, the remaining ball (not weighed this time) is the heavy one.\n",
       "\n",
       "- **If from the first step, the heavier ball is among 2 balls (Group 3):**  \n",
       "  Weigh these 2 balls against each other.\n",
       "  - The heavier side contains the heavy ball.\n",
       "\n",
       "---\n",
       "\n",
       "### Summary:\n",
       "\n",
       "| Step           | Action                           | Outcome                                 |\n",
       "|----------------|--------------------------------|----------------------------------------|\n",
       "| **Weighing 1** | 3 balls vs 3 balls              | Either group heavier or balanced       |\n",
       "| **Weighing 2** | 2 balls from suspected group    | Identify the single heavier ball       |\n",
       "\n",
       "---\n",
       "\n",
       "### Therefore:\n",
       "You can always find the heavier ball among 8 balls in **2 weighings** by this method."
      ],
      "text/plain": [
       "<IPython.core.display.Markdown object>"
      ]
     },
     "metadata": {},
     "output_type": "display_data"
    }
   ],
   "source": [
    "from IPython.display import Markdown, display\n",
    "\n",
    "display(Markdown(answer))\n",
    "\n"
   ]
  },
  {
   "cell_type": "markdown",
   "metadata": {},
   "source": [
    "# Congratulations!\n",
    "\n",
    "That was a small, simple step in the direction of Agentic AI, with your new environment!\n",
    "\n",
    "Next time things get more interesting..."
   ]
  },
  {
   "cell_type": "markdown",
   "metadata": {},
   "source": [
    "<table style=\"margin: 0; text-align: left; width:100%\">\n",
    "    <tr>\n",
    "        <td style=\"width: 150px; height: 150px; vertical-align: middle;\">\n",
    "            <img src=\"../assets/exercise.png\" width=\"150\" height=\"150\" style=\"display: block;\" />\n",
    "        </td>\n",
    "        <td>\n",
    "            <h2 style=\"color:#ff7800;\">Exercise</h2>\n",
    "            <span style=\"color:#ff7800;\">Now try this commercial application:<br/>\n",
    "            First ask the LLM to pick a business area that might be worth exploring for an Agentic AI opportunity.<br/>\n",
    "            Then ask the LLM to present a pain-point in that industry - something challenging that might be ripe for an Agentic solution.<br/>\n",
    "            Finally have 3 third LLM call propose the Agentic AI solution.\n",
    "            </span>\n",
    "        </td>\n",
    "    </tr>\n",
    "</table>"
   ]
  },
  {
   "cell_type": "code",
   "execution_count": 13,
   "metadata": {},
   "outputs": [],
   "source": [
    "# First create the messages:\n",
    "\n",
    "messages = [{\"role\": \"user\", \"content\": \n",
    "\"1. To pick a business area that might be worth exploring for an Agentic AI opportunity.\\n\"\n",
    "\"2. To present a pain-point in that business area with challenges that might be ripe for an Agentic solution.\\n\"\n",
    "\"3. Propose the Agentic AI solution in for the business area.\\n\"\n",
    "}]\n",
    "\n",
    "# Then make the first call:\n",
    "\n",
    "response = openai.chat.completions.create(\n",
    "    model=\"gpt-4.1-mini\",\n",
    "    messages=messages\n",
    ")\n",
    "\n",
    "# Then read the business idea:\n",
    "\n",
    "business_idea = response.choices[0].message.content\n",
    "\n",
    "# And repeat!"
   ]
  },
  {
   "cell_type": "code",
   "execution_count": 14,
   "metadata": {},
   "outputs": [
    {
     "data": {
      "text/markdown": [
       "Certainly! Let’s walk through these steps with a concrete example.\n",
       "\n",
       "---\n",
       "\n",
       "### 1. Business Area: **Supply Chain and Logistics Management**\n",
       "\n",
       "Supply chain and logistics is a complex, dynamic field involving multiple stakeholders, unpredictable variables (weather, demand fluctuations, transportation delays), and the need for rapid, efficient decisions. Industries from retail to manufacturing rely heavily on effective supply chains.\n",
       "\n",
       "---\n",
       "\n",
       "### 2. Pain-Point: **Real-Time Disruption Management and Dynamic Replanning**\n",
       "\n",
       "**Challenges:**\n",
       "- **Unpredictable disruptions:** Events such as traffic accidents, port congestions, sudden demand spikes, or natural disasters abruptly affect supply chain operations.\n",
       "- **Slow human decision-making:** Traditional supply chain managers and planners often rely on static models or manual adjustments, which can cause delays in response.\n",
       "- **Coordination complexity:** Interactions among various supply chain nodes (suppliers, warehouses, transporters) require constant communication and coordination.\n",
       "- **Information silos:** Data is distributed across different systems and organizations, making it difficult to get a unified, real-time view.\n",
       "- **High costs of delays:** Late deliveries or stockouts can result in lost sales, increased costs, and diminished customer satisfaction.\n",
       "\n",
       "These challenges make supply chain management a prime candidate for intelligent, autonomous decision-making systems that can act quickly and adaptively.\n",
       "\n",
       "---\n",
       "\n",
       "### 3. Proposed Agentic AI Solution: **Autonomous Supply Chain Operations Agent (ASCOA)**\n",
       "\n",
       "#### Description:\n",
       "Create a multi-agent system powered by agentic AI capable of autonomous monitoring, decision-making, negotiation, and execution across the supply chain in real-time. Each agent represents a stakeholder or node (supplier, warehouse, transport vehicle) and can proactively sense disruptions and coordinate with other agents to dynamically replan and optimize operations.\n",
       "\n",
       "#### Key Features:\n",
       "\n",
       "- **Real-time Data Integration:** Continuously ingest data from IoT sensors, traffic APIs, weather forecasts, inventory systems, and demand signals across the supply chain.\n",
       "  \n",
       "- **Autonomous Disruption Detection:** Agents use anomaly detection models to identify deviations from normal operations (delays, shortages) immediately.\n",
       "  \n",
       "- **Dynamic Replanning:** Agents collaboratively generate alternative delivery routes, reschedule shipments, or reallocate inventory autonomously without waiting for human instructions.\n",
       "  \n",
       "- **Negotiation and Coordination:** Agents negotiate resource allocation and timing with other agents (e.g., warehouse agent and transporter agent) to optimize end-to-end operations.\n",
       "  \n",
       "- **Learning and Adaptation:** Through reinforcement learning, agents improve their decision policies by observing outcomes over time, adapting to evolving conditions.\n",
       "  \n",
       "- **Explainability & Human-in-the-Loop:** Agents provide transparent reasoning for decisions and allow humans to override or guide actions when necessary for critical cases.\n",
       "\n",
       "#### Business Impact:\n",
       "- Reduce delays and operational costs by reacting immediately to disruptions.\n",
       "- Improve resilience and flexibility of supply chains under uncertainty.\n",
       "- Increase customer satisfaction due to more reliable deliveries.\n",
       "- Enable scalable management of increasingly complex, global supply networks.\n",
       "\n",
       "---\n",
       "\n",
       "Would you like me to explore a different industry or refine this solution further?"
      ],
      "text/plain": [
       "<IPython.core.display.Markdown object>"
      ]
     },
     "metadata": {},
     "output_type": "display_data"
    }
   ],
   "source": [
    "display(Markdown(business_idea))"
   ]
  },
  {
   "cell_type": "code",
   "execution_count": 15,
   "metadata": {},
   "outputs": [
    {
     "data": {
      "text/markdown": [
       "当然！让我们用一个具体的例子来逐步讲解这些步骤。\n",
       "\n",
       "---\n",
       "\n",
       "### 1. 业务领域：**供应链与物流管理**\n",
       "\n",
       "供应链与物流是一个复杂且动态的领域，涉及多个利益相关方，不可预测的变量（如天气、需求波动、运输延迟）以及快速高效决策的需求。从零售到制造等各行各业都高度依赖有效的供应链。\n",
       "\n",
       "---\n",
       "\n",
       "### 2. 痛点：**实时中断管理与动态重新规划**\n",
       "\n",
       "**挑战：**  \n",
       "- **不可预测的中断：** 交通事故、港口拥堵、突发需求激增或自然灾害等事件会突然影响供应链的正常运作。  \n",
       "- **人为决策缓慢：** 传统供应链管理者和规划者通常依赖静态模型或手动调整，响应存在延时。  \n",
       "- **协调复杂性：** 供应链各节点（供应商、仓库、运输方）间的互动需要持续的沟通与协调。  \n",
       "- **信息孤岛：** 数据分散在不同系统和组织中，难以获得统一的实时视图。  \n",
       "- **延迟成本高：** 交付延迟或缺货可能导致销售损失、成本增加和客户满意度下降。\n",
       "\n",
       "这些挑战使供应链管理非常适合应用具备快速适应能力的智能自主决策系统。\n",
       "\n",
       "---\n",
       "\n",
       "### 3. 拟议的智能体AI解决方案：**自主供应链运营智能体（ASCOA）**\n",
       "\n",
       "#### 方案描述：  \n",
       "构建一个由智能体驱动的多智能体系统，能够实现供应链的自主监控、决策、协商与执行。每个智能体代表一个利益相关方或节点（供应商、仓库、运输车辆），能够主动感知中断信息，并与其他智能体协同进行动态重新规划和优化。\n",
       "\n",
       "#### 关键功能：\n",
       "\n",
       "- **实时数据整合：** 持续采集物联网传感器、交通API、天气预报、库存系统和需求信号等数据。  \n",
       "- **自主中断检测：** 智能体采用异常检测模型，实时识别延误、短缺等运营偏差。  \n",
       "- **动态重新规划：** 智能体协同自动生成备选配送路线、重新安排运输或重新分配库存，无需等待人工指令。  \n",
       "- **协商与协调：** 各智能体之间就资源分配和时间安排进行协商，优化端到端运营流程。  \n",
       "- **学习与适应：** 通过强化学习不断改进决策策略，适应不断变化的环境。  \n",
       "- **可解释性与人机协同：** 智能体为决策提供透明理由，并允许关键情况下人工干预和指导。\n",
       "\n",
       "#### 商业影响：  \n",
       "- 通过及时应对中断显著降低延误和运营成本。  \n",
       "- 提升供应链面对不确定性的韧性与灵活性。  \n",
       "- 提高客户满意度，确保更可靠的交付。  \n",
       "- 支持对日益复杂的全球供应网络的可扩展管理。\n",
       "\n",
       "---\n",
       "\n",
       "您希望我探索另一个行业，还是进一步完善该解决方案？"
      ],
      "text/plain": [
       "<IPython.core.display.Markdown object>"
      ]
     },
     "metadata": {},
     "output_type": "display_data"
    }
   ],
   "source": [
    "# First create the messages:\n",
    "\n",
    "messages = [{\"role\": \"user\", \"content\": \n",
    "f\"Convert {business_idea} in Chinese.\\n\"\n",
    "}]\n",
    "\n",
    "# Then make the first call:\n",
    "\n",
    "response = openai.chat.completions.create(\n",
    "    model=\"gpt-4.1-mini\",\n",
    "    messages=messages\n",
    ")\n",
    "\n",
    "# Then read the business idea:\n",
    "\n",
    "business_idea_cn = response.choices[0].message.content\n",
    "display(Markdown(business_idea_cn))\n",
    "\n",
    "# And repeat!"
   ]
  },
  {
   "cell_type": "markdown",
   "metadata": {},
   "source": []
  }
 ],
 "metadata": {
  "kernelspec": {
   "display_name": "Python 3 (ipykernel)",
   "language": "python",
   "name": "python3"
  },
  "language_info": {
   "codemirror_mode": {
    "name": "ipython",
    "version": 3
   },
   "file_extension": ".py",
   "mimetype": "text/x-python",
   "name": "python",
   "nbconvert_exporter": "python",
   "pygments_lexer": "ipython3",
   "version": "3.12.3"
  }
 },
 "nbformat": 4,
 "nbformat_minor": 4
}
