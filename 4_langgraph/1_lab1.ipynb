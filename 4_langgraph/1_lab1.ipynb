{
 "cells": [
  {
   "cell_type": "markdown",
   "metadata": {},
   "source": [
    "## Welcome back to Python Notebooks!\n",
    "\n",
    "Didja miss me??\n",
    "\n",
    "### And welcome to Week 4, Day 2 - introducing LangGraph!"
   ]
  },
  {
   "cell_type": "code",
   "execution_count": 1,
   "metadata": {},
   "outputs": [],
   "source": [
    "from typing import Annotated\n",
    "from langgraph.graph import StateGraph, START, END\n",
    "from langgraph.graph.message import add_messages\n",
    "from dotenv import load_dotenv\n",
    "from IPython.display import Image, display\n",
    "import gradio as gr\n",
    "from langgraph.graph import StateGraph\n",
    "from langgraph.graph.message import add_messages\n",
    "from langchain_openai import ChatOpenAI\n",
    "from pydantic import BaseModel\n",
    "import random\n"
   ]
  },
  {
   "cell_type": "code",
   "execution_count": 2,
   "metadata": {},
   "outputs": [],
   "source": [
    "# Some useful constants\n",
    "\n",
    "nouns = [\"Cabbages\", \"Unicorns\", \"Toasters\", \"Penguins\", \"Bananas\", \"Zombies\", \"Rainbows\", \"Eels\", \"Pickles\", \"Muffins\"]\n",
    "adjectives = [\"outrageous\", \"smelly\", \"pedantic\", \"existential\", \"moody\", \"sparkly\", \"untrustworthy\", \"sarcastic\", \"squishy\", \"haunted\"]"
   ]
  },
  {
   "cell_type": "code",
   "execution_count": 3,
   "metadata": {},
   "outputs": [
    {
     "data": {
      "text/plain": [
       "True"
      ]
     },
     "execution_count": 3,
     "metadata": {},
     "output_type": "execute_result"
    }
   ],
   "source": [
    "# Our favorite first step! Crew was doing this for us, by the way.\n",
    "load_dotenv(override=True)\n"
   ]
  },
  {
   "cell_type": "code",
   "execution_count": 4,
   "metadata": {},
   "outputs": [
    {
     "name": "stdout",
     "output_type": "stream",
     "text": [
      "HELLO\n"
     ]
    },
    {
     "data": {
      "text/plain": [
       "'HELLO'"
      ]
     },
     "execution_count": 4,
     "metadata": {},
     "output_type": "execute_result"
    }
   ],
   "source": [
    "def shout(text: Annotated[str, \"something to be shouted\"]) -> str:\n",
    "    print(text.upper())\n",
    "    return text.upper()\n",
    "\n",
    "shout(\"hello\")"
   ]
  },
  {
   "cell_type": "markdown",
   "metadata": {},
   "source": [
    "### A word about \"Annotated\"\n",
    "\n",
    "You probably know this; type hinting is a feature in Python that lets you specify the type of something:\n",
    "\n",
    "`my_favorite_things: List`\n",
    "\n",
    "But you may not know this:\n",
    "\n",
    "You can also use something called \"Annotated\" to add extra information that somebody else might find useful:\n",
    "\n",
    "`my_favorite_things: Annotated[List, \"these are a few of mine\"]`\n",
    "\n",
    "LangGraph needs us to use this feature when we define our State object.\n",
    "\n",
    "It wants us to tell it what function it should call to update the State with a new value.\n",
    "\n",
    "This function is called a **reducer**.\n",
    "\n",
    "LangGraph provides a default reducer called `add_messages` which takes care of the most common case.\n",
    "\n",
    "And that hopefully explains why the State looks like this.\n",
    "\n",
    "\n"
   ]
  },
  {
   "cell_type": "markdown",
   "metadata": {},
   "source": [
    "### Step 1: Define the State object\n",
    "\n",
    "You can use any python object; but it's most common to use a TypedDict or a Pydantic BaseModel."
   ]
  },
  {
   "cell_type": "code",
   "execution_count": 5,
   "metadata": {},
   "outputs": [],
   "source": [
    "# Step 1: Define the State object\n",
    "class State(BaseModel):\n",
    "        \n",
    "    messages: Annotated[list, add_messages]\n"
   ]
  },
  {
   "cell_type": "markdown",
   "metadata": {},
   "source": [
    "### Step 2: Start the Graph Builder with this State class"
   ]
  },
  {
   "cell_type": "code",
   "execution_count": 6,
   "metadata": {},
   "outputs": [],
   "source": [
    "# Step 2: Start the Graph Builder with this State class\n",
    "graph_builder = StateGraph(State)"
   ]
  },
  {
   "cell_type": "markdown",
   "metadata": {},
   "source": [
    "### Step 3: Create a Node\n",
    "\n",
    "A node can be any python function.\n",
    "\n",
    "The reducer that we set before gets automatically called to combine this response with previous responses\n"
   ]
  },
  {
   "cell_type": "code",
   "execution_count": 7,
   "metadata": {},
   "outputs": [
    {
     "data": {
      "text/plain": [
       "<langgraph.graph.state.StateGraph at 0x20c2470b320>"
      ]
     },
     "execution_count": 7,
     "metadata": {},
     "output_type": "execute_result"
    }
   ],
   "source": [
    "# Step 3: Create a DUMMY Node\n",
    "\n",
    "def our_first_node(old_state: State) -> State:\n",
    "\n",
    "    reply = f\"{random.choice(nouns)} are {random.choice(adjectives)}\"\n",
    "    messages = [{\"role\": \"assistant\", \"content\": reply}]\n",
    "\n",
    "    new_state = State(messages=messages)\n",
    "\n",
    "    return new_state\n",
    "\n",
    "graph_builder.add_node(\"first_node\", our_first_node)"
   ]
  },
  {
   "cell_type": "markdown",
   "metadata": {},
   "source": [
    "### Step 4: Create Edges"
   ]
  },
  {
   "cell_type": "code",
   "execution_count": 8,
   "metadata": {},
   "outputs": [
    {
     "data": {
      "text/plain": [
       "<langgraph.graph.state.StateGraph at 0x20c2470b320>"
      ]
     },
     "execution_count": 8,
     "metadata": {},
     "output_type": "execute_result"
    }
   ],
   "source": [
    "# Step 4: Create Edges\n",
    "graph_builder.add_edge(START, \"first_node\")\n",
    "graph_builder.add_edge(\"first_node\", END)"
   ]
  },
  {
   "cell_type": "markdown",
   "metadata": {},
   "source": [
    "### Step 5: Compile the Graph"
   ]
  },
  {
   "cell_type": "code",
   "execution_count": 9,
   "metadata": {},
   "outputs": [],
   "source": [
    "# Step 5: Compile the Graph\n",
    "graph = graph_builder.compile()"
   ]
  },
  {
   "cell_type": "code",
   "execution_count": 10,
   "metadata": {},
   "outputs": [
    {
     "data": {
      "image/png": "[encoded data removed]",
      "text/plain": [
       "<IPython.core.display.Image object>"
      ]
     },
     "metadata": {},
     "output_type": "display_data"
    }
   ],
   "source": [
    "display(Image(graph.get_graph().draw_mermaid_png()))"
   ]
  },
  {
   "cell_type": "markdown",
   "metadata": {},
   "source": [
    "### That's it! Showtime!"
   ]
  },
  {
   "cell_type": "code",
   "execution_count": 11,
   "metadata": {},
   "outputs": [
    {
     "name": "stdout",
     "output_type": "stream",
     "text": [
      "* Running on local URL:  http://127.0.0.1:7860\n",
      "* To create a public link, set `share=True` in `launch()`.\n"
     ]
    },
    {
     "data": {
      "text/html": [
       "<div><iframe src=\"http://127.0.0.1:7860/\" width=\"100%\" height=\"500\" allow=\"autoplay; camera; microphone; clipboard-read; clipboard-write;\" frameborder=\"0\" allowfullscreen></iframe></div>"
      ],
      "text/plain": [
       "<IPython.core.display.HTML object>"
      ]
     },
     "metadata": {},
     "output_type": "display_data"
    },
    {
     "data": {
      "text/plain": []
     },
     "execution_count": 11,
     "metadata": {},
     "output_type": "execute_result"
    },
    {
     "name": "stdout",
     "output_type": "stream",
     "text": [
      "{'messages': [HumanMessage(content='Hi there', additional_kwargs={}, response_metadata={}, id='b53c7dbb-7393-42be-830b-22a639b64d68'), AIMessage(content='Rainbows are sparkly', additional_kwargs={}, response_metadata={}, id='2750c7af-ddad-4bc9-b17b-7371d1c57de4')]}\n",
      "{'messages': [HumanMessage(content='Why answer that?', additional_kwargs={}, response_metadata={}, id='93c96818-6e67-4717-a054-cec32320a78b'), AIMessage(content='Pickles are outrageous', additional_kwargs={}, response_metadata={}, id='0fc84e3d-037d-4bb5-80cd-91cf481b3c48')]}\n",
      "{'messages': [HumanMessage(content='Are you sure?', additional_kwargs={}, response_metadata={}, id='bf68cd2b-41e9-44d1-860d-02c8633c3d77'), AIMessage(content='Unicorns are sarcastic', additional_kwargs={}, response_metadata={}, id='1d417005-d06d-487d-ab91-518c64d58720')]}\n",
      "{'messages': [HumanMessage(content='1', additional_kwargs={}, response_metadata={}, id='9dbf4fe8-c9a5-4bb5-aa2f-24f941377b96'), AIMessage(content='Unicorns are moody', additional_kwargs={}, response_metadata={}, id='51554020-362b-4330-9e1d-564b42edd071')]}\n",
      "{'messages': [HumanMessage(content='2', additional_kwargs={}, response_metadata={}, id='c923f0f6-6868-4269-91c6-41a3049acf72'), AIMessage(content='Toasters are moody', additional_kwargs={}, response_metadata={}, id='a823c07a-979a-444e-9afd-328f2981e493')]}\n",
      "{'messages': [HumanMessage(content='3', additional_kwargs={}, response_metadata={}, id='39e465ab-8d03-4efe-b62a-6e57de331ad1'), AIMessage(content='Cabbages are outrageous', additional_kwargs={}, response_metadata={}, id='65c4248b-f889-425b-909b-8ebb5d80117b')]}\n"
     ]
    }
   ],
   "source": [
    "def chat(user_input: str, history):\n",
    "    message = {\"role\": \"user\", \"content\": user_input}\n",
    "    messages = [message]\n",
    "    state = State(messages=messages)\n",
    "    result = graph.invoke(state)\n",
    "    print(result)\n",
    "    return result[\"messages\"][-1].content\n",
    "\n",
    "\n",
    "gr.ChatInterface(chat, type=\"messages\").launch()"
   ]
  },
  {
   "cell_type": "markdown",
   "metadata": {},
   "source": [
    "### But why did I show you that?\n",
    "\n",
    "To make the point that LangGraph is all about python functions - it doesn't need to involve LLMs!!\n",
    "\n",
    "Now we'll do the 5 steps again, but in 1 shot:"
   ]
  },
  {
   "cell_type": "code",
   "execution_count": 12,
   "metadata": {},
   "outputs": [],
   "source": [
    "# Step 1: Define the State object\n",
    "class State(BaseModel):\n",
    "    messages: Annotated[list, add_messages]\n"
   ]
  },
  {
   "cell_type": "code",
   "execution_count": 13,
   "metadata": {},
   "outputs": [],
   "source": [
    "# Step 2: Start the Graph Builder with this State class\n",
    "graph_builder = StateGraph(State)\n"
   ]
  },
  {
   "cell_type": "code",
   "execution_count": 14,
   "metadata": {},
   "outputs": [
    {
     "data": {
      "text/plain": [
       "<langgraph.graph.state.StateGraph at 0x20c2470b4a0>"
      ]
     },
     "execution_count": 14,
     "metadata": {},
     "output_type": "execute_result"
    }
   ],
   "source": [
    "# Step 3: Create a LLM Node\n",
    "\n",
    "llm = ChatOpenAI(model=\"gpt-4o-mini\")\n",
    "\n",
    "def chatbot_node(old_state: State) -> State:\n",
    "    response = llm.invoke(old_state.messages)\n",
    "    new_state = State(messages=[response])\n",
    "    return new_state\n",
    "\n",
    "graph_builder.add_node(\"chatbot\", chatbot_node)"
   ]
  },
  {
   "cell_type": "code",
   "execution_count": 15,
   "metadata": {},
   "outputs": [
    {
     "data": {
      "text/plain": [
       "<langgraph.graph.state.StateGraph at 0x20c2470b4a0>"
      ]
     },
     "execution_count": 15,
     "metadata": {},
     "output_type": "execute_result"
    }
   ],
   "source": [
    "# Step 4: Create Edges\n",
    "graph_builder.add_edge(START, \"chatbot\")\n",
    "graph_builder.add_edge(\"chatbot\", END)"
   ]
  },
  {
   "cell_type": "code",
   "execution_count": 16,
   "metadata": {},
   "outputs": [
    {
     "data": {
      "image/png": "[encoded data removed]",
      "text/plain": [
       "<IPython.core.display.Image object>"
      ]
     },
     "metadata": {},
     "output_type": "display_data"
    }
   ],
   "source": [
    "# Step 5: Compile the Graph\n",
    "graph = graph_builder.compile()\n",
    "display(Image(graph.get_graph().draw_mermaid_png()))"
   ]
  },
  {
   "cell_type": "markdown",
   "metadata": {},
   "source": [
    "### That's it! And, let's do this:"
   ]
  },
  {
   "cell_type": "code",
   "execution_count": 17,
   "metadata": {},
   "outputs": [
    {
     "name": "stdout",
     "output_type": "stream",
     "text": [
      "* Running on local URL:  http://127.0.0.1:7861\n",
      "* To create a public link, set `share=True` in `launch()`.\n"
     ]
    },
    {
     "data": {
      "text/html": [
       "<div><iframe src=\"http://127.0.0.1:7861/\" width=\"100%\" height=\"500\" allow=\"autoplay; camera; microphone; clipboard-read; clipboard-write;\" frameborder=\"0\" allowfullscreen></iframe></div>"
      ],
      "text/plain": [
       "<IPython.core.display.HTML object>"
      ]
     },
     "metadata": {},
     "output_type": "display_data"
    },
    {
     "data": {
      "text/plain": []
     },
     "execution_count": 17,
     "metadata": {},
     "output_type": "execute_result"
    },
    {
     "name": "stdout",
     "output_type": "stream",
     "text": [
      "{'messages': [HumanMessage(content='Hello ', additional_kwargs={}, response_metadata={}, id='f5a6594d-f038-40b6-8e91-653256287281'), AIMessage(content='Hello! How can I assist you today?', additional_kwargs={'refusal': None}, response_metadata={'token_usage': {'completion_tokens': 9, 'prompt_tokens': 9, 'total_tokens': 18, 'completion_tokens_details': {'accepted_prediction_tokens': 0, 'audio_tokens': 0, 'reasoning_tokens': 0, 'rejected_prediction_tokens': 0}, 'prompt_tokens_details': {'audio_tokens': 0, 'cached_tokens': 0}}, 'model_name': 'gpt-4o-mini-2024-07-18', 'system_fingerprint': 'fp_34a54ae93c', 'id': 'chatcmpl-BlX1H75LN31Uw9cmQDfzi7SAp8z1x', 'service_tier': 'default', 'finish_reason': 'stop', 'logprobs': None}, id='run--70d7b4c2-072e-4023-b833-c22d7c15eba1-0', usage_metadata={'input_tokens': 9, 'output_tokens': 9, 'total_tokens': 18, 'input_token_details': {'audio': 0, 'cache_read': 0}, 'output_token_details': {'audio': 0, 'reasoning': 0}})]}\n",
      "{'messages': [HumanMessage(content='Do you familar with LLM?', additional_kwargs={}, response_metadata={}, id='c9d57580-a579-49c8-95b3-a0577f8bda1e'), AIMessage(content='Yes, I\\'m familiar with LLM, which stands for \"Large Language Model.\" These are advanced AI models designed to understand and generate human-like text based on the input they receive. They are trained on vast amounts of text data and can perform a variety of tasks, including language translation, text summarization, question answering, and more. Examples of LLMs include OpenAI\\'s GPT series and Google\\'s BERT. If you have specific questions or topics related to LLMs, feel free to ask!', additional_kwargs={'refusal': None}, response_metadata={'token_usage': {'completion_tokens': 101, 'prompt_tokens': 15, 'total_tokens': 116, 'completion_tokens_details': {'accepted_prediction_tokens': 0, 'audio_tokens': 0, 'reasoning_tokens': 0, 'rejected_prediction_tokens': 0}, 'prompt_tokens_details': {'audio_tokens': 0, 'cached_tokens': 0}}, 'model_name': 'gpt-4o-mini-2024-07-18', 'system_fingerprint': 'fp_34a54ae93c', 'id': 'chatcmpl-BlX1XrzajlIWxPxxB4zvootOe3xda', 'service_tier': 'default', 'finish_reason': 'stop', 'logprobs': None}, id='run--430f95e5-c517-4548-af35-82eaed101a68-0', usage_metadata={'input_tokens': 15, 'output_tokens': 101, 'total_tokens': 116, 'input_token_details': {'audio': 0, 'cache_read': 0}, 'output_token_details': {'audio': 0, 'reasoning': 0}})]}\n",
      "{'messages': [HumanMessage(content='Do you familiar with OpenAI Agent SDK?', additional_kwargs={}, response_metadata={}, id='2c0cb750-c339-4539-9a58-7f47ed288da5'), AIMessage(content=\"Yes, I am familiar with the OpenAI Agent SDK. The SDK is designed to help developers create and manage AI agents for various tasks by leveraging OpenAI's language models. It provides a framework for building applications that can utilize natural language understanding and generation capabilities.\\n\\nWith the OpenAI Agent SDK, you can define tasks, manage conversational state, and integrate external APIs. This allows for the development of sophisticated AI-driven applications that can interact with users in a natural manner.\\n\\nIf you have specific questions about how to use the SDK or its features, feel free to ask!\", additional_kwargs={'refusal': None}, response_metadata={'token_usage': {'completion_tokens': 113, 'prompt_tokens': 16, 'total_tokens': 129, 'completion_tokens_details': {'accepted_prediction_tokens': 0, 'audio_tokens': 0, 'reasoning_tokens': 0, 'rejected_prediction_tokens': 0}, 'prompt_tokens_details': {'audio_tokens': 0, 'cached_tokens': 0}}, 'model_name': 'gpt-4o-mini-2024-07-18', 'system_fingerprint': 'fp_34a54ae93c', 'id': 'chatcmpl-BlX1qd4uRQAsw6lOiAjWX0xSfcoDd', 'service_tier': 'default', 'finish_reason': 'stop', 'logprobs': None}, id='run--5f5ce4be-c2f2-4dd3-bc37-6fb348f8e011-0', usage_metadata={'input_tokens': 16, 'output_tokens': 113, 'total_tokens': 129, 'input_token_details': {'audio': 0, 'cache_read': 0}, 'output_token_details': {'audio': 0, 'reasoning': 0}})]}\n",
      "{'messages': [HumanMessage(content='What is an Agent, give me a sample code and real world example.', additional_kwargs={}, response_metadata={}, id='6a3d9f69-929c-46e1-a94e-249e02eddb8c'), AIMessage(content='In computer science, an \"agent\" refers to an entity that acts in an environment to achieve specific goals. Agents can be simple programs, complex systems, or even physical robots. They perceive their environment through sensors and act upon that environment through actuators. The behavior of an agent can be defined by rules, decision-making algorithms, or machine learning models.\\n\\n### Real-World Example: Autonomous Robot Vacuum\\n\\nA real-world example of an agent is an autonomous robot vacuum cleaner. This device operates in a home environment:\\n\\n- **Sensors:** It uses sensors to detect walls, furniture, and dirt.\\n- **Actuators:** It has wheels to move around and brushes to clean the floor.\\n- **Goal:** Its objective is to clean the floor efficiently.\\n\\nThe vacuum collects data about its surroundings, decides how to navigate based on that data, and performs actions to achieve its goal of cleaning.\\n\\n### Sample Code: Simple Agent in Python\\n\\nHere\\'s a simple implementation of an agent in Python. In this example, we’ll create a basic grid environment where an agent can move around and collect items. The agent will act according to its perceived environment.\\n\\n```python\\nimport random\\n\\nclass GridEnvironment:\\n    def __init__(self, size):\\n        self.size = size\\n        self.grid = [[\\' \\' for _ in range(size)] for _ in range(size)]\\n        self.agent_position = (0, 0)\\n        self.items_collected = 0\\n\\n    def place_item(self, x, y):\\n        self.grid[x][y] = \\'I\\'  # I for Item\\n\\n    def move_agent(self, direction):\\n        x, y = self.agent_position\\n        if direction == \\'up\\' and x > 0:\\n            self.agent_position = (x - 1, y)\\n        elif direction == \\'down\\' and x < self.size - 1:\\n            self.agent_position = (x + 1, y)\\n        elif direction == \\'left\\' and y > 0:\\n            self.agent_position = (x, y - 1)\\n        elif direction == \\'right\\' and y < self.size - 1:\\n            self.agent_position = (x, y + 1)\\n        \\n        self.collect_item()\\n\\n    def collect_item(self):\\n        x, y = self.agent_position\\n        if self.grid[x][y] == \\'I\\':\\n            self.items_collected += 1\\n            self.grid[x][y] = \\' \\'  # Collect the item\\n\\n    def display(self):\\n        for i in range(self.size):\\n            for j in range(self.size):\\n                if (i, j) == self.agent_position:\\n                    print(\\'A\\', end=\\' \\')  # A for Agent\\n                else:\\n                    print(self.grid[i][j], end=\\' \\')\\n            print()\\n        print(f\\'Items collected: {self.items_collected}\\')\\n\\n# Sample usage\\nenv = GridEnvironment(size=5)\\nenv.place_item(1, 1)\\nenv.place_item(2, 2)\\nenv.place_item(3, 3)\\n\\n# Display the initial state\\nenv.display()\\n\\n# Make the agent move randomly\\nfor _ in range(10):\\n    direction = random.choice([\\'up\\', \\'down\\', \\'left\\', \\'right\\'])\\n    env.move_agent(direction)\\n    env.display()\\n```\\n\\n### Explanation of the Code:\\n1. **GridEnvironment Class:** This class represents a grid environment for the agent, allowing it to store its position and collect items.\\n2. **place_item Method:** Places an item on the grid at specified coordinates.\\n3. **move_agent Method:** Moves the agent in a specified direction if it\\'s within bounds.\\n4. **collect_item Method:** Checks if the agent is on a cell with an item and collects it if so.\\n5. **display Method:** Prints the current state of the grid and the number of items collected.\\n6. **Sample Usage:** Initializes a 5x5 grid, places items, and makes the agent move randomly while displaying the grid each time.\\n\\nThis is a simplified example, but it illustrates how an agent can operate in an environment, sense its surroundings, make decisions, and act to achieve a goal.', additional_kwargs={'refusal': None}, response_metadata={'token_usage': {'completion_tokens': 846, 'prompt_tokens': 22, 'total_tokens': 868, 'completion_tokens_details': {'accepted_prediction_tokens': 0, 'audio_tokens': 0, 'reasoning_tokens': 0, 'rejected_prediction_tokens': 0}, 'prompt_tokens_details': {'audio_tokens': 0, 'cached_tokens': 0}}, 'model_name': 'gpt-4o-mini-2024-07-18', 'system_fingerprint': 'fp_34a54ae93c', 'id': 'chatcmpl-BlX2J23jM6J5noZpEHKalpMfGrvtm', 'service_tier': 'default', 'finish_reason': 'stop', 'logprobs': None}, id='run--b94b2c1d-f2ed-4a73-a7c7-191bc7f2c2d1-0', usage_metadata={'input_tokens': 22, 'output_tokens': 846, 'total_tokens': 868, 'input_token_details': {'audio': 0, 'cache_read': 0}, 'output_token_details': {'audio': 0, 'reasoning': 0}})]}\n",
      "{'messages': [HumanMessage(content='What is an Agent in OpenAI Agent SDK, give me a sample code.', additional_kwargs={}, response_metadata={}, id='f4521355-4742-4791-b2a3-a4cfc1130392'), AIMessage(content='The OpenAI Agent SDK typically refers to a framework or set of tools designed to help developers build and deploy AI agents that can perform various tasks using OpenAI\\'s language models and APIs. An \"Agent\" in this context is essentially an entity that can take input, process it, interact with the environment or external systems, and produce output based on a defined set of behaviors or goals.\\n\\n### Sample Code for an OpenAI Agent\\n\\nBelow is a simple example of how you might implement an OpenAI agent using a hypothetical SDK. In this example, the agent interacts with users, processes their input (in a conversational context), and generates appropriate responses using the OpenAI API.\\n\\n```python\\nimport openai\\n\\n# Initialize OpenAI with your API key\\nopenai.api_key = \\'YOUR_API_KEY\\'\\n\\nclass SimpleChatAgent:\\n    def __init__(self):\\n        self.conversation_history = []\\n\\n    def ask(self, user_input):\\n        # Append user input to the conversation history\\n        self.conversation_history.append({\"role\": \"user\", \"content\": user_input})\\n\\n        # Generate a response using OpenAI\\'s completion API\\n        response = openai.ChatCompletion.create(\\n            model=\"gpt-3.5-turbo\",  # or any other supported model\\n            messages=self.conversation_history\\n        )\\n\\n        # Get the assistant\\'s reply\\n        assistant_reply = response[\\'choices\\'][0][\\'message\\'][\\'content\\']\\n\\n        # Append assistant\\'s reply to the conversation history\\n        self.conversation_history.append({\"role\": \"assistant\", \"content\": assistant_reply})\\n\\n        return assistant_reply\\n\\nif __name__ == \"__main__\":\\n    agent = SimpleChatAgent()\\n    print(\"Welcome to the AI chat! Type your message below:\")\\n\\n    while True:\\n        user_input = input(\"You: \")\\n        if user_input.lower() in [\"exit\", \"quit\"]:\\n            print(\"Exiting the chat. Goodbye!\")\\n            break\\n        \\n        # The agent processes the user\\'s input and generates a response\\n        response = agent.ask(user_input)\\n        print(f\"AI: {response}\")\\n```\\n\\n### Explanation:\\n\\n1. **Initialization**: The `SimpleChatAgent` class initializes an empty conversation history and sets up the OpenAI API key.\\n\\n2. **Asking**: The `ask` method takes user input, updates the conversation history, and sends it to the OpenAI API for processing. The model\\'s response is retrieved and appended to the conversation history.\\n\\n3. **Interactive Loop**: In the main block, the script initiates a simple command-line interface where users can type messages. The chat continues until the user types \"exit\" or \"quit\".\\n\\nMake sure you create an OpenAI account to obtain your API key and have access to the relevant models. Be mindful of your API usage and costs during development.\\n\\n### Note:\\nThe actual implementation details may vary based on updates to the SDK or API. The code provided is a simple illustrative example and may not work if there are changes in the API or if additional libraries must be used. Always refer to the official OpenAI documentation for accurate and up-to-date information.', additional_kwargs={'refusal': None}, response_metadata={'token_usage': {'completion_tokens': 631, 'prompt_tokens': 23, 'total_tokens': 654, 'completion_tokens_details': {'accepted_prediction_tokens': 0, 'audio_tokens': 0, 'reasoning_tokens': 0, 'rejected_prediction_tokens': 0}, 'prompt_tokens_details': {'audio_tokens': 0, 'cached_tokens': 0}}, 'model_name': 'gpt-4o-mini-2024-07-18', 'system_fingerprint': 'fp_34a54ae93c', 'id': 'chatcmpl-BlX3oxbXoD8gMToyvmEbXA1adzZoa', 'service_tier': 'default', 'finish_reason': 'stop', 'logprobs': None}, id='run--fe1a9083-123d-4d00-b46d-3f8016120f1b-0', usage_metadata={'input_tokens': 23, 'output_tokens': 631, 'total_tokens': 654, 'input_token_details': {'audio': 0, 'cache_read': 0}, 'output_token_details': {'audio': 0, 'reasoning': 0}})]}\n",
      "{'messages': [HumanMessage(content='How about from agent import Agent?', additional_kwargs={}, response_metadata={}, id='ba0c7aa4-3b55-4c68-8f5f-8948e4f9df81'), AIMessage(content='The line `from agent import Agent` suggests that you\\'re trying to import the class or function named `Agent` from a module named `agent`. \\n\\nIn Python, this is a common way to import specific components from modules. For instance, if you have a file named `agent.py` in the same directory (or in your Python path), you can access the `Agent` class or function defined inside it with this import statement.\\n\\nHere\\'s a brief rundown on how you might structure such a module:\\n\\n### Example Structure\\n\\n1. **File Structure:**\\n   ```\\n   your_project/\\n   ├── main.py\\n   └── agent.py\\n   ```\\n\\n2. **Content of `agent.py`:**\\n   ```python\\n   class Agent:\\n       def __init__(self, name):\\n           self.name = name\\n\\n       def greet(self):\\n           return f\"Hello, my name is {self.name}!\"\\n   ```\\n\\n3. **Content of `main.py`:**\\n   ```python\\n   from agent import Agent\\n\\n   if __name__ == \"__main__\":\\n       agent = Agent(\"Alice\")\\n       print(agent.greet())\\n   ```\\n\\n### Explanation:\\n- In this example, the `Agent` class is defined in the `agent.py` module.\\n- The `main.py` file imports the `Agent` class and creates an instance of it, calling the `greet()` method to print a message.\\n\\n### Why Use Import Statements:\\n- **Code Reusability:** You can easily reuse classes and functions across multiple files.\\n- **Modularity:** It helps keep your code organized and modular.\\n- **Namespace Management:** It helps avoid name clashes by keeping components in separate namespaces.\\n\\nIf you have a different context or specific details on what you\\'re trying to accomplish with `from agent import Agent`, feel free to share more information!', additional_kwargs={'refusal': None}, response_metadata={'token_usage': {'completion_tokens': 373, 'prompt_tokens': 14, 'total_tokens': 387, 'completion_tokens_details': {'accepted_prediction_tokens': 0, 'audio_tokens': 0, 'reasoning_tokens': 0, 'rejected_prediction_tokens': 0}, 'prompt_tokens_details': {'audio_tokens': 0, 'cached_tokens': 0}}, 'model_name': 'gpt-4o-mini-2024-07-18', 'system_fingerprint': 'fp_34a54ae93c', 'id': 'chatcmpl-BlX4xevzqQYGzWqlxd7POCWWuxYnH', 'service_tier': 'default', 'finish_reason': 'stop', 'logprobs': None}, id='run--b3dc041f-1c73-4dbf-8e18-617cf2eae5f0-0', usage_metadata={'input_tokens': 14, 'output_tokens': 373, 'total_tokens': 387, 'input_token_details': {'audio': 0, 'cache_read': 0}, 'output_token_details': {'audio': 0, 'reasoning': 0}})]}\n",
      "{'messages': [HumanMessage(content='How about from agents import Agent?  Which agents are installed OpenAI Agent SDK, right?', additional_kwargs={}, response_metadata={}, id='9153d573-1f61-4185-86bb-3524d9540d01'), AIMessage(content=\"The line `from agents import Agent` suggests that you are working with a Python package or module named `agents`, which may contain an `Agent` class or definition intended for use in an application leveraging artificial intelligence or machine learning.\\n\\nIf you are referring to the OpenAI Agent SDK specifically, this SDK is not something I have direct details on, as of my last update in October 2023. However, many frameworks or APIs related to AI offer agents for tasks such as decision-making, conversation, or other automated interactions.\\n\\nTo find out what agents are part of the OpenAI Agent SDK or any other specific installation, you would typically:\\n\\n1. **Check the Documentation**: Most SDKs have detailed documentation that lists available agents, their functionalities, and how to use them.\\n2. **Explore Installed Packages**: If you have the SDK installed, you can check it out directly in Python. For example, you could use introspection or list available classes using the following commands:\\n\\n   ```python\\n   import agents\\n   dir(agents)\\n   ```\\n\\n3. **GitHub Repository**: If the SDK is open-source, you might find a list of agents in the repository along with examples of how to use them.\\n\\nIf you need specifics or updates on newly released agents or components, it's best to refer to the official OpenAI resources or the GitHub repository for the latest information.\", additional_kwargs={'refusal': None}, response_metadata={'token_usage': {'completion_tokens': 280, 'prompt_tokens': 26, 'total_tokens': 306, 'completion_tokens_details': {'accepted_prediction_tokens': 0, 'audio_tokens': 0, 'reasoning_tokens': 0, 'rejected_prediction_tokens': 0}, 'prompt_tokens_details': {'audio_tokens': 0, 'cached_tokens': 0}}, 'model_name': 'gpt-4o-mini-2024-07-18', 'system_fingerprint': 'fp_34a54ae93c', 'id': 'chatcmpl-BlX60DjVffnYflQcqQCLUqJgiYk1z', 'service_tier': 'default', 'finish_reason': 'stop', 'logprobs': None}, id='run--07504e05-6090-4fe6-8673-7c457affc3d9-0', usage_metadata={'input_tokens': 26, 'output_tokens': 280, 'total_tokens': 306, 'input_token_details': {'audio': 0, 'cache_read': 0}, 'output_token_details': {'audio': 0, 'reasoning': 0}})]}\n",
      "{'messages': [HumanMessage(content='Hi, my name is Chris', additional_kwargs={}, response_metadata={}, id='84ada1c1-5f20-4e19-bab8-7546d041d59a'), AIMessage(content='Hi Chris! How can I assist you today?', additional_kwargs={'refusal': None}, response_metadata={'token_usage': {'completion_tokens': 10, 'prompt_tokens': 13, 'total_tokens': 23, 'completion_tokens_details': {'accepted_prediction_tokens': 0, 'audio_tokens': 0, 'reasoning_tokens': 0, 'rejected_prediction_tokens': 0}, 'prompt_tokens_details': {'audio_tokens': 0, 'cached_tokens': 0}}, 'model_name': 'gpt-4o-mini-2024-07-18', 'system_fingerprint': 'fp_34a54ae93c', 'id': 'chatcmpl-BlXFO3tnvcUKTWm2CI0AO9ZcKmYbP', 'service_tier': 'default', 'finish_reason': 'stop', 'logprobs': None}, id='run--a5a9543d-de95-49d0-a223-5bc448580aaf-0', usage_metadata={'input_tokens': 13, 'output_tokens': 10, 'total_tokens': 23, 'input_token_details': {'audio': 0, 'cache_read': 0}, 'output_token_details': {'audio': 0, 'reasoning': 0}})]}\n",
      "{'messages': [HumanMessage(content='What is my name?', additional_kwargs={}, response_metadata={}, id='83a70d5c-db60-4cc6-ae3e-daecb9a4d9d8'), AIMessage(content=\"I don't know your name. If you'd like, you can share it with me!\", additional_kwargs={'refusal': None}, response_metadata={'token_usage': {'completion_tokens': 17, 'prompt_tokens': 12, 'total_tokens': 29, 'completion_tokens_details': {'accepted_prediction_tokens': 0, 'audio_tokens': 0, 'reasoning_tokens': 0, 'rejected_prediction_tokens': 0}, 'prompt_tokens_details': {'audio_tokens': 0, 'cached_tokens': 0}}, 'model_name': 'gpt-4o-mini-2024-07-18', 'system_fingerprint': 'fp_34a54ae93c', 'id': 'chatcmpl-BlXFSx4OqWExNRwuAz9lcxTizzlkv', 'service_tier': 'default', 'finish_reason': 'stop', 'logprobs': None}, id='run--68c2b83a-0656-4028-90ce-82380ca25797-0', usage_metadata={'input_tokens': 12, 'output_tokens': 17, 'total_tokens': 29, 'input_token_details': {'audio': 0, 'cache_read': 0}, 'output_token_details': {'audio': 0, 'reasoning': 0}})]}\n"
     ]
    }
   ],
   "source": [
    "def chat(user_input: str, history):\n",
    "    initial_state = State(messages=[{\"role\": \"user\", \"content\": user_input}])\n",
    "    result = graph.invoke(initial_state)\n",
    "    print(result)\n",
    "    return result['messages'][-1].content\n",
    "\n",
    "\n",
    "gr.ChatInterface(chat, type=\"messages\").launch()"
   ]
  },
  {
   "cell_type": "markdown",
   "metadata": {},
   "source": [
    "# NOTE: No history message will be kept\n",
    "- Hi, My name is Chris\n",
    "- What is my name?"
   ]
  },
  {
   "cell_type": "code",
   "execution_count": null,
   "metadata": {},
   "outputs": [],
   "source": []
  }
 ],
 "metadata": {
  "kernelspec": {
   "display_name": "Python 3 (ipykernel)",
   "language": "python",
   "name": "python3"
  },
  "language_info": {
   "codemirror_mode": {
    "name": "ipython",
    "version": 3
   },
   "file_extension": ".py",
   "mimetype": "text/x-python",
   "name": "python",
   "nbconvert_exporter": "python",
   "pygments_lexer": "ipython3",
   "version": "3.12.10"
  }
 },
 "nbformat": 4,
 "nbformat_minor": 4
}
