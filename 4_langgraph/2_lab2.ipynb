{
 "cells": [
  {
   "cell_type": "markdown",
   "metadata": {},
   "source": [
    "### And welcome to Week 4, Day 3 - more LangGraph.."
   ]
  },
  {
   "cell_type": "code",
   "execution_count": 1,
   "metadata": {},
   "outputs": [],
   "source": [
    "from typing import Annotated\n",
    "from langgraph.graph import StateGraph, START, END\n",
    "from langgraph.graph.message import add_messages\n",
    "from dotenv import load_dotenv\n",
    "from IPython.display import Image, display\n",
    "import gradio as gr\n",
    "from langgraph.prebuilt import ToolNode, tools_condition\n",
    "import requests\n",
    "import os\n",
    "from langchain_openai import ChatOpenAI\n",
    "from typing import TypedDict\n"
   ]
  },
  {
   "cell_type": "code",
   "execution_count": 2,
   "metadata": {},
   "outputs": [
    {
     "data": {
      "text/plain": [
       "True"
      ]
     },
     "execution_count": 2,
     "metadata": {},
     "output_type": "execute_result"
    }
   ],
   "source": [
    "# Our favorite first step! Crew was doing this for us, by the way.\n",
    "load_dotenv(override=True)\n"
   ]
  },
  {
   "cell_type": "markdown",
   "metadata": {},
   "source": [
    "### First, let's go set up LangSmith!\n",
    "\n",
    "https://langsmith.com"
   ]
  },
  {
   "cell_type": "markdown",
   "metadata": {},
   "source": [
    "### Next, here is a useful function in LangChain community:"
   ]
  },
  {
   "cell_type": "code",
   "execution_count": 3,
   "metadata": {},
   "outputs": [
    {
     "data": {
      "text/plain": [
       "\"Paris is the capital and largest city of France. With an estimated population of 2,048,472 in January 2025 in an area of more than 105 km2 (41 sq mi), ... Paris is the capital and most populous city of France. Situated on the Seine River, in the north of the country, it is in the centre of the Île-de-France ... Paris is the capital of France, the largest country of Europe with 550 000 km2 (65 millions inhabitants). Paris has 2.234 million inhabitants end 2011. Paris, city and capital of France, located along the Seine River, in the north-central part of the country. Paris is one of the world's most important and ... The capital of France has been Paris since its liberation in 1944. Paris is the city of romance par excellence, the fashion capital and the best example of French art de vivre. Exploring Paris is an essential rite of passage ... What Is the Capital of France? Paris. The very name brings to mind tree-lined boulevards, grand monuments, sidewalk cafes, and so much more. Paris became capital of France because France evolved from a federation of counties to a kingdom, where the king was living a Paris. The ... The capital and by far the most important city of France is Paris, one of the world's preeminent cultural and commercial centres. Paris Capital City Of France In 4K Ultra HD Video | Paris, France Capital And Largest City | Paris Is A Major European City And A Global ...\""
      ]
     },
     "execution_count": 3,
     "metadata": {},
     "output_type": "execute_result"
    }
   ],
   "source": [
    "from langchain_community.utilities import GoogleSerperAPIWrapper\n",
    "# from google.colab import userdata\n",
    "# Set your OpenAI key\n",
    "\n",
    "os.environ[\"SERPER_API_KEY\"] = os.getenv('SERPER_API_KEY')\n",
    "\n",
    "serper = GoogleSerperAPIWrapper()\n",
    "serper.run(\"What is the capital of France?\")"
   ]
  },
  {
   "cell_type": "markdown",
   "metadata": {},
   "source": [
    "### Now here is a LangChain wrapper class for converting functions into Tools"
   ]
  },
  {
   "cell_type": "code",
   "execution_count": 4,
   "metadata": {},
   "outputs": [],
   "source": [
    "# Out of the box Tool from LangChain\n",
    "from langchain.agents import Tool\n",
    "\n",
    "tool_search =Tool(\n",
    "        name=\"Serper_Search\",\n",
    "        func=serper.run,\n",
    "        description=\"Useful search tool for when you need more information from an online search\"\n",
    "    )\n",
    "\n"
   ]
  },
  {
   "cell_type": "markdown",
   "metadata": {},
   "source": [
    "### Now we can try out the tool the langchain way"
   ]
  },
  {
   "cell_type": "code",
   "execution_count": 5,
   "metadata": {},
   "outputs": [
    {
     "data": {
      "text/plain": [
       "\"Paris is the capital and largest city of France. With an estimated population of 2,048,472 in January 2025 in an area of more than 105 km2 (41 sq mi), ... Paris is the capital and most populous city of France. Situated on the Seine River, in the north of the country, it is in the centre of the Île-de-France ... Paris is the capital of France, the largest country of Europe with 550 000 km2 (65 millions inhabitants). Paris has 2.234 million inhabitants end 2011. Paris, city and capital of France, located along the Seine River, in the north-central part of the country. Paris is one of the world's most ... The capital of France has been Paris since its liberation in 1944. Paris is the city of romance par excellence, the fashion capital and the best example of French art de vivre. Exploring Paris is an essential rite of passage ... Dive into the charm of Paris, the capital of France! Explore its rich history, iconic attractions, and delectable cuisine in our guide. Paris became capital of France because France evolved from a federation of counties to a kingdom, where the king was living a Paris. The ... The capital and by far the most important city of France is Paris, one of the world's preeminent cultural and commercial centres. France has only one official capital, which is Paris, which is The official capital of France, it is the country's political, cultural, and ...\""
      ]
     },
     "execution_count": 5,
     "metadata": {},
     "output_type": "execute_result"
    }
   ],
   "source": [
    "tool_search.invoke(\"What is the capital of France?\")"
   ]
  },
  {
   "cell_type": "markdown",
   "metadata": {},
   "source": [
    "### And now let's write a tool ourselves\n",
    "\n",
    "We'll pick a familiar one"
   ]
  },
  {
   "cell_type": "code",
   "execution_count": 6,
   "metadata": {},
   "outputs": [],
   "source": [
    "# Custom Tool by using Pushover\n",
    "pushover_token = os.getenv(\"PUSHOVER_TOKEN\")\n",
    "pushover_user = os.getenv(\"PUSHOVER_USER\")\n",
    "pushover_url = \"https://api.pushover.net/1/messages.json\"\n",
    "\n",
    "def push(text: str):\n",
    "    \"\"\"Send a push notification to the user\"\"\"\n",
    "    requests.post(pushover_url, data = {\"token\": pushover_token, \"user\": pushover_user, \"message\": text})"
   ]
  },
  {
   "cell_type": "code",
   "execution_count": 7,
   "metadata": {},
   "outputs": [],
   "source": [
    "tool_pushover = Tool(\n",
    "        name=\"Pushover_Notification\",\n",
    "        func=push,\n",
    "        description=\"useful notification tool for when you want to send a Pushover notification\"\n",
    "    )\n",
    "\n",
    "tool_pushover.invoke(\"Hello, me\")"
   ]
  },
  {
   "cell_type": "markdown",
   "metadata": {},
   "source": [
    "### Back to the Graph from yesterday\n",
    "\n",
    "One small change - using **TypedDict** instead of BaseModel for the State object\n",
    "\n",
    "When we implement tools, we always need to make 2 changes to the code:\n",
    "\n",
    "1. Changes to provide the tools to OpenAI in json when we make the call\n",
    "\n",
    "2. Changes to handle the results back: look for the model staying that the finish_reason==\"tool_calls\" and then retrieve the call, run the function, provide the results."
   ]
  },
  {
   "cell_type": "markdown",
   "metadata": {},
   "source": [
    "### Bring them together"
   ]
  },
  {
   "cell_type": "code",
   "execution_count": 8,
   "metadata": {},
   "outputs": [],
   "source": [
    "tools = [tool_search, tool_pushover]"
   ]
  },
  {
   "cell_type": "code",
   "execution_count": 9,
   "metadata": {},
   "outputs": [
    {
     "data": {
      "text/plain": [
       "[Tool(name='Serper_Search', description='Useful search tool for when you need more information from an online search', func=<bound method GoogleSerperAPIWrapper.run of GoogleSerperAPIWrapper(k=10, gl='us', hl='en', type='search', result_key_for_type={'news': 'news', 'places': 'places', 'images': 'images', 'search': 'organic'}, tbs=None, serper_api_key='b3cf59ac4419d9a8d178413be78c9aefd8d7c6f6', aiosession=None)>),\n",
       " Tool(name='Pushover_Notification', description='useful notification tool for when you want to send a Pushover notification', func=<function push at 0xff327f2bfd80>)]"
      ]
     },
     "execution_count": 9,
     "metadata": {},
     "output_type": "execute_result"
    }
   ],
   "source": [
    "tools"
   ]
  },
  {
   "cell_type": "code",
   "execution_count": 10,
   "metadata": {},
   "outputs": [],
   "source": [
    "# Step 1: Define the State object\n",
    "class State(TypedDict):\n",
    "    messages: Annotated[list, add_messages]"
   ]
  },
  {
   "cell_type": "code",
   "execution_count": 11,
   "metadata": {},
   "outputs": [],
   "source": [
    "# Step 2: Start the Graph Builder with this State class\n",
    "graph_builder = StateGraph(State)"
   ]
  },
  {
   "cell_type": "markdown",
   "metadata": {},
   "source": [
    "## 1. Provide the tools to OpenAI in json when we make the call\n",
    "\n",
    "```python\n",
    "llm_with_tools = llm.bind_tools(tools)\n",
    "```\n",
    "\n",
    "**binds the tools to the ChatOpenAI model**, allowing the model to:\n",
    "\n",
    "1. **Understand which tools are available**, by encoding their function schema in **JSON-compatible format** via OpenAI's function-calling spec.\n",
    "2. **Automatically trigger tool calls**, based on the LLM's understanding of the user's request.\n",
    "3. **Return a response with `tool_calls`**, which your code then detects and handles.\n",
    "\n"
   ]
  },
  {
   "cell_type": "code",
   "execution_count": 12,
   "metadata": {},
   "outputs": [],
   "source": [
    "# This is different:\n",
    "\n",
    "llm = ChatOpenAI(model=\"gpt-4o-mini\")\n",
    "llm_with_tools = llm.bind_tools(tools)"
   ]
  },
  {
   "cell_type": "code",
   "execution_count": 13,
   "metadata": {},
   "outputs": [
    {
     "data": {
      "text/plain": [
       "<langgraph.graph.state.StateGraph at 0xff327f855460>"
      ]
     },
     "execution_count": 13,
     "metadata": {},
     "output_type": "execute_result"
    }
   ],
   "source": [
    "# Step 3: Create a Node\n",
    "\n",
    "def chatbot(state: State):\n",
    "    return {\"messages\": [llm_with_tools.invoke(state[\"messages\"])]}\n",
    "\n",
    "graph_builder.add_node(\"chatbot\", chatbot)\n",
    "graph_builder.add_node(\"tools\", ToolNode(tools=tools))"
   ]
  },
  {
   "cell_type": "markdown",
   "metadata": {},
   "source": [
    "## 2. Handle the results back\n",
    "\n",
    "```python\n",
    "graph_builder.add_conditional_edges(\"chatbot\", tools_condition, \"tools\")\n",
    "```\n",
    "\n",
    "### 🔄 **Flow logic after the `chatbot` node runs**:\n",
    "\n",
    "1. ✅ **`chatbot` node runs**\n",
    "   It produces an output, possibly containing a `tool_calls` field.\n",
    "\n",
    "2. ✅ **`tools_condition(state)` runs**\n",
    "   This function examines the output state to check if:\n",
    "\n",
    "   ```python\n",
    "   state[\"messages\"][-1].tool_calls  # ← LangChain/LLM tool call detection\n",
    "   ```\n",
    "\n",
    "3. ✅ **If `tool_calls` are present**:\n",
    "\n",
    "   * The graph routes to the `\"tools\"` node (via `add_conditional_edges`).\n",
    "   * Then **after tool execution**, the graph **returns to the `chatbot` node** with the tool results.\n",
    "   * This loop continues until **no more `tool_calls`**.\n",
    "\n",
    "4. ✅ **If no `tool_calls` remain**:\n",
    "\n",
    "   * The graph reaches the `\"END\"` node — workflow is completed.\n",
    "\n",
    "---\n",
    "\n",
    "### 🔁 Visual Summary:\n",
    "\n",
    "```\n",
    "START\n",
    "  ↓\n",
    "chatbot\n",
    "  ↓\n",
    "┌────────────────────────────┐\n",
    "│ if tool_calls              │\n",
    "│   ↓                        │\n",
    "│  tools ─────────┐          │\n",
    "│    ↓            │          │\n",
    "│  chatbot <──────┘ (loop)   │\n",
    "└────────────────────────────┘\n",
    "  ↓\n",
    "END  (when no more tool_calls)\n",
    "```\n"
   ]
  },
  {
   "cell_type": "code",
   "execution_count": 14,
   "metadata": {},
   "outputs": [
    {
     "data": {
      "text/plain": [
       "<langgraph.graph.state.StateGraph at 0xff327f855460>"
      ]
     },
     "execution_count": 14,
     "metadata": {},
     "output_type": "execute_result"
    }
   ],
   "source": [
    "# Step 4: Create Edges\n",
    "\n",
    "graph_builder.add_conditional_edges( \"chatbot\", tools_condition, \"tools\")\n",
    "\n",
    "# Any time a tool is called, we return to the chatbot to decide the next step\n",
    "graph_builder.add_edge(\"tools\", \"chatbot\")\n",
    "graph_builder.add_edge(START, \"chatbot\")\n",
    "graph_builder.add_edge(\"chatbot\", END)"
   ]
  },
  {
   "cell_type": "code",
   "execution_count": 15,
   "metadata": {},
   "outputs": [
    {
     "data": {
      "image/png": "[encoded data removed]",
      "text/plain": [
       "<IPython.core.display.Image object>"
      ]
     },
     "metadata": {},
     "output_type": "display_data"
    }
   ],
   "source": [
    "# Step 5: Compile the Graph\n",
    "graph = graph_builder.compile()\n",
    "display(Image(graph.get_graph().draw_mermaid_png()))"
   ]
  },
  {
   "cell_type": "markdown",
   "metadata": {},
   "source": [
    "### That's it! And, let's do this:"
   ]
  },
  {
   "cell_type": "code",
   "execution_count": 16,
   "metadata": {},
   "outputs": [
    {
     "name": "stdout",
     "output_type": "stream",
     "text": [
      "* Running on local URL:  http://127.0.0.1:7860\n",
      "* To create a public link, set `share=True` in `launch()`.\n"
     ]
    },
    {
     "data": {
      "text/html": [
       "<div><iframe src=\"http://127.0.0.1:7860/\" width=\"100%\" height=\"500\" allow=\"autoplay; camera; microphone; clipboard-read; clipboard-write;\" frameborder=\"0\" allowfullscreen></iframe></div>"
      ],
      "text/plain": [
       "<IPython.core.display.HTML object>"
      ]
     },
     "metadata": {},
     "output_type": "display_data"
    },
    {
     "data": {
      "text/plain": []
     },
     "execution_count": 16,
     "metadata": {},
     "output_type": "execute_result"
    }
   ],
   "source": [
    "def chat(user_input: str, history):\n",
    "    result = graph.invoke({\"messages\": [{\"role\": \"user\", \"content\": user_input}]})\n",
    "    return result[\"messages\"][-1].content\n",
    "\n",
    "\n",
    "gr.ChatInterface(chat, type=\"messages\").launch()"
   ]
  },
  {
   "cell_type": "markdown",
   "metadata": {},
   "source": [
    "## OK it's time to add Memory!\n",
    "\n",
    "### BUT WAIT!\n",
    "\n",
    "We have this whole Graph maintaining the state and appending to the state.\n",
    "\n",
    "Why isn't this handling memory?\n",
    "\n",
    "### This is a crucial point for understanding LangGraph\n",
    "\n",
    "> A super-step can be considered a **single** iteration over the graph nodes. Nodes that run in parallel are part of the same super-step, while nodes that run sequentially belong to separate super-steps.\n",
    "\n",
    "\n",
    "One \"Super-Step\" of the graph represents one invocation of passing messages between agents.\n",
    "\n",
    "In idomatic LangGraph, you call invoke to run your graph for each super-step; for each interaction.\n",
    "\n",
    "The reducer handles state updates automatically within one super-step, but not between them.\n",
    "\n",
    "That is what checkpointing achieves."
   ]
  },
  {
   "cell_type": "code",
   "execution_count": 17,
   "metadata": {},
   "outputs": [],
   "source": [
    "# Memory\n",
    "from langgraph.checkpoint.memory import MemorySaver\n",
    "\n",
    "memory = MemorySaver()"
   ]
  },
  {
   "cell_type": "markdown",
   "metadata": {},
   "source": [
    "## Compile with checkpoint ...\n",
    "graph = graph_builder.compile(**checkpointer=memory**)"
   ]
  },
  {
   "cell_type": "code",
   "execution_count": 18,
   "metadata": {},
   "outputs": [
    {
     "data": {
      "image/png": "[encoded data removed]",
      "text/plain": [
       "<IPython.core.display.Image object>"
      ]
     },
     "metadata": {},
     "output_type": "display_data"
    }
   ],
   "source": [
    "# Steps 1 and 2\n",
    "graph_builder = StateGraph(State)\n",
    "\n",
    "\n",
    "# Step 3\n",
    "llm = ChatOpenAI(model=\"gpt-4o-mini\")\n",
    "llm_with_tools = llm.bind_tools(tools)\n",
    "\n",
    "def chatbot(state: State):\n",
    "    print(state)\n",
    "    return {\"messages\": [llm_with_tools.invoke(state[\"messages\"])]}\n",
    "\n",
    "graph_builder.add_node(\"chatbot\", chatbot)\n",
    "graph_builder.add_node(\"tools\", ToolNode(tools=tools))\n",
    "\n",
    "# Step 4\n",
    "graph_builder.add_conditional_edges( \"chatbot\", tools_condition, \"tools\")\n",
    "graph_builder.add_edge(\"tools\", \"chatbot\")\n",
    "graph_builder.add_edge(START, \"chatbot\")\n",
    "graph_builder.add_edge(\"chatbot\", END)\n",
    "\n",
    "# Step 5\n",
    "graph = graph_builder.compile(checkpointer=memory)\n",
    "display(Image(graph.get_graph().draw_mermaid_png()))"
   ]
  },
  {
   "cell_type": "code",
   "execution_count": 19,
   "metadata": {},
   "outputs": [
    {
     "name": "stdout",
     "output_type": "stream",
     "text": [
      "* Running on local URL:  http://127.0.0.1:7861\n",
      "* To create a public link, set `share=True` in `launch()`.\n"
     ]
    },
    {
     "data": {
      "text/html": [
       "<div><iframe src=\"http://127.0.0.1:7861/\" width=\"100%\" height=\"500\" allow=\"autoplay; camera; microphone; clipboard-read; clipboard-write;\" frameborder=\"0\" allowfullscreen></iframe></div>"
      ],
      "text/plain": [
       "<IPython.core.display.HTML object>"
      ]
     },
     "metadata": {},
     "output_type": "display_data"
    },
    {
     "data": {
      "text/plain": []
     },
     "execution_count": 19,
     "metadata": {},
     "output_type": "execute_result"
    }
   ],
   "source": [
    "config = {\"configurable\": {\"thread_id\": \"1\"}}\n",
    "\n",
    "def chat(user_input: str, history):\n",
    "    result = graph.invoke({\"messages\": [{\"role\": \"user\", \"content\": user_input}]}, config=config)\n",
    "    return result[\"messages\"][-1].content\n",
    "\n",
    "\n",
    "gr.ChatInterface(chat, type=\"messages\").launch()"
   ]
  },
  {
   "cell_type": "code",
   "execution_count": 20,
   "metadata": {},
   "outputs": [
    {
     "name": "stdout",
     "output_type": "stream",
     "text": [
      "🔢 Number of states: 8\n",
      "\n"
     ]
    },
    {
     "data": {
      "text/plain": [
       "{}"
      ]
     },
     "execution_count": 20,
     "metadata": {},
     "output_type": "execute_result"
    }
   ],
   "source": [
    "state = graph.get_state(config)\n",
    "print(f\"🔢 Number of states: {len(state)}\\n\")\n",
    "state[0]"
   ]
  },
  {
   "cell_type": "code",
   "execution_count": 21,
   "metadata": {},
   "outputs": [
    {
     "name": "stdout",
     "output_type": "stream",
     "text": [
      "🔢 Number of states in history: 0\n",
      "\n"
     ]
    }
   ],
   "source": [
    "# Most recent first\n",
    "# Get the full state history as a list\n",
    "history = list(graph.get_state_history(config))\n",
    "# Print the length (i.e., how many steps have been recorded)\n",
    "print(f\"🔢 Number of states in history: {len(history)}\\n\")\n",
    "\n",
    "# Optionally: print the most recent state (index 0)\n",
    "# print(\"📌 Most recent state snapshot:\", history[0])"
   ]
  },
  {
   "cell_type": "markdown",
   "metadata": {},
   "source": [
    "### LangGraph gives you tools to set the state back to a prior point in time, to branch off:\n",
    "\n",
    "```\n",
    "config = {\"configurable\": {\"thread_id\": \"1\", \"checkpoint_id\": ...}}\n",
    "graph.invoke(None, config=config)\n",
    "```\n",
    "\n",
    "And this allows you to build stable systems that can be recovered and rerun from any prior checkpoint."
   ]
  },
  {
   "cell_type": "markdown",
   "metadata": {},
   "source": [
    "### And now let's store in SQL\n",
    "\n",
    "### And this is the power of LangGraph."
   ]
  },
  {
   "cell_type": "code",
   "execution_count": 22,
   "metadata": {},
   "outputs": [],
   "source": [
    "import sqlite3\n",
    "from langgraph.checkpoint.sqlite import SqliteSaver\n",
    "\n",
    "db_path = \"memory.db\"\n",
    "conn = sqlite3.connect(db_path, check_same_thread=False)\n",
    "sql_memory = SqliteSaver(conn)"
   ]
  },
  {
   "cell_type": "markdown",
   "metadata": {},
   "source": [
    "## Compile with checkpoint ...\n",
    "\n",
    "graph = graph_builder.compile(**checkpointer=sql_memory**)"
   ]
  },
  {
   "cell_type": "code",
   "execution_count": 23,
   "metadata": {},
   "outputs": [
    {
     "data": {
      "image/png": "[encoded data removed]",
      "text/plain": [
       "<IPython.core.display.Image object>"
      ]
     },
     "metadata": {},
     "output_type": "display_data"
    }
   ],
   "source": [
    "# Steps 1 and 2\n",
    "graph_builder = StateGraph(State)\n",
    "\n",
    "\n",
    "# Step 3\n",
    "llm = ChatOpenAI(model=\"gpt-4o-mini\")\n",
    "llm_with_tools = llm.bind_tools(tools)\n",
    "\n",
    "def chatbot(state: State):\n",
    "    print(state)\n",
    "    return {\"messages\": [llm_with_tools.invoke(state[\"messages\"])]}\n",
    "\n",
    "graph_builder.add_node(\"chatbot\", chatbot)\n",
    "graph_builder.add_node(\"tools\", ToolNode(tools=tools))\n",
    "\n",
    "# Step 4\n",
    "graph_builder.add_conditional_edges( \"chatbot\", tools_condition, \"tools\")\n",
    "graph_builder.add_edge(\"tools\", \"chatbot\")\n",
    "graph_builder.add_edge(START, \"chatbot\")\n",
    "\n",
    "# Step 5\n",
    "graph = graph_builder.compile(checkpointer=sql_memory)\n",
    "display(Image(graph.get_graph().draw_mermaid_png()))\n",
    " "
   ]
  },
  {
   "cell_type": "code",
   "execution_count": 24,
   "metadata": {},
   "outputs": [
    {
     "name": "stdout",
     "output_type": "stream",
     "text": [
      "* Running on local URL:  http://127.0.0.1:7862\n",
      "* To create a public link, set `share=True` in `launch()`.\n"
     ]
    },
    {
     "data": {
      "text/html": [
       "<div><iframe src=\"http://127.0.0.1:7862/\" width=\"100%\" height=\"500\" allow=\"autoplay; camera; microphone; clipboard-read; clipboard-write;\" frameborder=\"0\" allowfullscreen></iframe></div>"
      ],
      "text/plain": [
       "<IPython.core.display.HTML object>"
      ]
     },
     "metadata": {},
     "output_type": "display_data"
    },
    {
     "data": {
      "text/plain": []
     },
     "execution_count": 24,
     "metadata": {},
     "output_type": "execute_result"
    }
   ],
   "source": [
    "config = {\"configurable\": {\"thread_id\": \"3\"}}\n",
    "# config = {\"configurable\": {\"thread_id\": \"2\"}}\n",
    "# config = {\"configurable\": {\"thread_id\": \"4\"}}\n",
    "\n",
    "def chat(user_input: str, history):\n",
    "    result = graph.invoke({\"messages\": [{\"role\": \"user\", \"content\": user_input}]}, config=config)\n",
    "    return result[\"messages\"][-1].content\n",
    "\n",
    "\n",
    "gr.ChatInterface(chat, type=\"messages\").launch()"
   ]
  },
  {
   "cell_type": "code",
   "execution_count": 25,
   "metadata": {},
   "outputs": [
    {
     "name": "stdout",
     "output_type": "stream",
     "text": [
      "🔢 Number of states: 8\n",
      "\n"
     ]
    },
    {
     "data": {
      "text/plain": [
       "{'messages': [HumanMessage(content='hi there', additional_kwargs={}, response_metadata={}, id='d6144090-9963-438c-b21b-3fb4f06edbc0'),\n",
       "  AIMessage(content='Hello! How can I assist you today?', additional_kwargs={'refusal': None}, response_metadata={'token_usage': {'completion_tokens': 11, 'prompt_tokens': 90, 'total_tokens': 101, 'completion_tokens_details': {'accepted_prediction_tokens': 0, 'audio_tokens': 0, 'reasoning_tokens': 0, 'rejected_prediction_tokens': 0}, 'prompt_tokens_details': {'audio_tokens': 0, 'cached_tokens': 0}}, 'model_name': 'gpt-4o-mini-2024-07-18', 'system_fingerprint': 'fp_b376dfbbd5', 'id': 'chatcmpl-BInN7JUnEYNTQqokCF3eihp5oKP0V', 'finish_reason': 'stop', 'logprobs': None}, id='run-4b488710-73ac-435e-a944-913a0c812d08-0', usage_metadata={'input_tokens': 90, 'output_tokens': 11, 'total_tokens': 101, 'input_token_details': {'audio': 0, 'cache_read': 0}, 'output_token_details': {'audio': 0, 'reasoning': 0}}),\n",
       "  HumanMessage(content=\"what's my name\", additional_kwargs={}, response_metadata={}, id='0ee3236f-a0f8-487c-9e18-3a1a83e91d81'),\n",
       "  AIMessage(content=\"I don't have access to personal information unless you provide it. What would you like me to call you?\", additional_kwargs={'refusal': None}, response_metadata={'token_usage': {'completion_tokens': 23, 'prompt_tokens': 111, 'total_tokens': 134, 'completion_tokens_details': {'accepted_prediction_tokens': 0, 'audio_tokens': 0, 'reasoning_tokens': 0, 'rejected_prediction_tokens': 0}, 'prompt_tokens_details': {'audio_tokens': 0, 'cached_tokens': 0}}, 'model_name': 'gpt-4o-mini-2024-07-18', 'system_fingerprint': 'fp_b376dfbbd5', 'id': 'chatcmpl-BInNEm0T32rf7Lx23sOvrcePfgL8d', 'finish_reason': 'stop', 'logprobs': None}, id='run-c12bd46c-0c94-475c-b281-89773b1947a2-0', usage_metadata={'input_tokens': 111, 'output_tokens': 23, 'total_tokens': 134, 'input_token_details': {'audio': 0, 'cache_read': 0}, 'output_token_details': {'audio': 0, 'reasoning': 0}}),\n",
       "  HumanMessage(content=\"My name's Ed\", additional_kwargs={}, response_metadata={}, id='65e59191-b993-4faf-9699-197f70b79fcd'),\n",
       "  AIMessage(content='Nice to meet you, Ed! How can I assist you today?', additional_kwargs={'refusal': None}, response_metadata={'token_usage': {'completion_tokens': 16, 'prompt_tokens': 144, 'total_tokens': 160, 'completion_tokens_details': {'accepted_prediction_tokens': 0, 'audio_tokens': 0, 'reasoning_tokens': 0, 'rejected_prediction_tokens': 0}, 'prompt_tokens_details': {'audio_tokens': 0, 'cached_tokens': 0}}, 'model_name': 'gpt-4o-mini-2024-07-18', 'system_fingerprint': 'fp_b376dfbbd5', 'id': 'chatcmpl-BInNLLW9Z5vrmr2MUfk6CLJBnCMOg', 'finish_reason': 'stop', 'logprobs': None}, id='run-68e08e4e-bc27-4802-b800-8fb359a5d976-0', usage_metadata={'input_tokens': 144, 'output_tokens': 16, 'total_tokens': 160, 'input_token_details': {'audio': 0, 'cache_read': 0}, 'output_token_details': {'audio': 0, 'reasoning': 0}}),\n",
       "  HumanMessage(content='hi there', additional_kwargs={}, response_metadata={}, id='dfeeb914-53d6-404f-9a5c-0531f1fe43fe'),\n",
       "  AIMessage(content='Hello again, Ed! How can I help you today?', additional_kwargs={'refusal': None}, response_metadata={'token_usage': {'completion_tokens': 14, 'prompt_tokens': 168, 'total_tokens': 182, 'completion_tokens_details': {'accepted_prediction_tokens': 0, 'audio_tokens': 0, 'reasoning_tokens': 0, 'rejected_prediction_tokens': 0}, 'prompt_tokens_details': {'audio_tokens': 0, 'cached_tokens': 0}}, 'model_name': 'gpt-4o-mini-2024-07-18', 'system_fingerprint': 'fp_b376dfbbd5', 'id': 'chatcmpl-BInOS7TKECQA9Trbcv3mBsxkVJ8c3', 'finish_reason': 'stop', 'logprobs': None}, id='run-8b9e7d2c-d34d-4d84-99d2-dcb6b26b84bf-0', usage_metadata={'input_tokens': 168, 'output_tokens': 14, 'total_tokens': 182, 'input_token_details': {'audio': 0, 'cache_read': 0}, 'output_token_details': {'audio': 0, 'reasoning': 0}}),\n",
       "  HumanMessage(content='please send me a push notification with the current usd/gbp exchange rate', additional_kwargs={}, response_metadata={}, id='6e096518-8d44-40e9-8aba-bf5027dac79c'),\n",
       "  AIMessage(content='', additional_kwargs={'tool_calls': [{'id': 'call_mFP2QpmSUYlvqjz3HBvRv0Cv', 'function': {'arguments': '{\"__arg1\":\"current USD to GBP exchange rate\"}', 'name': 'search'}, 'type': 'function'}], 'refusal': None}, response_metadata={'token_usage': {'completion_tokens': 21, 'prompt_tokens': 203, 'total_tokens': 224, 'completion_tokens_details': {'accepted_prediction_tokens': 0, 'audio_tokens': 0, 'reasoning_tokens': 0, 'rejected_prediction_tokens': 0}, 'prompt_tokens_details': {'audio_tokens': 0, 'cached_tokens': 0}}, 'model_name': 'gpt-4o-mini-2024-07-18', 'system_fingerprint': 'fp_b376dfbbd5', 'id': 'chatcmpl-BInShCTgCsggydsrv3MmpIXLyvzGF', 'finish_reason': 'tool_calls', 'logprobs': None}, id='run-1bc3e47d-30c5-40f4-a9da-42dd24e74732-0', tool_calls=[{'name': 'search', 'args': {'__arg1': 'current USD to GBP exchange rate'}, 'id': 'call_mFP2QpmSUYlvqjz3HBvRv0Cv', 'type': 'tool_call'}], usage_metadata={'input_tokens': 203, 'output_tokens': 21, 'total_tokens': 224, 'input_token_details': {'audio': 0, 'cache_read': 0}, 'output_token_details': {'audio': 0, 'reasoning': 0}}),\n",
       "  ToolMessage(content='0.78 Pound sterling', name='search', id='04044643-e40a-4bda-a03c-bc80949d039c', tool_call_id='call_mFP2QpmSUYlvqjz3HBvRv0Cv'),\n",
       "  AIMessage(content='', additional_kwargs={'tool_calls': [{'id': 'call_2RByu6cFdwow5BWX8eblN402', 'function': {'arguments': '{\"__arg1\":\"The current USD/GBP exchange rate is 0.78.\"}', 'name': 'send_push_notification'}, 'type': 'function'}], 'refusal': None}, response_metadata={'token_usage': {'completion_tokens': 30, 'prompt_tokens': 235, 'total_tokens': 265, 'completion_tokens_details': {'accepted_prediction_tokens': 0, 'audio_tokens': 0, 'reasoning_tokens': 0, 'rejected_prediction_tokens': 0}, 'prompt_tokens_details': {'audio_tokens': 0, 'cached_tokens': 0}}, 'model_name': 'gpt-4o-mini-2024-07-18', 'system_fingerprint': 'fp_b376dfbbd5', 'id': 'chatcmpl-BInSjgdmKJqByJ2VIxpCZE5vEQpep', 'finish_reason': 'tool_calls', 'logprobs': None}, id='run-030db0cd-4acc-4354-aa65-ae772d33be07-0', tool_calls=[{'name': 'send_push_notification', 'args': {'__arg1': 'The current USD/GBP exchange rate is 0.78.'}, 'id': 'call_2RByu6cFdwow5BWX8eblN402', 'type': 'tool_call'}], usage_metadata={'input_tokens': 235, 'output_tokens': 30, 'total_tokens': 265, 'input_token_details': {'audio': 0, 'cache_read': 0}, 'output_token_details': {'audio': 0, 'reasoning': 0}}),\n",
       "  ToolMessage(content='null', name='send_push_notification', id='f16f6e9d-2d0e-4aca-991f-0d9fe7064574', tool_call_id='call_2RByu6cFdwow5BWX8eblN402'),\n",
       "  AIMessage(content=\"I've sent you a push notification with the current USD/GBP exchange rate: 0.78. If you need anything else, just let me know!\", additional_kwargs={'refusal': None}, response_metadata={'token_usage': {'completion_tokens': 33, 'prompt_tokens': 274, 'total_tokens': 307, 'completion_tokens_details': {'accepted_prediction_tokens': 0, 'audio_tokens': 0, 'reasoning_tokens': 0, 'rejected_prediction_tokens': 0}, 'prompt_tokens_details': {'audio_tokens': 0, 'cached_tokens': 0}}, 'model_name': 'gpt-4o-mini-2024-07-18', 'system_fingerprint': 'fp_b376dfbbd5', 'id': 'chatcmpl-BInSk4W7o3wDEZhzLtixtWOVgEw4Y', 'finish_reason': 'stop', 'logprobs': None}, id='run-bc27a847-b5bf-4565-85af-8e3163f2c271-0', usage_metadata={'input_tokens': 274, 'output_tokens': 33, 'total_tokens': 307, 'input_token_details': {'audio': 0, 'cache_read': 0}, 'output_token_details': {'audio': 0, 'reasoning': 0}}),\n",
       "  HumanMessage(content='can you send that push notification again please', additional_kwargs={}, response_metadata={}, id='328adc3d-8c39-4312-952c-3d3b87d5f736'),\n",
       "  AIMessage(content='', additional_kwargs={'tool_calls': [{'id': 'call_9xFtRNwSPl00BBRdY3VGdZ9Y', 'function': {'arguments': '{\"__arg1\":\"The current USD/GBP exchange rate is 0.78.\"}', 'name': 'send_push_notification'}, 'type': 'function'}], 'refusal': None}, response_metadata={'token_usage': {'completion_tokens': 30, 'prompt_tokens': 321, 'total_tokens': 351, 'completion_tokens_details': {'accepted_prediction_tokens': 0, 'audio_tokens': 0, 'reasoning_tokens': 0, 'rejected_prediction_tokens': 0}, 'prompt_tokens_details': {'audio_tokens': 0, 'cached_tokens': 0}}, 'model_name': 'gpt-4o-mini-2024-07-18', 'system_fingerprint': 'fp_b376dfbbd5', 'id': 'chatcmpl-BInTHUIOvZ0DAwfqnVlb1SRlaKHmH', 'finish_reason': 'tool_calls', 'logprobs': None}, id='run-a2225381-34da-44b4-9e8d-45a0b8c29693-0', tool_calls=[{'name': 'send_push_notification', 'args': {'__arg1': 'The current USD/GBP exchange rate is 0.78.'}, 'id': 'call_9xFtRNwSPl00BBRdY3VGdZ9Y', 'type': 'tool_call'}], usage_metadata={'input_tokens': 321, 'output_tokens': 30, 'total_tokens': 351, 'input_token_details': {'audio': 0, 'cache_read': 0}, 'output_token_details': {'audio': 0, 'reasoning': 0}}),\n",
       "  ToolMessage(content='null', name='send_push_notification', id='433985ee-9eeb-4b4b-866e-23cfc0f8e9fb', tool_call_id='call_9xFtRNwSPl00BBRdY3VGdZ9Y'),\n",
       "  AIMessage(content=\"I've sent the push notification again with the current USD/GBP exchange rate: 0.78. If there's anything else you need, feel free to ask!\", additional_kwargs={'refusal': None}, response_metadata={'token_usage': {'completion_tokens': 34, 'prompt_tokens': 360, 'total_tokens': 394, 'completion_tokens_details': {'accepted_prediction_tokens': 0, 'audio_tokens': 0, 'reasoning_tokens': 0, 'rejected_prediction_tokens': 0}, 'prompt_tokens_details': {'audio_tokens': 0, 'cached_tokens': 0}}, 'model_name': 'gpt-4o-mini-2024-07-18', 'system_fingerprint': 'fp_b376dfbbd5', 'id': 'chatcmpl-BInTJ24F3iaC2JFCLGFb715HxeWU9', 'finish_reason': 'stop', 'logprobs': None}, id='run-eda57a8e-26a4-4aed-a3c6-ce404e2d5cfa-0', usage_metadata={'input_tokens': 360, 'output_tokens': 34, 'total_tokens': 394, 'input_token_details': {'audio': 0, 'cache_read': 0}, 'output_token_details': {'audio': 0, 'reasoning': 0}}),\n",
       "  HumanMessage(content='Hello', additional_kwargs={}, response_metadata={}, id='f639e69d-60c0-44c1-ac02-b9dea02bcbf9'),\n",
       "  AIMessage(content='Hello, Ed! How can I help you today?', additional_kwargs={'refusal': None}, response_metadata={'token_usage': {'completion_tokens': 12, 'prompt_tokens': 401, 'total_tokens': 413, 'completion_tokens_details': {'accepted_prediction_tokens': 0, 'audio_tokens': 0, 'reasoning_tokens': 0, 'rejected_prediction_tokens': 0}, 'prompt_tokens_details': {'audio_tokens': 0, 'cached_tokens': 0}}, 'model_name': 'gpt-4o-mini-2024-07-18', 'system_fingerprint': 'fp_34a54ae93c', 'id': 'chatcmpl-BlXsYgjbZ2bC3dPk8QQYSbr2x4HpZ', 'service_tier': 'default', 'finish_reason': 'stop', 'logprobs': None}, id='run--d76661e2-e3fa-4ba5-862a-9258ac186bf3-0', usage_metadata={'input_tokens': 401, 'output_tokens': 12, 'total_tokens': 413, 'input_token_details': {'audio': 0, 'cache_read': 0}, 'output_token_details': {'audio': 0, 'reasoning': 0}}),\n",
       "  HumanMessage(content='What is my name?', additional_kwargs={}, response_metadata={}, id='0408b14e-4eac-458c-8d60-43c56d90fd20'),\n",
       "  AIMessage(content='Your name is Ed. How can I assist you today?', additional_kwargs={'refusal': None}, response_metadata={'token_usage': {'completion_tokens': 13, 'prompt_tokens': 425, 'total_tokens': 438, 'completion_tokens_details': {'accepted_prediction_tokens': 0, 'audio_tokens': 0, 'reasoning_tokens': 0, 'rejected_prediction_tokens': 0}, 'prompt_tokens_details': {'audio_tokens': 0, 'cached_tokens': 0}}, 'model_name': 'gpt-4o-mini-2024-07-18', 'system_fingerprint': 'fp_34a54ae93c', 'id': 'chatcmpl-BlXshhRaEjoT3AQ7xOZpFKVPP15R1', 'service_tier': 'default', 'finish_reason': 'stop', 'logprobs': None}, id='run--a02610b5-84ed-40c3-a7ad-57d9a72de6ec-0', usage_metadata={'input_tokens': 425, 'output_tokens': 13, 'total_tokens': 438, 'input_token_details': {'audio': 0, 'cache_read': 0}, 'output_token_details': {'audio': 0, 'reasoning': 0}}),\n",
       "  HumanMessage(content='Do you familar with LangGraph?', additional_kwargs={}, response_metadata={}, id='76092f4d-167b-4b83-96c6-12293ba0c3d2'),\n",
       "  AIMessage(content='', additional_kwargs={'tool_calls': [{'id': 'call_mNZG5BLEZgATfdaSsu57TqgV', 'function': {'arguments': '{\"__arg1\":\"LangGraph\"}', 'name': 'search'}, 'type': 'function'}], 'refusal': None}, response_metadata={'token_usage': {'completion_tokens': 16, 'prompt_tokens': 453, 'total_tokens': 469, 'completion_tokens_details': {'accepted_prediction_tokens': 0, 'audio_tokens': 0, 'reasoning_tokens': 0, 'rejected_prediction_tokens': 0}, 'prompt_tokens_details': {'audio_tokens': 0, 'cached_tokens': 0}}, 'model_name': 'gpt-4o-mini-2024-07-18', 'system_fingerprint': 'fp_34a54ae93c', 'id': 'chatcmpl-BlXsvoQ6o2npGmoiDcgtjWBHL0VGD', 'service_tier': 'default', 'finish_reason': 'tool_calls', 'logprobs': None}, id='run--ae9f4166-f7c7-4712-8778-ee376cda5518-0', tool_calls=[{'name': 'search', 'args': {'__arg1': 'LangGraph'}, 'id': 'call_mNZG5BLEZgATfdaSsu57TqgV', 'type': 'tool_call'}], usage_metadata={'input_tokens': 453, 'output_tokens': 16, 'total_tokens': 469, 'input_token_details': {'audio': 0, 'cache_read': 0}, 'output_token_details': {'audio': 0, 'reasoning': 0}}),\n",
       "  ToolMessage(content=\"LangGraph is a stateful, orchestration framework that brings added control to agent workflows. LangGraph Platform is a service for deploying and scaling ... LangGraph provides low-level supporting infrastructure for any long-running, stateful workflow or agent. LangGraph does not abstract prompts or architecture, ... LangGraph, created by LangChain, is an open source AI agent framework designed to build, deploy and manage complex generative AI agent workflows. LangGraph is built for developers who want to build powerful, adaptable AI agents. Developers choose LangGraph for: Reliability and controllability. Steer agent ... LangGraph is a graph library from the same folks as LangChain and therefore is LangChain-aware. However, at it's core, LangGraph is a standalone ... LangGraph is a framework for building stateful LLM applications, making it a good choice for constructing ReAct (Reasoning and Acting) Agents. LangGraph Studio is a specialized agent IDE that enables visualization, interaction, and debugging of agentic systems that implement the LangGraph Server ... Check out PyCharm, the Python IDE for data and web professionals: https://jb.gg/try-pycharm-ide Free 3-Month Personal Subscription for ... LangGraph Studio offers a new way to develop LLM applications by providing a specialized agent IDE that enables visualization, interaction, and debugging of ...\", name='search', id='ad19345a-2b16-4190-8a7b-ce6c2e1d98fb', tool_call_id='call_mNZG5BLEZgATfdaSsu57TqgV'),\n",
       "  AIMessage(content='LangGraph is an orchestration framework designed for building and managing complex generative AI agent workflows. It allows developers to create stateful, long-running workflows with added control over agent processes. Developed by LangChain, LangGraph is open-source and is particularly useful for constructing ReAct (Reasoning and Acting) Agents.\\n\\nKey features of LangGraph include:\\n- **Reliability and Controllability:** It provides a robust infrastructure for managing AI agents.\\n- **Standalone Framework:** Although it is built on the principles of LangChain, it functions independently.\\n- **LangGraph Studio:** A specialized IDE for visualizing, interacting with, and debugging agent systems.\\n\\nIf you have specific questions about LangGraph or want to know more, feel free to ask!', additional_kwargs={'refusal': None}, response_metadata={'token_usage': {'completion_tokens': 150, 'prompt_tokens': 744, 'total_tokens': 894, 'completion_tokens_details': {'accepted_prediction_tokens': 0, 'audio_tokens': 0, 'reasoning_tokens': 0, 'rejected_prediction_tokens': 0}, 'prompt_tokens_details': {'audio_tokens': 0, 'cached_tokens': 0}}, 'model_name': 'gpt-4o-mini-2024-07-18', 'system_fingerprint': 'fp_34a54ae93c', 'id': 'chatcmpl-BlXsxMNGXfyjARA0S0zBJ4wbD81F9', 'service_tier': 'default', 'finish_reason': 'stop', 'logprobs': None}, id='run--baa03248-a42e-457d-b021-83b8124b37b2-0', usage_metadata={'input_tokens': 744, 'output_tokens': 150, 'total_tokens': 894, 'input_token_details': {'audio': 0, 'cache_read': 0}, 'output_token_details': {'audio': 0, 'reasoning': 0}}),\n",
       "  HumanMessage(content='Give me the steps to build up a LangGraph python code.', additional_kwargs={}, response_metadata={}, id='11608578-21ed-4ba5-b602-1a55e1dd01a7'),\n",
       "  AIMessage(content='To build a LangGraph application in Python, you can follow these general steps:\\n\\n### Step 1: Set Up Your Environment\\n1. **Install Python:** Ensure you have Python installed on your machine. You can download it from [python.org](https://www.python.org/).\\n2. **Create a Virtual Environment (Optional):** It\\'s advisable to create a virtual environment for your project.\\n   ```bash\\n   python -m venv langgraph_env\\n   source langgraph_env/bin/activate  # On Windows use `langgraph_env\\\\Scripts\\\\activate`\\n   ```\\n\\n### Step 2: Install LangGraph\\nInstall LangGraph using pip:\\n```bash\\npip install langgraph\\n```\\n\\n### Step 3: Create Your Project Structure\\nCreate a directory for your LangGraph project. Inside this directory, create the necessary files:\\n```\\nmy_langgraph_project/\\n    ├── main.py\\n    └── requirements.txt\\n```\\n\\n### Step 4: Write Your LangGraph Code\\nOpen `main.py` and start coding your LangGraph application. Here’s a simple template:\\n\\n```python\\nfrom langgraph import LangGraph, Agent\\n\\n# Define your agent\\'s behavior\\nclass MyAgent(Agent):\\n    def run(self, input_data):\\n        # Define your agent\\'s logic here\\n        response = f\"Processed input: {input_data}\"\\n        return response\\n\\n# Main function to set up and run your LangGraph\\ndef main():\\n    # Create a LangGraph instance\\n    graph = LangGraph()\\n\\n    # Add your agent to the graph\\n    my_agent = MyAgent()\\n    graph.add_agent(my_agent)\\n\\n    # Run the graph with some input\\n    result = graph.run(\"Hello, LangGraph!\")\\n    print(result)\\n\\nif __name__ == \"__main__\":\\n    main()\\n```\\n\\n### Step 5: Install Additional Dependencies\\nIf your project requires specific dependencies, add them to `requirements.txt`. You can install all dependencies listed in this file using:\\n```bash\\npip install -r requirements.txt\\n```\\n\\n### Step 6: Run Your Project\\nRun your LangGraph application:\\n```bash\\npython main.py\\n```\\n\\n### Step 7: Expand and Customize\\n- **Add More Agents:** Create additional agents and define their behaviors as needed.\\n- **Integrate APIs or Data Sources:** Connect your agents to databases or external APIs for more functionality.\\n- **Testing and Debugging:** Utilize LangGraph Studio for visualization and debugging during development.\\n\\n### Step 8: Documentation and Further Learning\\nRefer to the [LangGraph documentation](https://langgraph.readthedocs.io/) for more detailed instructions, examples, and advanced features.\\n\\nFeel free to ask if you need further assistance with any specific step!', additional_kwargs={'refusal': None}, response_metadata={'token_usage': {'completion_tokens': 559, 'prompt_tokens': 914, 'total_tokens': 1473, 'completion_tokens_details': {'accepted_prediction_tokens': 0, 'audio_tokens': 0, 'reasoning_tokens': 0, 'rejected_prediction_tokens': 0}, 'prompt_tokens_details': {'audio_tokens': 0, 'cached_tokens': 0}}, 'model_name': 'gpt-4o-mini-2024-07-18', 'system_fingerprint': 'fp_34a54ae93c', 'id': 'chatcmpl-BlXtXHV5lNj41hSfDKCOcrwzWKp5X', 'service_tier': 'default', 'finish_reason': 'stop', 'logprobs': None}, id='run--507d3fcc-9d50-4002-8c11-258180046d45-0', usage_metadata={'input_tokens': 914, 'output_tokens': 559, 'total_tokens': 1473, 'input_token_details': {'audio': 0, 'cache_read': 0}, 'output_token_details': {'audio': 0, 'reasoning': 0}}),\n",
       "  HumanMessage(content='My name is Chris', additional_kwargs={}, response_metadata={}, id='82d31ebc-0ebd-42ab-aa12-735fe8644792'),\n",
       "  AIMessage(content='Nice to meet you, Chris! How can I assist you today?', additional_kwargs={'refusal': None}, response_metadata={'token_usage': {'completion_tokens': 15, 'prompt_tokens': 1494, 'total_tokens': 1509, 'completion_tokens_details': {'accepted_prediction_tokens': 0, 'audio_tokens': 0, 'reasoning_tokens': 0, 'rejected_prediction_tokens': 0}, 'prompt_tokens_details': {'audio_tokens': 0, 'cached_tokens': 0}}, 'model_name': 'gpt-4o-mini-2024-07-18', 'system_fingerprint': 'fp_34a54ae93c', 'id': 'chatcmpl-BlraUsAbIkwGhKvw9CdYzBEhz2D7t', 'service_tier': 'default', 'finish_reason': 'stop', 'logprobs': None}, id='run--b65071ee-807c-448d-91a0-6bd25a8c207a-0', usage_metadata={'input_tokens': 1494, 'output_tokens': 15, 'total_tokens': 1509, 'input_token_details': {'audio': 0, 'cache_read': 0}, 'output_token_details': {'audio': 0, 'reasoning': 0}}),\n",
       "  HumanMessage(content='What is my name?', additional_kwargs={}, response_metadata={}, id='73ad12c6-4c9e-45e4-9bde-d526d926dc97'),\n",
       "  AIMessage(content='Your name is Chris. How can I help you today?', additional_kwargs={'refusal': None}, response_metadata={'token_usage': {'completion_tokens': 13, 'prompt_tokens': 1521, 'total_tokens': 1534, 'completion_tokens_details': {'accepted_prediction_tokens': 0, 'audio_tokens': 0, 'reasoning_tokens': 0, 'rejected_prediction_tokens': 0}, 'prompt_tokens_details': {'audio_tokens': 0, 'cached_tokens': 1408}}, 'model_name': 'gpt-4o-mini-2024-07-18', 'system_fingerprint': 'fp_34a54ae93c', 'id': 'chatcmpl-BlracG49ruvzpHWtAAxnjo15dV6Ty', 'service_tier': 'default', 'finish_reason': 'stop', 'logprobs': None}, id='run--7e6c56bb-f988-4033-b726-eab70460e575-0', usage_metadata={'input_tokens': 1521, 'output_tokens': 13, 'total_tokens': 1534, 'input_token_details': {'audio': 0, 'cache_read': 1408}, 'output_token_details': {'audio': 0, 'reasoning': 0}}),\n",
       "  HumanMessage(content='Who is Ed Donnar? Send me a notification about Ed.', additional_kwargs={}, response_metadata={}, id='6100571b-ed82-4f74-80ba-298dac678708'),\n",
       "  AIMessage(content='', additional_kwargs={'tool_calls': [{'id': 'call_1wwlmqZTNoPf1fotbBrJRMLV', 'function': {'arguments': '{\"__arg1\":\"Ed Donnar\"}', 'name': 'Serper_Search'}, 'type': 'function'}], 'refusal': None}, response_metadata={'token_usage': {'completion_tokens': 20, 'prompt_tokens': 1554, 'total_tokens': 1574, 'completion_tokens_details': {'accepted_prediction_tokens': 0, 'audio_tokens': 0, 'reasoning_tokens': 0, 'rejected_prediction_tokens': 0}, 'prompt_tokens_details': {'audio_tokens': 0, 'cached_tokens': 1408}}, 'model_name': 'gpt-4o-mini-2024-07-18', 'system_fingerprint': 'fp_34a54ae93c', 'id': 'chatcmpl-Blrb08SN588sh2DnbDQvzDlWTgW9i', 'service_tier': 'default', 'finish_reason': 'tool_calls', 'logprobs': None}, id='run--1e45de0f-0138-40dc-b1a5-26251b3abbf8-0', tool_calls=[{'name': 'Serper_Search', 'args': {'__arg1': 'Ed Donnar'}, 'id': 'call_1wwlmqZTNoPf1fotbBrJRMLV', 'type': 'tool_call'}], usage_metadata={'input_tokens': 1554, 'output_tokens': 20, 'total_tokens': 1574, 'input_token_details': {'audio': 0, 'cache_read': 1408}, 'output_token_details': {'audio': 0, 'reasoning': 0}}),\n",
       "  ToolMessage(content=\"I'm a technology leader and entrepreneur. I'm applying AI to a field where it can make a… · Experience: Nebula.io · Location: New York · 500+ connections on ... I'm the co-founder and CTO of Nebula.io. We're applying AI to a field where it can make a massive, positive impact: helping people discover their potential and ... Co-Founder and CTO at AI startup Nebula.io. ed-donner has 11 repositories available. Follow their code on GitHub. He's the co-founder and CTO of Nebula, the platform to source, understand, engage and manage talent, using Generative AI and other forms of machine learning. Edward Donner ; The P in GPT - a down-to-earth explainer of gradient descent. 2.8K views ; The most bewildering superpower of ChatGPT and other LLMs. 1.4K views. We'll be building immensely satisfying projects in the coming weeks. Some will be easy, some will be challenging, many will ASTOUND you! 8 week course on Udemy on AI and LLM Engineering. As part of the course, we build a number of chunky commercial projects. Ed Donner is a technology leader and repeat founder of AI startups. He's the co-founder and CTO of Nebula.io, the platform to source, understand, ... Ed Donner · ed-donner · eddonner. AI & ML interests. Gen AI, LLM engineering, benchmarks and arenas. Recent Activity. updated a dataset 13 days ago. ed-donner ... Ai #AIEngineering #DataScience Ed Donner co-founded AI-driven recruitment platform, Nebula.io, with The SuperDataScience Podcast's host, ...\", name='Serper_Search', id='a8ecb1b4-065d-44c3-9411-b13e5fd5b74f', tool_call_id='call_1wwlmqZTNoPf1fotbBrJRMLV'),\n",
       "  AIMessage(content='', additional_kwargs={'tool_calls': [{'id': 'call_w7HGUu6ZpcqJQjSlrEh79TSv', 'function': {'arguments': '{\"__arg1\":\"Ed Donner is a technology leader and entrepreneur. He is the co-founder and CTO of Nebula.io, an AI-driven recruitment platform. Ed focuses on applying AI to help people discover their potential.\"}', 'name': 'Pushover_Notification'}, 'type': 'function'}], 'refusal': None}, response_metadata={'token_usage': {'completion_tokens': 57, 'prompt_tokens': 1921, 'total_tokens': 1978, 'completion_tokens_details': {'accepted_prediction_tokens': 0, 'audio_tokens': 0, 'reasoning_tokens': 0, 'rejected_prediction_tokens': 0}, 'prompt_tokens_details': {'audio_tokens': 0, 'cached_tokens': 1536}}, 'model_name': 'gpt-4o-mini-2024-07-18', 'system_fingerprint': 'fp_34a54ae93c', 'id': 'chatcmpl-Blrb3jb4UilxuRkuIOBUo3HwiqMxP', 'service_tier': 'default', 'finish_reason': 'tool_calls', 'logprobs': None}, id='run--79a93ff1-d927-452e-8ee8-344c0284f6e7-0', tool_calls=[{'name': 'Pushover_Notification', 'args': {'__arg1': 'Ed Donner is a technology leader and entrepreneur. He is the co-founder and CTO of Nebula.io, an AI-driven recruitment platform. Ed focuses on applying AI to help people discover their potential.'}, 'id': 'call_w7HGUu6ZpcqJQjSlrEh79TSv', 'type': 'tool_call'}], usage_metadata={'input_tokens': 1921, 'output_tokens': 57, 'total_tokens': 1978, 'input_token_details': {'audio': 0, 'cache_read': 1536}, 'output_token_details': {'audio': 0, 'reasoning': 0}}),\n",
       "  ToolMessage(content='null', name='Pushover_Notification', id='132daa6a-b648-4deb-b017-026119b4ba08', tool_call_id='call_w7HGUu6ZpcqJQjSlrEh79TSv'),\n",
       "  AIMessage(content='I\\'ve sent you a notification about Ed Donner:\\n\\n\"Ed Donner is a technology leader and entrepreneur. He is the co-founder and CTO of Nebula.io, an AI-driven recruitment platform. Ed focuses on applying AI to help people discover their potential.\"\\n\\nIf you need more information or anything else, just let me know!', additional_kwargs={'refusal': None}, response_metadata={'token_usage': {'completion_tokens': 64, 'prompt_tokens': 1990, 'total_tokens': 2054, 'completion_tokens_details': {'accepted_prediction_tokens': 0, 'audio_tokens': 0, 'reasoning_tokens': 0, 'rejected_prediction_tokens': 0}, 'prompt_tokens_details': {'audio_tokens': 0, 'cached_tokens': 0}}, 'model_name': 'gpt-4o-mini-2024-07-18', 'system_fingerprint': 'fp_34a54ae93c', 'id': 'chatcmpl-Blrb52Np30DLpLLyyDwQSa9CZLtlP', 'service_tier': 'default', 'finish_reason': 'stop', 'logprobs': None}, id='run--e07a9d61-66da-4ef6-b39e-91de7a9543e6-0', usage_metadata={'input_tokens': 1990, 'output_tokens': 64, 'total_tokens': 2054, 'input_token_details': {'audio': 0, 'cache_read': 0}, 'output_token_details': {'audio': 0, 'reasoning': 0}}),\n",
       "  HumanMessage(content='What is my name?', additional_kwargs={}, response_metadata={}, id='41f71ffa-e00e-45e0-a684-e98a704d0742'),\n",
       "  AIMessage(content='Your name is Chris. How can I assist you today?', additional_kwargs={'refusal': None}, response_metadata={'token_usage': {'completion_tokens': 13, 'prompt_tokens': 2066, 'total_tokens': 2079, 'completion_tokens_details': {'accepted_prediction_tokens': 0, 'audio_tokens': 0, 'reasoning_tokens': 0, 'rejected_prediction_tokens': 0}, 'prompt_tokens_details': {'audio_tokens': 0, 'cached_tokens': 0}}, 'model_name': 'gpt-4o-mini-2024-07-18', 'system_fingerprint': 'fp_34a54ae93c', 'id': 'chatcmpl-Blrusx0a48JcjhXA4Nrl1t66B6Hs9', 'service_tier': 'default', 'finish_reason': 'stop', 'logprobs': None}, id='run--bacfc673-d572-4889-a4cf-c11c5ade13d8-0', usage_metadata={'input_tokens': 2066, 'output_tokens': 13, 'total_tokens': 2079, 'input_token_details': {'audio': 0, 'cache_read': 0}, 'output_token_details': {'audio': 0, 'reasoning': 0}}),\n",
       "  HumanMessage(content='What is my name?', additional_kwargs={}, response_metadata={}, id='83b01d4e-f3cb-441c-b619-de15515b8153'),\n",
       "  AIMessage(content='Your name is Chris. Let me know how I can help you!', additional_kwargs={'refusal': None}, response_metadata={'token_usage': {'completion_tokens': 15, 'prompt_tokens': 2091, 'total_tokens': 2106, 'completion_tokens_details': {'accepted_prediction_tokens': 0, 'audio_tokens': 0, 'reasoning_tokens': 0, 'rejected_prediction_tokens': 0}, 'prompt_tokens_details': {'audio_tokens': 0, 'cached_tokens': 0}}, 'model_name': 'gpt-4o-mini-2024-07-18', 'system_fingerprint': 'fp_34a54ae93c', 'id': 'chatcmpl-BlrvSZzkIXYXpy0yFIcdhUcWI3Xgl', 'service_tier': 'default', 'finish_reason': 'stop', 'logprobs': None}, id='run--4fde752a-498c-4121-b19c-7fd187dfb754-0', usage_metadata={'input_tokens': 2091, 'output_tokens': 15, 'total_tokens': 2106, 'input_token_details': {'audio': 0, 'cache_read': 0}, 'output_token_details': {'audio': 0, 'reasoning': 0}})]}"
      ]
     },
     "execution_count": 25,
     "metadata": {},
     "output_type": "execute_result"
    }
   ],
   "source": [
    "state = graph.get_state(config)\n",
    "print(f\"🔢 Number of states: {len(state)}\\n\")\n",
    "state[0]"
   ]
  },
  {
   "cell_type": "code",
   "execution_count": 26,
   "metadata": {},
   "outputs": [
    {
     "name": "stdout",
     "output_type": "stream",
     "text": [
      "🔢 Get State Length: 57 \n",
      "\n",
      "📌 Most Recent State Snapshot:\n",
      " StateSnapshot(values={'messages': [HumanMessage(content='hi there', additional_kwargs={}, response_metadata={}, id='d6144090-9963-438c-b21b-3fb4f06edbc0'), AIMessage(content='Hello! How can I assist you today?', additional_kwargs={'refusal': None}, response_metadata={'token_usage': {'completion_tokens': 11, 'prompt_tokens': 90, 'total_tokens': 101, 'completion_tokens_details': {'accepted_prediction_tokens': 0, 'audio_tokens': 0, 'reasoning_tokens': 0, 'rejected_prediction_tokens': 0}, 'prompt_tokens_details': {'audio_tokens': 0, 'cached_tokens': 0}}, 'model_name': 'gpt-4o-mini-2024-07-18', 'system_fingerprint': 'fp_b376dfbbd5', 'id': 'chatcmpl-BInN7JUnEYNTQqokCF3eihp5oKP0V', 'finish_reason': 'stop', 'logprobs': None}, id='run-4b488710-73ac-435e-a944-913a0c812d08-0', usage_metadata={'input_tokens': 90, 'output_tokens': 11, 'total_tokens': 101, 'input_token_details': {'audio': 0, 'cache_read': 0}, 'output_token_details': {'audio': 0, 'reasoning': 0}}), HumanMessage(content=\"what's my name\", additional_kwargs={}, response_metadata={}, id='0ee3236f-a0f8-487c-9e18-3a1a83e91d81'), AIMessage(content=\"I don't have access to personal information unless you provide it. What would you like me to call you?\", additional_kwargs={'refusal': None}, response_metadata={'token_usage': {'completion_tokens': 23, 'prompt_tokens': 111, 'total_tokens': 134, 'completion_tokens_details': {'accepted_prediction_tokens': 0, 'audio_tokens': 0, 'reasoning_tokens': 0, 'rejected_prediction_tokens': 0}, 'prompt_tokens_details': {'audio_tokens': 0, 'cached_tokens': 0}}, 'model_name': 'gpt-4o-mini-2024-07-18', 'system_fingerprint': 'fp_b376dfbbd5', 'id': 'chatcmpl-BInNEm0T32rf7Lx23sOvrcePfgL8d', 'finish_reason': 'stop', 'logprobs': None}, id='run-c12bd46c-0c94-475c-b281-89773b1947a2-0', usage_metadata={'input_tokens': 111, 'output_tokens': 23, 'total_tokens': 134, 'input_token_details': {'audio': 0, 'cache_read': 0}, 'output_token_details': {'audio': 0, 'reasoning': 0}}), HumanMessage(content=\"My name's Ed\", additional_kwargs={}, response_metadata={}, id='65e59191-b993-4faf-9699-197f70b79fcd'), AIMessage(content='Nice to meet you, Ed! How can I assist you today?', additional_kwargs={'refusal': None}, response_metadata={'token_usage': {'completion_tokens': 16, 'prompt_tokens': 144, 'total_tokens': 160, 'completion_tokens_details': {'accepted_prediction_tokens': 0, 'audio_tokens': 0, 'reasoning_tokens': 0, 'rejected_prediction_tokens': 0}, 'prompt_tokens_details': {'audio_tokens': 0, 'cached_tokens': 0}}, 'model_name': 'gpt-4o-mini-2024-07-18', 'system_fingerprint': 'fp_b376dfbbd5', 'id': 'chatcmpl-BInNLLW9Z5vrmr2MUfk6CLJBnCMOg', 'finish_reason': 'stop', 'logprobs': None}, id='run-68e08e4e-bc27-4802-b800-8fb359a5d976-0', usage_metadata={'input_tokens': 144, 'output_tokens': 16, 'total_tokens': 160, 'input_token_details': {'audio': 0, 'cache_read': 0}, 'output_token_details': {'audio': 0, 'reasoning': 0}}), HumanMessage(content='hi there', additional_kwargs={}, response_metadata={}, id='dfeeb914-53d6-404f-9a5c-0531f1fe43fe'), AIMessage(content='Hello again, Ed! How can I help you today?', additional_kwargs={'refusal': None}, response_metadata={'token_usage': {'completion_tokens': 14, 'prompt_tokens': 168, 'total_tokens': 182, 'completion_tokens_details': {'accepted_prediction_tokens': 0, 'audio_tokens': 0, 'reasoning_tokens': 0, 'rejected_prediction_tokens': 0}, 'prompt_tokens_details': {'audio_tokens': 0, 'cached_tokens': 0}}, 'model_name': 'gpt-4o-mini-2024-07-18', 'system_fingerprint': 'fp_b376dfbbd5', 'id': 'chatcmpl-BInOS7TKECQA9Trbcv3mBsxkVJ8c3', 'finish_reason': 'stop', 'logprobs': None}, id='run-8b9e7d2c-d34d-4d84-99d2-dcb6b26b84bf-0', usage_metadata={'input_tokens': 168, 'output_tokens': 14, 'total_tokens': 182, 'input_token_details': {'audio': 0, 'cache_read': 0}, 'output_token_details': {'audio': 0, 'reasoning': 0}}), HumanMessage(content='please send me a push notification with the current usd/gbp exchange rate', additional_kwargs={}, response_metadata={}, id='6e096518-8d44-40e9-8aba-bf5027dac79c'), AIMessage(content='', additional_kwargs={'tool_calls': [{'id': 'call_mFP2QpmSUYlvqjz3HBvRv0Cv', 'function': {'arguments': '{\"__arg1\":\"current USD to GBP exchange rate\"}', 'name': 'search'}, 'type': 'function'}], 'refusal': None}, response_metadata={'token_usage': {'completion_tokens': 21, 'prompt_tokens': 203, 'total_tokens': 224, 'completion_tokens_details': {'accepted_prediction_tokens': 0, 'audio_tokens': 0, 'reasoning_tokens': 0, 'rejected_prediction_tokens': 0}, 'prompt_tokens_details': {'audio_tokens': 0, 'cached_tokens': 0}}, 'model_name': 'gpt-4o-mini-2024-07-18', 'system_fingerprint': 'fp_b376dfbbd5', 'id': 'chatcmpl-BInShCTgCsggydsrv3MmpIXLyvzGF', 'finish_reason': 'tool_calls', 'logprobs': None}, id='run-1bc3e47d-30c5-40f4-a9da-42dd24e74732-0', tool_calls=[{'name': 'search', 'args': {'__arg1': 'current USD to GBP exchange rate'}, 'id': 'call_mFP2QpmSUYlvqjz3HBvRv0Cv', 'type': 'tool_call'}], usage_metadata={'input_tokens': 203, 'output_tokens': 21, 'total_tokens': 224, 'input_token_details': {'audio': 0, 'cache_read': 0}, 'output_token_details': {'audio': 0, 'reasoning': 0}}), ToolMessage(content='0.78 Pound sterling', name='search', id='04044643-e40a-4bda-a03c-bc80949d039c', tool_call_id='call_mFP2QpmSUYlvqjz3HBvRv0Cv'), AIMessage(content='', additional_kwargs={'tool_calls': [{'id': 'call_2RByu6cFdwow5BWX8eblN402', 'function': {'arguments': '{\"__arg1\":\"The current USD/GBP exchange rate is 0.78.\"}', 'name': 'send_push_notification'}, 'type': 'function'}], 'refusal': None}, response_metadata={'token_usage': {'completion_tokens': 30, 'prompt_tokens': 235, 'total_tokens': 265, 'completion_tokens_details': {'accepted_prediction_tokens': 0, 'audio_tokens': 0, 'reasoning_tokens': 0, 'rejected_prediction_tokens': 0}, 'prompt_tokens_details': {'audio_tokens': 0, 'cached_tokens': 0}}, 'model_name': 'gpt-4o-mini-2024-07-18', 'system_fingerprint': 'fp_b376dfbbd5', 'id': 'chatcmpl-BInSjgdmKJqByJ2VIxpCZE5vEQpep', 'finish_reason': 'tool_calls', 'logprobs': None}, id='run-030db0cd-4acc-4354-aa65-ae772d33be07-0', tool_calls=[{'name': 'send_push_notification', 'args': {'__arg1': 'The current USD/GBP exchange rate is 0.78.'}, 'id': 'call_2RByu6cFdwow5BWX8eblN402', 'type': 'tool_call'}], usage_metadata={'input_tokens': 235, 'output_tokens': 30, 'total_tokens': 265, 'input_token_details': {'audio': 0, 'cache_read': 0}, 'output_token_details': {'audio': 0, 'reasoning': 0}}), ToolMessage(content='null', name='send_push_notification', id='f16f6e9d-2d0e-4aca-991f-0d9fe7064574', tool_call_id='call_2RByu6cFdwow5BWX8eblN402'), AIMessage(content=\"I've sent you a push notification with the current USD/GBP exchange rate: 0.78. If you need anything else, just let me know!\", additional_kwargs={'refusal': None}, response_metadata={'token_usage': {'completion_tokens': 33, 'prompt_tokens': 274, 'total_tokens': 307, 'completion_tokens_details': {'accepted_prediction_tokens': 0, 'audio_tokens': 0, 'reasoning_tokens': 0, 'rejected_prediction_tokens': 0}, 'prompt_tokens_details': {'audio_tokens': 0, 'cached_tokens': 0}}, 'model_name': 'gpt-4o-mini-2024-07-18', 'system_fingerprint': 'fp_b376dfbbd5', 'id': 'chatcmpl-BInSk4W7o3wDEZhzLtixtWOVgEw4Y', 'finish_reason': 'stop', 'logprobs': None}, id='run-bc27a847-b5bf-4565-85af-8e3163f2c271-0', usage_metadata={'input_tokens': 274, 'output_tokens': 33, 'total_tokens': 307, 'input_token_details': {'audio': 0, 'cache_read': 0}, 'output_token_details': {'audio': 0, 'reasoning': 0}}), HumanMessage(content='can you send that push notification again please', additional_kwargs={}, response_metadata={}, id='328adc3d-8c39-4312-952c-3d3b87d5f736'), AIMessage(content='', additional_kwargs={'tool_calls': [{'id': 'call_9xFtRNwSPl00BBRdY3VGdZ9Y', 'function': {'arguments': '{\"__arg1\":\"The current USD/GBP exchange rate is 0.78.\"}', 'name': 'send_push_notification'}, 'type': 'function'}], 'refusal': None}, response_metadata={'token_usage': {'completion_tokens': 30, 'prompt_tokens': 321, 'total_tokens': 351, 'completion_tokens_details': {'accepted_prediction_tokens': 0, 'audio_tokens': 0, 'reasoning_tokens': 0, 'rejected_prediction_tokens': 0}, 'prompt_tokens_details': {'audio_tokens': 0, 'cached_tokens': 0}}, 'model_name': 'gpt-4o-mini-2024-07-18', 'system_fingerprint': 'fp_b376dfbbd5', 'id': 'chatcmpl-BInTHUIOvZ0DAwfqnVlb1SRlaKHmH', 'finish_reason': 'tool_calls', 'logprobs': None}, id='run-a2225381-34da-44b4-9e8d-45a0b8c29693-0', tool_calls=[{'name': 'send_push_notification', 'args': {'__arg1': 'The current USD/GBP exchange rate is 0.78.'}, 'id': 'call_9xFtRNwSPl00BBRdY3VGdZ9Y', 'type': 'tool_call'}], usage_metadata={'input_tokens': 321, 'output_tokens': 30, 'total_tokens': 351, 'input_token_details': {'audio': 0, 'cache_read': 0}, 'output_token_details': {'audio': 0, 'reasoning': 0}}), ToolMessage(content='null', name='send_push_notification', id='433985ee-9eeb-4b4b-866e-23cfc0f8e9fb', tool_call_id='call_9xFtRNwSPl00BBRdY3VGdZ9Y'), AIMessage(content=\"I've sent the push notification again with the current USD/GBP exchange rate: 0.78. If there's anything else you need, feel free to ask!\", additional_kwargs={'refusal': None}, response_metadata={'token_usage': {'completion_tokens': 34, 'prompt_tokens': 360, 'total_tokens': 394, 'completion_tokens_details': {'accepted_prediction_tokens': 0, 'audio_tokens': 0, 'reasoning_tokens': 0, 'rejected_prediction_tokens': 0}, 'prompt_tokens_details': {'audio_tokens': 0, 'cached_tokens': 0}}, 'model_name': 'gpt-4o-mini-2024-07-18', 'system_fingerprint': 'fp_b376dfbbd5', 'id': 'chatcmpl-BInTJ24F3iaC2JFCLGFb715HxeWU9', 'finish_reason': 'stop', 'logprobs': None}, id='run-eda57a8e-26a4-4aed-a3c6-ce404e2d5cfa-0', usage_metadata={'input_tokens': 360, 'output_tokens': 34, 'total_tokens': 394, 'input_token_details': {'audio': 0, 'cache_read': 0}, 'output_token_details': {'audio': 0, 'reasoning': 0}}), HumanMessage(content='Hello', additional_kwargs={}, response_metadata={}, id='f639e69d-60c0-44c1-ac02-b9dea02bcbf9'), AIMessage(content='Hello, Ed! How can I help you today?', additional_kwargs={'refusal': None}, response_metadata={'token_usage': {'completion_tokens': 12, 'prompt_tokens': 401, 'total_tokens': 413, 'completion_tokens_details': {'accepted_prediction_tokens': 0, 'audio_tokens': 0, 'reasoning_tokens': 0, 'rejected_prediction_tokens': 0}, 'prompt_tokens_details': {'audio_tokens': 0, 'cached_tokens': 0}}, 'model_name': 'gpt-4o-mini-2024-07-18', 'system_fingerprint': 'fp_34a54ae93c', 'id': 'chatcmpl-BlXsYgjbZ2bC3dPk8QQYSbr2x4HpZ', 'service_tier': 'default', 'finish_reason': 'stop', 'logprobs': None}, id='run--d76661e2-e3fa-4ba5-862a-9258ac186bf3-0', usage_metadata={'input_tokens': 401, 'output_tokens': 12, 'total_tokens': 413, 'input_token_details': {'audio': 0, 'cache_read': 0}, 'output_token_details': {'audio': 0, 'reasoning': 0}}), HumanMessage(content='What is my name?', additional_kwargs={}, response_metadata={}, id='0408b14e-4eac-458c-8d60-43c56d90fd20'), AIMessage(content='Your name is Ed. How can I assist you today?', additional_kwargs={'refusal': None}, response_metadata={'token_usage': {'completion_tokens': 13, 'prompt_tokens': 425, 'total_tokens': 438, 'completion_tokens_details': {'accepted_prediction_tokens': 0, 'audio_tokens': 0, 'reasoning_tokens': 0, 'rejected_prediction_tokens': 0}, 'prompt_tokens_details': {'audio_tokens': 0, 'cached_tokens': 0}}, 'model_name': 'gpt-4o-mini-2024-07-18', 'system_fingerprint': 'fp_34a54ae93c', 'id': 'chatcmpl-BlXshhRaEjoT3AQ7xOZpFKVPP15R1', 'service_tier': 'default', 'finish_reason': 'stop', 'logprobs': None}, id='run--a02610b5-84ed-40c3-a7ad-57d9a72de6ec-0', usage_metadata={'input_tokens': 425, 'output_tokens': 13, 'total_tokens': 438, 'input_token_details': {'audio': 0, 'cache_read': 0}, 'output_token_details': {'audio': 0, 'reasoning': 0}}), HumanMessage(content='Do you familar with LangGraph?', additional_kwargs={}, response_metadata={}, id='76092f4d-167b-4b83-96c6-12293ba0c3d2'), AIMessage(content='', additional_kwargs={'tool_calls': [{'id': 'call_mNZG5BLEZgATfdaSsu57TqgV', 'function': {'arguments': '{\"__arg1\":\"LangGraph\"}', 'name': 'search'}, 'type': 'function'}], 'refusal': None}, response_metadata={'token_usage': {'completion_tokens': 16, 'prompt_tokens': 453, 'total_tokens': 469, 'completion_tokens_details': {'accepted_prediction_tokens': 0, 'audio_tokens': 0, 'reasoning_tokens': 0, 'rejected_prediction_tokens': 0}, 'prompt_tokens_details': {'audio_tokens': 0, 'cached_tokens': 0}}, 'model_name': 'gpt-4o-mini-2024-07-18', 'system_fingerprint': 'fp_34a54ae93c', 'id': 'chatcmpl-BlXsvoQ6o2npGmoiDcgtjWBHL0VGD', 'service_tier': 'default', 'finish_reason': 'tool_calls', 'logprobs': None}, id='run--ae9f4166-f7c7-4712-8778-ee376cda5518-0', tool_calls=[{'name': 'search', 'args': {'__arg1': 'LangGraph'}, 'id': 'call_mNZG5BLEZgATfdaSsu57TqgV', 'type': 'tool_call'}], usage_metadata={'input_tokens': 453, 'output_tokens': 16, 'total_tokens': 469, 'input_token_details': {'audio': 0, 'cache_read': 0}, 'output_token_details': {'audio': 0, 'reasoning': 0}}), ToolMessage(content=\"LangGraph is a stateful, orchestration framework that brings added control to agent workflows. LangGraph Platform is a service for deploying and scaling ... LangGraph provides low-level supporting infrastructure for any long-running, stateful workflow or agent. LangGraph does not abstract prompts or architecture, ... LangGraph, created by LangChain, is an open source AI agent framework designed to build, deploy and manage complex generative AI agent workflows. LangGraph is built for developers who want to build powerful, adaptable AI agents. Developers choose LangGraph for: Reliability and controllability. Steer agent ... LangGraph is a graph library from the same folks as LangChain and therefore is LangChain-aware. However, at it's core, LangGraph is a standalone ... LangGraph is a framework for building stateful LLM applications, making it a good choice for constructing ReAct (Reasoning and Acting) Agents. LangGraph Studio is a specialized agent IDE that enables visualization, interaction, and debugging of agentic systems that implement the LangGraph Server ... Check out PyCharm, the Python IDE for data and web professionals: https://jb.gg/try-pycharm-ide Free 3-Month Personal Subscription for ... LangGraph Studio offers a new way to develop LLM applications by providing a specialized agent IDE that enables visualization, interaction, and debugging of ...\", name='search', id='ad19345a-2b16-4190-8a7b-ce6c2e1d98fb', tool_call_id='call_mNZG5BLEZgATfdaSsu57TqgV'), AIMessage(content='LangGraph is an orchestration framework designed for building and managing complex generative AI agent workflows. It allows developers to create stateful, long-running workflows with added control over agent processes. Developed by LangChain, LangGraph is open-source and is particularly useful for constructing ReAct (Reasoning and Acting) Agents.\\n\\nKey features of LangGraph include:\\n- **Reliability and Controllability:** It provides a robust infrastructure for managing AI agents.\\n- **Standalone Framework:** Although it is built on the principles of LangChain, it functions independently.\\n- **LangGraph Studio:** A specialized IDE for visualizing, interacting with, and debugging agent systems.\\n\\nIf you have specific questions about LangGraph or want to know more, feel free to ask!', additional_kwargs={'refusal': None}, response_metadata={'token_usage': {'completion_tokens': 150, 'prompt_tokens': 744, 'total_tokens': 894, 'completion_tokens_details': {'accepted_prediction_tokens': 0, 'audio_tokens': 0, 'reasoning_tokens': 0, 'rejected_prediction_tokens': 0}, 'prompt_tokens_details': {'audio_tokens': 0, 'cached_tokens': 0}}, 'model_name': 'gpt-4o-mini-2024-07-18', 'system_fingerprint': 'fp_34a54ae93c', 'id': 'chatcmpl-BlXsxMNGXfyjARA0S0zBJ4wbD81F9', 'service_tier': 'default', 'finish_reason': 'stop', 'logprobs': None}, id='run--baa03248-a42e-457d-b021-83b8124b37b2-0', usage_metadata={'input_tokens': 744, 'output_tokens': 150, 'total_tokens': 894, 'input_token_details': {'audio': 0, 'cache_read': 0}, 'output_token_details': {'audio': 0, 'reasoning': 0}}), HumanMessage(content='Give me the steps to build up a LangGraph python code.', additional_kwargs={}, response_metadata={}, id='11608578-21ed-4ba5-b602-1a55e1dd01a7'), AIMessage(content='To build a LangGraph application in Python, you can follow these general steps:\\n\\n### Step 1: Set Up Your Environment\\n1. **Install Python:** Ensure you have Python installed on your machine. You can download it from [python.org](https://www.python.org/).\\n2. **Create a Virtual Environment (Optional):** It\\'s advisable to create a virtual environment for your project.\\n   ```bash\\n   python -m venv langgraph_env\\n   source langgraph_env/bin/activate  # On Windows use `langgraph_env\\\\Scripts\\\\activate`\\n   ```\\n\\n### Step 2: Install LangGraph\\nInstall LangGraph using pip:\\n```bash\\npip install langgraph\\n```\\n\\n### Step 3: Create Your Project Structure\\nCreate a directory for your LangGraph project. Inside this directory, create the necessary files:\\n```\\nmy_langgraph_project/\\n    ├── main.py\\n    └── requirements.txt\\n```\\n\\n### Step 4: Write Your LangGraph Code\\nOpen `main.py` and start coding your LangGraph application. Here’s a simple template:\\n\\n```python\\nfrom langgraph import LangGraph, Agent\\n\\n# Define your agent\\'s behavior\\nclass MyAgent(Agent):\\n    def run(self, input_data):\\n        # Define your agent\\'s logic here\\n        response = f\"Processed input: {input_data}\"\\n        return response\\n\\n# Main function to set up and run your LangGraph\\ndef main():\\n    # Create a LangGraph instance\\n    graph = LangGraph()\\n\\n    # Add your agent to the graph\\n    my_agent = MyAgent()\\n    graph.add_agent(my_agent)\\n\\n    # Run the graph with some input\\n    result = graph.run(\"Hello, LangGraph!\")\\n    print(result)\\n\\nif __name__ == \"__main__\":\\n    main()\\n```\\n\\n### Step 5: Install Additional Dependencies\\nIf your project requires specific dependencies, add them to `requirements.txt`. You can install all dependencies listed in this file using:\\n```bash\\npip install -r requirements.txt\\n```\\n\\n### Step 6: Run Your Project\\nRun your LangGraph application:\\n```bash\\npython main.py\\n```\\n\\n### Step 7: Expand and Customize\\n- **Add More Agents:** Create additional agents and define their behaviors as needed.\\n- **Integrate APIs or Data Sources:** Connect your agents to databases or external APIs for more functionality.\\n- **Testing and Debugging:** Utilize LangGraph Studio for visualization and debugging during development.\\n\\n### Step 8: Documentation and Further Learning\\nRefer to the [LangGraph documentation](https://langgraph.readthedocs.io/) for more detailed instructions, examples, and advanced features.\\n\\nFeel free to ask if you need further assistance with any specific step!', additional_kwargs={'refusal': None}, response_metadata={'token_usage': {'completion_tokens': 559, 'prompt_tokens': 914, 'total_tokens': 1473, 'completion_tokens_details': {'accepted_prediction_tokens': 0, 'audio_tokens': 0, 'reasoning_tokens': 0, 'rejected_prediction_tokens': 0}, 'prompt_tokens_details': {'audio_tokens': 0, 'cached_tokens': 0}}, 'model_name': 'gpt-4o-mini-2024-07-18', 'system_fingerprint': 'fp_34a54ae93c', 'id': 'chatcmpl-BlXtXHV5lNj41hSfDKCOcrwzWKp5X', 'service_tier': 'default', 'finish_reason': 'stop', 'logprobs': None}, id='run--507d3fcc-9d50-4002-8c11-258180046d45-0', usage_metadata={'input_tokens': 914, 'output_tokens': 559, 'total_tokens': 1473, 'input_token_details': {'audio': 0, 'cache_read': 0}, 'output_token_details': {'audio': 0, 'reasoning': 0}}), HumanMessage(content='My name is Chris', additional_kwargs={}, response_metadata={}, id='82d31ebc-0ebd-42ab-aa12-735fe8644792'), AIMessage(content='Nice to meet you, Chris! How can I assist you today?', additional_kwargs={'refusal': None}, response_metadata={'token_usage': {'completion_tokens': 15, 'prompt_tokens': 1494, 'total_tokens': 1509, 'completion_tokens_details': {'accepted_prediction_tokens': 0, 'audio_tokens': 0, 'reasoning_tokens': 0, 'rejected_prediction_tokens': 0}, 'prompt_tokens_details': {'audio_tokens': 0, 'cached_tokens': 0}}, 'model_name': 'gpt-4o-mini-2024-07-18', 'system_fingerprint': 'fp_34a54ae93c', 'id': 'chatcmpl-BlraUsAbIkwGhKvw9CdYzBEhz2D7t', 'service_tier': 'default', 'finish_reason': 'stop', 'logprobs': None}, id='run--b65071ee-807c-448d-91a0-6bd25a8c207a-0', usage_metadata={'input_tokens': 1494, 'output_tokens': 15, 'total_tokens': 1509, 'input_token_details': {'audio': 0, 'cache_read': 0}, 'output_token_details': {'audio': 0, 'reasoning': 0}}), HumanMessage(content='What is my name?', additional_kwargs={}, response_metadata={}, id='73ad12c6-4c9e-45e4-9bde-d526d926dc97'), AIMessage(content='Your name is Chris. How can I help you today?', additional_kwargs={'refusal': None}, response_metadata={'token_usage': {'completion_tokens': 13, 'prompt_tokens': 1521, 'total_tokens': 1534, 'completion_tokens_details': {'accepted_prediction_tokens': 0, 'audio_tokens': 0, 'reasoning_tokens': 0, 'rejected_prediction_tokens': 0}, 'prompt_tokens_details': {'audio_tokens': 0, 'cached_tokens': 1408}}, 'model_name': 'gpt-4o-mini-2024-07-18', 'system_fingerprint': 'fp_34a54ae93c', 'id': 'chatcmpl-BlracG49ruvzpHWtAAxnjo15dV6Ty', 'service_tier': 'default', 'finish_reason': 'stop', 'logprobs': None}, id='run--7e6c56bb-f988-4033-b726-eab70460e575-0', usage_metadata={'input_tokens': 1521, 'output_tokens': 13, 'total_tokens': 1534, 'input_token_details': {'audio': 0, 'cache_read': 1408}, 'output_token_details': {'audio': 0, 'reasoning': 0}}), HumanMessage(content='Who is Ed Donnar? Send me a notification about Ed.', additional_kwargs={}, response_metadata={}, id='6100571b-ed82-4f74-80ba-298dac678708'), AIMessage(content='', additional_kwargs={'tool_calls': [{'id': 'call_1wwlmqZTNoPf1fotbBrJRMLV', 'function': {'arguments': '{\"__arg1\":\"Ed Donnar\"}', 'name': 'Serper_Search'}, 'type': 'function'}], 'refusal': None}, response_metadata={'token_usage': {'completion_tokens': 20, 'prompt_tokens': 1554, 'total_tokens': 1574, 'completion_tokens_details': {'accepted_prediction_tokens': 0, 'audio_tokens': 0, 'reasoning_tokens': 0, 'rejected_prediction_tokens': 0}, 'prompt_tokens_details': {'audio_tokens': 0, 'cached_tokens': 1408}}, 'model_name': 'gpt-4o-mini-2024-07-18', 'system_fingerprint': 'fp_34a54ae93c', 'id': 'chatcmpl-Blrb08SN588sh2DnbDQvzDlWTgW9i', 'service_tier': 'default', 'finish_reason': 'tool_calls', 'logprobs': None}, id='run--1e45de0f-0138-40dc-b1a5-26251b3abbf8-0', tool_calls=[{'name': 'Serper_Search', 'args': {'__arg1': 'Ed Donnar'}, 'id': 'call_1wwlmqZTNoPf1fotbBrJRMLV', 'type': 'tool_call'}], usage_metadata={'input_tokens': 1554, 'output_tokens': 20, 'total_tokens': 1574, 'input_token_details': {'audio': 0, 'cache_read': 1408}, 'output_token_details': {'audio': 0, 'reasoning': 0}}), ToolMessage(content=\"I'm a technology leader and entrepreneur. I'm applying AI to a field where it can make a… · Experience: Nebula.io · Location: New York · 500+ connections on ... I'm the co-founder and CTO of Nebula.io. We're applying AI to a field where it can make a massive, positive impact: helping people discover their potential and ... Co-Founder and CTO at AI startup Nebula.io. ed-donner has 11 repositories available. Follow their code on GitHub. He's the co-founder and CTO of Nebula, the platform to source, understand, engage and manage talent, using Generative AI and other forms of machine learning. Edward Donner ; The P in GPT - a down-to-earth explainer of gradient descent. 2.8K views ; The most bewildering superpower of ChatGPT and other LLMs. 1.4K views. We'll be building immensely satisfying projects in the coming weeks. Some will be easy, some will be challenging, many will ASTOUND you! 8 week course on Udemy on AI and LLM Engineering. As part of the course, we build a number of chunky commercial projects. Ed Donner is a technology leader and repeat founder of AI startups. He's the co-founder and CTO of Nebula.io, the platform to source, understand, ... Ed Donner · ed-donner · eddonner. AI & ML interests. Gen AI, LLM engineering, benchmarks and arenas. Recent Activity. updated a dataset 13 days ago. ed-donner ... Ai #AIEngineering #DataScience Ed Donner co-founded AI-driven recruitment platform, Nebula.io, with The SuperDataScience Podcast's host, ...\", name='Serper_Search', id='a8ecb1b4-065d-44c3-9411-b13e5fd5b74f', tool_call_id='call_1wwlmqZTNoPf1fotbBrJRMLV'), AIMessage(content='', additional_kwargs={'tool_calls': [{'id': 'call_w7HGUu6ZpcqJQjSlrEh79TSv', 'function': {'arguments': '{\"__arg1\":\"Ed Donner is a technology leader and entrepreneur. He is the co-founder and CTO of Nebula.io, an AI-driven recruitment platform. Ed focuses on applying AI to help people discover their potential.\"}', 'name': 'Pushover_Notification'}, 'type': 'function'}], 'refusal': None}, response_metadata={'token_usage': {'completion_tokens': 57, 'prompt_tokens': 1921, 'total_tokens': 1978, 'completion_tokens_details': {'accepted_prediction_tokens': 0, 'audio_tokens': 0, 'reasoning_tokens': 0, 'rejected_prediction_tokens': 0}, 'prompt_tokens_details': {'audio_tokens': 0, 'cached_tokens': 1536}}, 'model_name': 'gpt-4o-mini-2024-07-18', 'system_fingerprint': 'fp_34a54ae93c', 'id': 'chatcmpl-Blrb3jb4UilxuRkuIOBUo3HwiqMxP', 'service_tier': 'default', 'finish_reason': 'tool_calls', 'logprobs': None}, id='run--79a93ff1-d927-452e-8ee8-344c0284f6e7-0', tool_calls=[{'name': 'Pushover_Notification', 'args': {'__arg1': 'Ed Donner is a technology leader and entrepreneur. He is the co-founder and CTO of Nebula.io, an AI-driven recruitment platform. Ed focuses on applying AI to help people discover their potential.'}, 'id': 'call_w7HGUu6ZpcqJQjSlrEh79TSv', 'type': 'tool_call'}], usage_metadata={'input_tokens': 1921, 'output_tokens': 57, 'total_tokens': 1978, 'input_token_details': {'audio': 0, 'cache_read': 1536}, 'output_token_details': {'audio': 0, 'reasoning': 0}}), ToolMessage(content='null', name='Pushover_Notification', id='132daa6a-b648-4deb-b017-026119b4ba08', tool_call_id='call_w7HGUu6ZpcqJQjSlrEh79TSv'), AIMessage(content='I\\'ve sent you a notification about Ed Donner:\\n\\n\"Ed Donner is a technology leader and entrepreneur. He is the co-founder and CTO of Nebula.io, an AI-driven recruitment platform. Ed focuses on applying AI to help people discover their potential.\"\\n\\nIf you need more information or anything else, just let me know!', additional_kwargs={'refusal': None}, response_metadata={'token_usage': {'completion_tokens': 64, 'prompt_tokens': 1990, 'total_tokens': 2054, 'completion_tokens_details': {'accepted_prediction_tokens': 0, 'audio_tokens': 0, 'reasoning_tokens': 0, 'rejected_prediction_tokens': 0}, 'prompt_tokens_details': {'audio_tokens': 0, 'cached_tokens': 0}}, 'model_name': 'gpt-4o-mini-2024-07-18', 'system_fingerprint': 'fp_34a54ae93c', 'id': 'chatcmpl-Blrb52Np30DLpLLyyDwQSa9CZLtlP', 'service_tier': 'default', 'finish_reason': 'stop', 'logprobs': None}, id='run--e07a9d61-66da-4ef6-b39e-91de7a9543e6-0', usage_metadata={'input_tokens': 1990, 'output_tokens': 64, 'total_tokens': 2054, 'input_token_details': {'audio': 0, 'cache_read': 0}, 'output_token_details': {'audio': 0, 'reasoning': 0}}), HumanMessage(content='What is my name?', additional_kwargs={}, response_metadata={}, id='41f71ffa-e00e-45e0-a684-e98a704d0742'), AIMessage(content='Your name is Chris. How can I assist you today?', additional_kwargs={'refusal': None}, response_metadata={'token_usage': {'completion_tokens': 13, 'prompt_tokens': 2066, 'total_tokens': 2079, 'completion_tokens_details': {'accepted_prediction_tokens': 0, 'audio_tokens': 0, 'reasoning_tokens': 0, 'rejected_prediction_tokens': 0}, 'prompt_tokens_details': {'audio_tokens': 0, 'cached_tokens': 0}}, 'model_name': 'gpt-4o-mini-2024-07-18', 'system_fingerprint': 'fp_34a54ae93c', 'id': 'chatcmpl-Blrusx0a48JcjhXA4Nrl1t66B6Hs9', 'service_tier': 'default', 'finish_reason': 'stop', 'logprobs': None}, id='run--bacfc673-d572-4889-a4cf-c11c5ade13d8-0', usage_metadata={'input_tokens': 2066, 'output_tokens': 13, 'total_tokens': 2079, 'input_token_details': {'audio': 0, 'cache_read': 0}, 'output_token_details': {'audio': 0, 'reasoning': 0}}), HumanMessage(content='What is my name?', additional_kwargs={}, response_metadata={}, id='83b01d4e-f3cb-441c-b619-de15515b8153'), AIMessage(content='Your name is Chris. Let me know how I can help you!', additional_kwargs={'refusal': None}, response_metadata={'token_usage': {'completion_tokens': 15, 'prompt_tokens': 2091, 'total_tokens': 2106, 'completion_tokens_details': {'accepted_prediction_tokens': 0, 'audio_tokens': 0, 'reasoning_tokens': 0, 'rejected_prediction_tokens': 0}, 'prompt_tokens_details': {'audio_tokens': 0, 'cached_tokens': 0}}, 'model_name': 'gpt-4o-mini-2024-07-18', 'system_fingerprint': 'fp_34a54ae93c', 'id': 'chatcmpl-BlrvSZzkIXYXpy0yFIcdhUcWI3Xgl', 'service_tier': 'default', 'finish_reason': 'stop', 'logprobs': None}, id='run--4fde752a-498c-4121-b19c-7fd187dfb754-0', usage_metadata={'input_tokens': 2091, 'output_tokens': 15, 'total_tokens': 2106, 'input_token_details': {'audio': 0, 'cache_read': 0}, 'output_token_details': {'audio': 0, 'reasoning': 0}})]}, next=(), config={'configurable': {'thread_id': '3', 'checkpoint_ns': '', 'checkpoint_id': '1f050c8d-ae89-6e93-8037-cdb81a970d9b'}}, metadata={'source': 'loop', 'writes': {'chatbot': {'messages': [AIMessage(content='Your name is Chris. Let me know how I can help you!', additional_kwargs={'refusal': None}, response_metadata={'token_usage': {'completion_tokens': 15, 'prompt_tokens': 2091, 'total_tokens': 2106, 'completion_tokens_details': {'accepted_prediction_tokens': 0, 'audio_tokens': 0, 'reasoning_tokens': 0, 'rejected_prediction_tokens': 0}, 'prompt_tokens_details': {'audio_tokens': 0, 'cached_tokens': 0}}, 'model_name': 'gpt-4o-mini-2024-07-18', 'system_fingerprint': 'fp_34a54ae93c', 'id': 'chatcmpl-BlrvSZzkIXYXpy0yFIcdhUcWI3Xgl', 'service_tier': 'default', 'finish_reason': 'stop', 'logprobs': None}, id='run--4fde752a-498c-4121-b19c-7fd187dfb754-0', usage_metadata={'input_tokens': 2091, 'output_tokens': 15, 'total_tokens': 2106, 'input_token_details': {'audio': 0, 'cache_read': 0}, 'output_token_details': {'audio': 0, 'reasoning': 0}})]}}, 'step': 55, 'parents': {}, 'thread_id': '3'}, created_at='2025-06-24T07:00:04.484469+00:00', parent_config={'configurable': {'thread_id': '3', 'checkpoint_ns': '', 'checkpoint_id': '1f050c8d-a3a6-6a05-8036-e72b554822a1'}}, tasks=(), interrupts=())\n"
     ]
    }
   ],
   "source": [
    "# Convert the state history to a list first (graph.get_state_history is a generator)\n",
    "state_history = list(graph.get_state_history(config))\n",
    "\n",
    "# Print the number of states in history\n",
    "print(\"🔢 Get State Length:\", len(state_history), \"\\n\")\n",
    "\n",
    "# Print the most recent state (index 0)\n",
    "print(\"📌 Most Recent State Snapshot:\\n\", state_history[0])\n"
   ]
  },
  {
   "cell_type": "code",
   "execution_count": null,
   "metadata": {},
   "outputs": [],
   "source": []
  }
 ],
 "metadata": {
  "kernelspec": {
   "display_name": "Python 3 (ipykernel)",
   "language": "python",
   "name": "python3"
  },
  "language_info": {
   "codemirror_mode": {
    "name": "ipython",
    "version": 3
   },
   "file_extension": ".py",
   "mimetype": "text/x-python",
   "name": "python",
   "nbconvert_exporter": "python",
   "pygments_lexer": "ipython3",
   "version": "3.12.11"
  }
 },
 "nbformat": 4,
 "nbformat_minor": 4
}
