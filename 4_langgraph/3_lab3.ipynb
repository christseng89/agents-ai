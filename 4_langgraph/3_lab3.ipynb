{
 "cells": [
  {
   "cell_type": "markdown",
   "metadata": {},
   "source": [
    "## Welcome to Week 4, Day 4\n",
    "\n",
    "This is the start of an AWESOME project! Really simple and very effective."
   ]
  },
  {
   "cell_type": "markdown",
   "metadata": {},
   "source": [
    "### First - a heads up for Windows PC users\n",
    "\n",
    "While executing this notebook, you might hit a problem with the Playwright browser raising a NotImplementedError.\n",
    "\n",
    "This should work when we move to python modules, but it can cause problems in Windows in a notebook.\n",
    "\n",
    "If you it this error and would like to run the notebook, you need to make a small change which seems quite hacky!\n",
    "\n",
    "## **Important Notes**\n",
    "\n",
    "1. Right click in `.venv` in the File Explorer on the left and select \"Find in folder\"\n",
    "2. Search for `asyncio.set_event_loop_policy(WindowsSelectorEventLoopPolicy())`  \n",
    "3. That code should be found in a line of code in a file called `kernelapp.py`\n",
    "   ```cmd\n",
    "   if type(asyncio.get_event_loop_policy()) is WindowsProactorEventLoopPolicy:\n",
    "    # WindowsProactorEventLoopPolicy is not compatible with tornado 6\n",
    "    # fallback to the pre-3.8 default of Selector\n",
    "    # asyncio.set_event_loop_policy(WindowsSelectorEventLoopPolicy()) # Comment out this line\n",
    "    pass # Add this line\n",
    "   ```                 \n",
    "5. Comment out that line of code in that file! And save the file.\n",
    "6. Restart the kernel by pressing the \"Restart\" button above\n",
    "\n",
    "Thank you to student Nicolas for finding this, and to Yaki, Zibin and Bhaskar for confirming that this worked for them!"
   ]
  },
  {
   "cell_type": "code",
   "execution_count": 1,
   "metadata": {},
   "outputs": [],
   "source": [
    "from typing import Annotated\n",
    "from typing_extensions import TypedDict\n",
    "from langgraph.graph import StateGraph, START\n",
    "from langgraph.graph.message import add_messages\n",
    "from dotenv import load_dotenv\n",
    "from IPython.display import Image, display\n",
    "import gradio as gr\n",
    "from langgraph.prebuilt import ToolNode, tools_condition\n",
    "import requests\n",
    "import os\n",
    "from langchain.agents import Tool\n",
    "\n",
    "from langchain_openai import ChatOpenAI\n",
    "from langgraph.checkpoint.memory import MemorySaver"
   ]
  },
  {
   "cell_type": "code",
   "execution_count": 2,
   "metadata": {},
   "outputs": [
    {
     "data": {
      "text/plain": [
       "True"
      ]
     },
     "execution_count": 2,
     "metadata": {},
     "output_type": "execute_result"
    }
   ],
   "source": [
    "load_dotenv(override=True)"
   ]
  },
  {
   "cell_type": "markdown",
   "metadata": {},
   "source": [
    "### Asynchronous LangGraph\n",
    "\n",
    "To run a tool:  \n",
    "Sync: `tool.run(inputs)`  \n",
    "Async: `await tool.arun(inputs)`\n",
    "\n",
    "To invoke the graph:  \n",
    "Sync: `graph.invoke(state)`  \n",
    "Async: `await graph.ainvoke(state)`"
   ]
  },
  {
   "cell_type": "code",
   "execution_count": 3,
   "metadata": {},
   "outputs": [],
   "source": [
    "class State(TypedDict):\n",
    "    \n",
    "    messages: Annotated[list, add_messages]\n",
    "\n",
    "\n",
    "graph_builder = StateGraph(State)"
   ]
  },
  {
   "cell_type": "code",
   "execution_count": 4,
   "metadata": {},
   "outputs": [],
   "source": [
    "pushover_token = os.getenv(\"PUSHOVER_TOKEN\")\n",
    "pushover_user = os.getenv(\"PUSHOVER_USER\")\n",
    "pushover_url = \"https://api.pushover.net/1/messages.json\"\n",
    "\n",
    "def push(text: str):\n",
    "    \"\"\"Send a push notification to the user\"\"\"\n",
    "    requests.post(pushover_url, data = {\"token\": pushover_token, \"user\": pushover_user, \"message\": text})\n",
    "\n",
    "tool_push = Tool(\n",
    "        name=\"send_push_notification\",\n",
    "        func=push,\n",
    "        description=\"useful for when you want to send a push notification\"\n",
    "    )"
   ]
  },
  {
   "cell_type": "markdown",
   "metadata": {},
   "source": [
    "### Next: Install Playwright\n",
    "\n",
    "On Windows and MacOS:  \n",
    "- `uv pip install playwright`\n",
    "- `uv run playwright --version`\n",
    "  - Version 1.52.0\n",
    "- `uv run playwright install`\n",
    "\n",
    "On Linux:  \n",
    "`playwright install —with-reps chromium`"
   ]
  },
  {
   "cell_type": "markdown",
   "metadata": {},
   "source": [
    "### Introducing nest_asyncio\n",
    "\n",
    "Python async code only allows for one \"event loop\" processing aynchronous events.\n",
    "\n",
    "The `nest_asyncio` library patches this, and is used for special situations, if you need to run a nested event loop.\n",
    "\n"
   ]
  },
  {
   "cell_type": "code",
   "execution_count": 5,
   "metadata": {},
   "outputs": [],
   "source": [
    "import nest_asyncio\n",
    "nest_asyncio.apply()"
   ]
  },
  {
   "cell_type": "markdown",
   "metadata": {},
   "source": [
    "### The LangChain community\n",
    "\n",
    "One of the remarkable things about LangChain is the rich community around it.\n",
    "\n",
    "Check this out:\n"
   ]
  },
  {
   "cell_type": "code",
   "execution_count": 6,
   "metadata": {},
   "outputs": [],
   "source": [
    "from langchain_community.agent_toolkits import PlayWrightBrowserToolkit\n",
    "from langchain_community.tools.playwright.utils import create_async_playwright_browser\n",
    "\n",
    "async_browser =  create_async_playwright_browser(headless=False)  # headful mode\n",
    "toolkit = PlayWrightBrowserToolkit.from_browser(async_browser=async_browser)\n",
    "tools = toolkit.get_tools()"
   ]
  },
  {
   "cell_type": "code",
   "execution_count": 7,
   "metadata": {},
   "outputs": [
    {
     "name": "stdout",
     "output_type": "stream",
     "text": [
      "Tool name: click_element\n",
      "Tool name: navigate_browser\n",
      "Tool name: previous_webpage\n",
      "Tool name: extract_text\n",
      "Tool name: extract_hyperlinks\n",
      "Tool name: get_elements\n",
      "Tool name: current_webpage\n",
      "Tools: [ClickTool(async_browser=<Browser type=<BrowserType name=chromium executable_path=C:\\Users\\samfi\\AppData\\Local\\ms-playwright\\chromium-1169\\chrome-win\\chrome.exe> version=136.0.7103.25>), NavigateTool(async_browser=<Browser type=<BrowserType name=chromium executable_path=C:\\Users\\samfi\\AppData\\Local\\ms-playwright\\chromium-1169\\chrome-win\\chrome.exe> version=136.0.7103.25>), NavigateBackTool(async_browser=<Browser type=<BrowserType name=chromium executable_path=C:\\Users\\samfi\\AppData\\Local\\ms-playwright\\chromium-1169\\chrome-win\\chrome.exe> version=136.0.7103.25>), ExtractTextTool(async_browser=<Browser type=<BrowserType name=chromium executable_path=C:\\Users\\samfi\\AppData\\Local\\ms-playwright\\chromium-1169\\chrome-win\\chrome.exe> version=136.0.7103.25>), ExtractHyperlinksTool(async_browser=<Browser type=<BrowserType name=chromium executable_path=C:\\Users\\samfi\\AppData\\Local\\ms-playwright\\chromium-1169\\chrome-win\\chrome.exe> version=136.0.7103.25>), GetElementsTool(async_browser=<Browser type=<BrowserType name=chromium executable_path=C:\\Users\\samfi\\AppData\\Local\\ms-playwright\\chromium-1169\\chrome-win\\chrome.exe> version=136.0.7103.25>), CurrentWebPageTool(async_browser=<Browser type=<BrowserType name=chromium executable_path=C:\\Users\\samfi\\AppData\\Local\\ms-playwright\\chromium-1169\\chrome-win\\chrome.exe> version=136.0.7103.25>)]\n"
     ]
    }
   ],
   "source": [
    "for tool in tools:\n",
    "    # print(f\"{tool.name}={tool}\")\n",
    "    print(f\"Tool name: {tool.name}\")\n",
    "\n",
    "print (f\"Tools: {tools}\")"
   ]
  },
  {
   "cell_type": "code",
   "execution_count": 10,
   "metadata": {},
   "outputs": [],
   "source": [
    "from langchain_community.tools.playwright.navigate import NavigateTool\n",
    "\n",
    "# Save original method\n",
    "original_arun = NavigateTool._arun\n",
    "\n",
    "# Patch it\n",
    "async def patched_arun(self, url: str, run_manager=None, **kwargs):\n",
    "    timeout = kwargs.get(\"timeout\", 60000)  # default 60 sec\n",
    "    wait_until = kwargs.get(\"wait_until\", \"load\")\n",
    "    from langchain_community.tools.playwright.utils import aget_current_page\n",
    "    page = await aget_current_page(self.async_browser)\n",
    "    response = await page.goto(url, timeout=timeout, wait_until=wait_until)\n",
    "    status = response.status if response else \"unknown\"\n",
    "    return f\"Navigated to {url} → HTTP {status}\"\n",
    "\n",
    "NavigateTool._arun = patched_arun\n"
   ]
  },
  {
   "cell_type": "code",
   "execution_count": 11,
   "metadata": {},
   "outputs": [],
   "source": [
    "tool_dict = {tool.name:tool for tool in tools}\n",
    "\n",
    "navigate_browser_tool = tool_dict.get(\"navigate_browser\")\n",
    "extract_text_tool = tool_dict.get(\"extract_text\")\n",
    "\n",
    "await navigate_browser_tool.arun({\"url\": \"https://www.cnn.com\", \"timeout\": 90000}) # 90 seconds\n",
    "text = await extract_text_tool.arun({})"
   ]
  },
  {
   "cell_type": "code",
   "execution_count": 12,
   "metadata": {},
   "outputs": [
    {
     "name": "stdout",
     "output_type": "stream",
     "text": [
      "Breaking News, Latest News and Videos | CNN CNN values your feedback\n",
      "1. How relevant is this ad to you? 2. Did you encounter any technical\n",
      "issues? No Video player was slow to load content Video content never\n",
      "loaded Ad froze or did not finish loading Video content did not start\n",
      "after ad Audio on ad was too loud Other issues Ad never loaded Ad\n",
      "prevented/slowed the page from loading Content moved around while ad\n",
      "loaded Ad was repetitive to ads I've seen previously Other issues\n",
      "Cancel Submit Thank You! Your effort and contribution in providing\n",
      "this feedback is much\n",
      "appreciated. Close Ad Feedback Close icon US World Politics Business\n",
      "Health Entertainment Style Travel Sports Science Climate Weather\n",
      "Ukraine-Russia War Israel-Hamas War Games More US World Politics\n",
      "Business Health Entertainment Style Travel Sports Science Climate\n",
      "Weather Ukraine-Russia War Israel-Hamas War Games Watch Listen Live TV\n",
      "Subscribe Sign in My Account Settings Newsletters Topics you follow\n",
      "Sign out Your CNN account Sign in to your CNN account Sign in My\n",
      "Account Settings Newsletters Topics you follow Sign out Your CNN\n",
      "account Sign in to your CNN account Live TV Listen Watch Edition US\n",
      "International Arabic Español Edition US International Arabic Español\n",
      "World Africa Americas Asia Australia China Europe India Middle East\n",
      "United Kingdom US Politics Trump Facts First CNN Polls 2025 Elections\n",
      "Business Tech Media Calculators Videos Markets Pre-markets After-Hours\n",
      "Fear & Greed Investing Markets Now Nightcap Health Life, But Better\n",
      "Fitness Food Sleep Mindfulness Relationships Entertainment Movies\n",
      "Television Celebrity Tech Innovate Foreseeable Future Mission: Ahead\n",
      "Work Transformed Innovative Cities Style Arts Design Fashion\n",
      "Architecture Luxury Beauty Video Travel Destinations Food & Drink Stay\n",
      "News Videos Sports Football Tennis Golf Motorsport US Sports Olympics\n",
      "Climbing Esports Hockey Science Space Life Unearthed Climate Solutions\n",
      "Weather Weather Video Climate Ukraine-Russia War Israel-Hamas War\n",
      "Features As Equals Call to Earth Freedom Project Impact Your World\n",
      "Inside Africa CNN Heroes Watch Live TV CNN Fast Shows A-Z CNN10 CNN\n",
      "Max CNN TV Schedules Listen CNN 5 Things Chasing Life with Dr. Sanjay\n",
      "Gupta The Assignment with Audie Cornish One Thing Tug of War CNN\n",
      "Political Briefing The Axe Files All There Is with Anderson Cooper All\n",
      "CNN Audio podcasts Games Daily Crossword Jumble Crossword Sudoblock\n",
      "Sudoku 5 Things Quiz About CNN Photos Investigations CNN Profiles CNN\n",
      "Leadership CNN Newsletters Work for CNN Follow CNN NATO summit Malala\n",
      "Microplastics contamination McDonald’s boycott Hyper-realistic pencil\n",
      "portraits Glastonbury Festival fashion history Club World Cup Brad\n",
      "Pitt 'Do not drop those bombs' on Iran, Trump warns Israel Live\n",
      "Updates 2 min ago BEERSHEBA, ISRAEL - JUNE 24: Search and rescue teams\n",
      "conduct search and rescue operations at a building that was heavily\n",
      "damaged and partially collapsed by a missile fired from Iran as police\n",
      "take security measures in Beersheba, Israel on June 24, 2025. (Photo\n",
      "by Mostafa Alkharouf/Anadolu via Getty Images) Mostafa\n",
      "Alkharouf/Anadolu/Getty Images Trump rebukes Israel and Iran hours\n",
      "after ceasefire 2 min ago Trump holds “firm and direct” call with\n",
      "Israeli prime minister 12 min ago Former UN nuclear weapons inspector\n",
      "believes Iran’s centrifuge program has been \"destroyed\" by strikes 16\n",
      "min ago \"Israel is not going to attack Iran,\" Trump says 27 min ago\n",
      "Trump claims Iran will never rebuild its nuclear program 13 min ago\n",
      "Trump lashes out at Israel as his Middle East truce appears to falter\n",
      "22 min ago Iran says it is committed to \"good neighborliness\" with\n",
      "Qatar 1 hr 5 min ago Canada’s Carney says Iran’s \"de-escalatory\"\n",
      "retaliation against the US opens window for diplomacy 1 hr 36 min ago\n",
      "Photos from the scene of deadly Iranian missile attack on Beer Sheva\n",
      "in Israel 42 min ago Iranian state media identifies another top\n",
      "nuclear scientist killed in Israeli strikes 2 hr 13 min ago Iran\n",
      "planned ahead to ensure nuclear program wasn’t interrupted, head of\n",
      "atomic energy organization says 2 hr 26 min ago Hours after Trump’s\n",
      "dramatic ceasefire announcement, the region remains on edge. Here's\n",
      "what you need to know 3 hr 5 min ago Senior Iranian security official\n",
      "says no missiles fired at Israel after ceasefire went into effect 3 hr\n",
      "10 min ago Iranian media denies ceasefire violation 3 hr 50 min ago\n",
      "Israel to continue striking Iran after \"utter violation\" of the\n",
      "ceasefire, defense minister says 3 hr 6 min ago How some Israeli\n",
      "lawmakers are reacting to the Israel-Iran ceasefire 4 hr 2 min ago\n",
      "Israeli military intercepted two missiles launched from Iran, IDF\n",
      "official says 4 hr 16 min ago Oil prices tumble on news of ceasefire\n",
      "deal between Iran and Israel 4 hr 27 min ago Israel identifies\n",
      "\"incoming barrage\" of missiles from Iran 3 hr 4 min ago Trump claims a\n",
      "\"forever\" peace in the land of forever wars — but is it all one big\n",
      "illusion? 5 hr 15 min ago Israel reopens its airspace 5 hr 41 min ago\n",
      "Israel said it agreed to ceasefire after “tremendous success” in Iran\n",
      "5 hr 46 min ago Israeli hostage families call for expansion of Israel-\n",
      "Iran ceasefire to include Gaza 4 hr 5 min ago At least 9 killed in\n",
      "Israeli strikes on residential building in northern Iran, regional\n",
      "official says 3 hr 33 min ago Watch: CNN’s Erin Burnett reports from\n",
      "near the Strait of Hormuz on the Israel-Iran ceasefire 6 hr 5 min ago\n",
      "\"Last night was a nightmare.” Residents of Iran's capital endure\n",
      "another night of Israeli strikes 6 hr 51 min ago Trump says Israel-\n",
      "Iran ceasefire is “in effect” 7 hr ago If it comes into effect, an\n",
      "Israel-Iran ceasefire could hold “at least for a while,” CNN military\n",
      "analyst says 6 hr 58 min ago Israel issued six alerts warning of\n",
      "Iranian missile attacks overnight ahead of Trump ceasefire 7 hr 1 min\n",
      "ago Iranian and Israeli media says ceasefire has begun, but confusion\n",
      "swirls over precise details 2 hr 12 min ago Multiple people rescued\n",
      "after deadly strike in Beer Sheva, Israel, as images show extensive\n",
      "damage 1 hr 27 min ago Middle East air space disruptions cause further\n",
      "flight cancellations, delays 7 hr 55 min ago Dawn breaks in Iran and\n",
      "Israel with little clarity on Trump’s ceasefire. Here’s what you need\n",
      "to know 7 hr 55 min ago Al Udeid Air Base is home to key US military\n",
      "commands in Middle East 7 hr 56 min ago Trump says Israel and Iran\n",
      "“came to me” about peace as he continues to tout ceasefire deal 7 hr\n",
      "56 min ago Oil prices tumble as Iranian state media announces\n",
      "ceasefire deal 2 hr 5 min ago At least 4 people killed in missile\n",
      "strike in southern Israel, Israel's emergency services says 6 hr 29\n",
      "min ago Iranian state media announces ceasefire deal “imposed on the\n",
      "enemy” 7 hr 56 min ago Sirens sound in Israel as military says it has\n",
      "identified missiles launched from Iran 7 hr 53 min ago Iran's foreign\n",
      "minister hints that hostilities may have ended 8 hr 2 min ago Israel\n",
      "launches fresh attacks on Tehran, Iranian state media says See all\n",
      "updates ( 40 +) • Video 1:50 CNN Video What Iranian officials are\n",
      "saying about Israel's accusations the ceasefire was potentially\n",
      "violated 1:50 • Video 1:14 Iran National News Network Video Iran state\n",
      "TV says ceasefire deal was ‘imposed’ 1:14 Play 'They don't know what\n",
      "the f**k they're doing': Trump lashes out at Israel and Iran 02:25 -\n",
      "Source: CNN Breaking News LIVE UPDATES: He said both sides ‘don’t know\n",
      "what the f**k they’re doing,’ but reserved his harshest words for\n",
      "Israel, who he said ‘unloaded’ on Iran Iranian retaliation, a sudden\n",
      "ceasefire, and lingering nuclear questions: Wild swings in the Middle\n",
      "East Analysis Has Trump escaped the graveyard of American\n",
      "presidencies? Video Professor on why regime change in Iran is not so\n",
      "simple 1:08 Dramatic day of diplomacy culminates in Trump announcing\n",
      "Iran-Israel ceasefire Play Catch up on today's global news - Source:\n",
      "CNN Video Catch up on today’s news Robert Gauthier/Los Angeles\n",
      "Times/Getty Images California has the highest Iranian population in\n",
      "US, and it’s split over America’s bombing of Iran Violeta Alvarez/Sipa\n",
      "USA/AP CNN Poll: Trump’s decision to launch airstrikes against Iran is\n",
      "broadly unpopular with Americans Ad Feedback More top stories Anna\n",
      "Moneymaker/Getty Images Trump takes his go-it-alone approach to NATO\n",
      "summit after announcing Israel-Iran ceasefire Judge indefinitely\n",
      "blocks Trump’s proclamation suspending new Harvard international\n",
      "students Sculptor dies at 98, leaving behind legacy of public works\n",
      "Florida to detain migrants in new Everglades facility dubbed\n",
      "‘Alligator Alcatraz’ Video ‘He wants peace’: MTG praises Trump just\n",
      "hours after she called him out for strikes on Iran 1:55 Kelvin Okafor\n",
      "Pencil drawings so realistic, they look just like photos • CNN\n",
      "Exclusive CNN Exclusive CNN CNN Exclusive Malala is starting a new\n",
      "investment platform focused on women’s sports to show ‘we’re all one\n",
      "humanity’ Yui Mok/PA Images via Getty Images Venice’s most guarded\n",
      "secret: Inside the Bezos-Sanchez wedding plans Ad Feedback Evan\n",
      "Vucci/AP As attacks on politicians increase, experts share warning\n",
      "signs Jun 24, 2025 Victor Boyko/Getty Images A Dior debut and a fresh\n",
      "female perspective: What to watch at Paris Fashion Week Men’s Jun 24,\n",
      "2025 CNN Video This nostalgic symbol could vanish from Hong Kong\n",
      "forever 1:55 Jun 22, 2025 Ad Feedback Grace Cary/Moment RF/Getty\n",
      "Images Plastic packaging is leaching micro- and nanoplastics into your\n",
      "food and drink, study finds Photo Illustration/Shutterstock Which\n",
      "drink is best for hydration? Hint: It isn’t water Gareth\n",
      "Cattermole/Getty Images Brad Pitt gets candid about recovery: ‘I\n",
      "needed rebooting’ • Video 1:21 Jeremy Harlan/CNN Video This vegetarian\n",
      "dish deserves a spot at your Fourth of July cookout 1:21 MJ Kim/Getty\n",
      "Images 20 years ago, Kate Moss made an ordinary pair of rain boots a\n",
      "part of Glastonbury Festival history Kylie Cooper/Reuters Central Park\n",
      "hits temp record last seen on this date in 1888 as heat wave hits\n",
      "eastern US Center for Whale Research Drone footage reveals orcas using\n",
      "tools in a stunning first Hugo Rivera/Jam Media/Getty Images Lionel\n",
      "Messi to face former team PSG in Club World Cup round of 16 after\n",
      "Inter Miami progresses from group stage Lee Smith/Reuters ‘It’s\n",
      "impossible’: Extreme heat in Philadelphia causes Chelsea to shorten\n",
      "training ahead of pivotal Club World Cup match Romain\n",
      "Perrocheau/AFP/Getty Images 145 people pricked with syringes at France\n",
      "street music festival • Video 1:07 Vera C. Rubin Observatory Video\n",
      "First look: Rubin Observatory’s images reveal universe like never\n",
      "before 1:07 Ad Feedback Featured Sections Space and science Stephanie\n",
      "Wissel/Penn State Strange signals detected from Antarctic ice seem to\n",
      "defy laws of physics. Scientists are searching for an answer\n",
      "Scientists say a tiny brown moth navigates 600 miles using stars —\n",
      "just like humans and birds ‘Dragon Man’ DNA revelation puts a face to\n",
      "a mysterious group of ancient humans Global Travel Show all Maido The\n",
      "world's 50 best restaurants for 2025 The new nudity: A 21st-century\n",
      "guide to taking off your clothes World’s best airline for 2025 named\n",
      "by Skytrax World’s most liveable city for 2025 revealed Ad Feedback\n",
      "Global Business gorodenkoff/iStockphoto/Getty Images What would you\n",
      "need to earn to feel financially secure? A quarter of Americans say\n",
      "$150,000 or more Buy Now, Pay Later loans will factor in to Americans’\n",
      "credit scores Sales prices for sports teams are soaring to record\n",
      "levels. Here’s why, and what that means for fans So, has anything\n",
      "actually gotten more expensive because of Trump’s tariffs? Art and\n",
      "Style MJ Kim/Getty Images 20 years ago, Kate Moss made an ordinary\n",
      "pair of rain boots a part of Glastonbury Festival history Milan\n",
      "Fashion Week Men’s begins. Here’s what to expect Towering heels, epic\n",
      "fall: Remember when Naomi Campbell turned a catwalk catastrophe into\n",
      "career gold? Look of the Week Carolyn Bessette Kennedy and the dangers\n",
      "of dressing an icon SPORT Show all Dylan Martinez/Reuters Norwegian\n",
      "track star wants to be 'recognized as the best runner to exist' Real\n",
      "Madrid manager backs Antonio Rüdiger’s claims of being racially abused\n",
      "during Club World Cup match Minjee Lee wins third career major at\n",
      "Women’s PGA Championship, joins rare company with victory Oklahoma\n",
      "City Thunder cap off incredible season with a hard-earned NBA title Ad\n",
      "Feedback US Politics Adam Gray/Bloomberg/Getty Images Inside the\n",
      "campaign of Zohran Mamdani, the democratic socialist running for mayor\n",
      "of New York City US Supreme Court prepares to release major opinions\n",
      "on birthright citizenship, LGBTQ books, porn sites and more MAGA\n",
      "movement divided over Trump’s move to bomb Iran Judge says Justice\n",
      "Department failed to make case for Abrego Garcia’s detention ahead of\n",
      "criminal trial health and wellness ozgurcankaya/iStockphoto/Getty\n",
      "Images Deep belly fat triggers inflammation. Here’s how to reduce it\n",
      "Does face yoga actually work? Experts weigh in on its slimming, anti-\n",
      "aging effects Instead of worrying about your weight, focus on avoiding\n",
      "fragility The new coronavirus variant surging in China has arrived in\n",
      "the US. Here’s what to know Tech Andrew Brookes/Image Source/Getty\n",
      "Images ‘She never sleeps’: This platform wants to be OnlyFans for the\n",
      "AI era Pope Leo calls for an ethical AI framework in a message to tech\n",
      "execs gathering at the Vatican Trump grants TikTok another 90-day\n",
      "extension in enforcement of sale-or-ban law Cybercriminals breach\n",
      "Aflac as part of hacking spree against US insurance industry Photos\n",
      "You Should See • Gallery Gallery The Legacy\n",
      "Collection/THA/Shutterstock Gallery In pictures: Behind the scenes of\n",
      "‘Jaws’ • Gallery Gallery Lorenzo Poli Gallery Haunting image of an\n",
      "abandoned mining town wins Earth Photo prize • Gallery Gallery Dave\n",
      "Kotinsky/Getty Images Gallery People we’ve lost in 2025 • Gallery\n",
      "Gallery Dendrinos/MOm Gallery Mediterranean monk seals: Back from the\n",
      "brink • Gallery Gallery karenfoleyphotography/iStockphoto/Getty Images\n",
      "Gallery Northern hairy-nosed wombat: Back from the brink • Gallery\n",
      "Gallery Luiz Thiago de Jesus/AMLD Gallery Back from the brink: Golden\n",
      "lion tamarin Ad Feedback In Case You Missed It\n",
      "Universal/Kobal/Shutterstock ‘Jaws’ turns 50. It changed pop culture\n",
      "and our perception of sharks Evidence in Karen Read’s case led to\n",
      "‘only one person,’ prosecutor says in first statement since her\n",
      "acquittal Israel recovers bodies of three hostages – an IDF soldier\n",
      "and two civilians – from Gaza Suspect in Minnesota attacks drafted a\n",
      "‘bailout plan’ for wife, according to court filing A clash of English\n",
      "and Brazilian teams in Philadelphia shows off exactly what FIFA wants\n",
      "from the Club World Cup US singer Chris Brown pleads not guilty to\n",
      "assault charge in UK court Wife of Colorado attack suspect says she\n",
      "and her 5 children are ‘suffering’ in ICE custody While North Korea\n",
      "denied Covid-19 cases, the virus was widespread and barely treated,\n",
      "report says World’s most liveable city for 2025 revealed Subscribe\n",
      "Sign in My Account Settings Newsletters Topics you follow Sign out\n",
      "Your CNN account Sign in to your CNN account Live TV Listen Watch\n",
      "World Africa Americas Asia Australia China Europe India Middle East\n",
      "United Kingdom US Politics Trump Facts First CNN Polls 2025 Elections\n",
      "Business Tech Media Calculators Videos Markets Pre-markets After-Hours\n",
      "Fear & Greed Investing Markets Now Nightcap Health Life, But Better\n",
      "Fitness Food Sleep Mindfulness Relationships Entertainment Movies\n",
      "Television Celebrity Tech Innovate Foreseeable Future Mission: Ahead\n",
      "Work Transformed Innovative Cities Style Arts Design Fashion\n",
      "Architecture Luxury Beauty Video Travel Destinations Food & Drink Stay\n",
      "News Videos Sports Football Tennis Golf Motorsport US Sports Olympics\n",
      "Climbing Esports Hockey Science Space Life Unearthed Climate Solutions\n",
      "Weather Weather Video Climate Ukraine-Russia War Israel-Hamas War\n",
      "Features As Equals Call to Earth Freedom Project Impact Your World\n",
      "Inside Africa CNN Heroes Watch Live TV CNN Fast Shows A-Z CNN10 CNN\n",
      "Max CNN TV Schedules Listen CNN 5 Things Chasing Life with Dr. Sanjay\n",
      "Gupta The Assignment with Audie Cornish One Thing Tug of War CNN\n",
      "Political Briefing The Axe Files All There Is with Anderson Cooper All\n",
      "CNN Audio podcasts Games Daily Crossword Jumble Crossword Sudoblock\n",
      "Sudoku 5 Things Quiz About CNN Photos Investigations CNN Profiles CNN\n",
      "Leadership CNN Newsletters Work for CNN Watch Listen Live TV Follow\n",
      "CNN Subscribe Sign in My Account Settings Newsletters Topics you\n",
      "follow Sign out Your CNN account Sign in to your CNN account Terms of\n",
      "Use Privacy Policy Cookie Settings Ad Choices Accessibility & CC About\n",
      "Newsletters Transcripts © 2025 Cable News Network. A Warner Bros.\n",
      "Discovery Company. All Rights Reserved. CNN Sans ™ & © 2016 Cable News\n",
      "Network. Privacy Policy For privacy options, please see our privacy\n",
      "policy: https://www.cnn.com/privacy . Back Button Cookie List Search\n",
      "Icon Filter Icon Clear checkbox label label Apply Cancel Consent\n",
      "Leg.Interest checkbox label label checkbox label label checkbox label\n",
      "label Close\n"
     ]
    }
   ],
   "source": [
    "import textwrap\n",
    "print(textwrap.fill(text))"
   ]
  },
  {
   "cell_type": "code",
   "execution_count": 13,
   "metadata": {},
   "outputs": [],
   "source": [
    "all_tools = tools + [tool_push]"
   ]
  },
  {
   "cell_type": "code",
   "execution_count": 14,
   "metadata": {},
   "outputs": [],
   "source": [
    "#1. Changes to provide the all_tools to OpenAI in json when we make the call\n",
    "llm = ChatOpenAI(model=\"gpt-4o-mini\")\n",
    "llm_with_tools = llm.bind_tools(all_tools)\n",
    "\n",
    "\n",
    "def chatbot(state: State):\n",
    "    return {\"messages\": [llm_with_tools.invoke(state[\"messages\"])]}\n"
   ]
  },
  {
   "cell_type": "code",
   "execution_count": 15,
   "metadata": {},
   "outputs": [
    {
     "data": {
      "image/png": "[encoded data removed]",
      "text/plain": [
       "<IPython.core.display.Image object>"
      ]
     },
     "metadata": {},
     "output_type": "display_data"
    }
   ],
   "source": [
    "graph_builder = StateGraph(State)\n",
    "graph_builder.add_node(\"chatbot\", chatbot)\n",
    "graph_builder.add_node(\"tools\", ToolNode(tools=all_tools))\n",
    "\n",
    "# 2. Changes to handle the results back: look for the model staying that the finish_reason==\"tool_calls\" and then retrieve the call, run the function, provide the results.\n",
    "graph_builder.add_conditional_edges( \"chatbot\", tools_condition, \"tools\")\n",
    "graph_builder.add_edge(\"tools\", \"chatbot\")\n",
    "graph_builder.add_edge(START, \"chatbot\")\n",
    "\n",
    "# Memory to keep the chat history\n",
    "memory = MemorySaver()\n",
    "graph = graph_builder.compile(checkpointer=memory)\n",
    "display(Image(graph.get_graph().draw_mermaid_png()))"
   ]
  },
  {
   "cell_type": "code",
   "execution_count": 16,
   "metadata": {},
   "outputs": [
    {
     "name": "stdout",
     "output_type": "stream",
     "text": [
      "* Running on local URL:  http://127.0.0.1:7860\n",
      "* To create a public link, set `share=True` in `launch()`.\n"
     ]
    },
    {
     "data": {
      "text/html": [
       "<div><iframe src=\"http://127.0.0.1:7860/\" width=\"100%\" height=\"500\" allow=\"autoplay; camera; microphone; clipboard-read; clipboard-write;\" frameborder=\"0\" allowfullscreen></iframe></div>"
      ],
      "text/plain": [
       "<IPython.core.display.HTML object>"
      ]
     },
     "metadata": {},
     "output_type": "display_data"
    },
    {
     "data": {
      "text/plain": []
     },
     "execution_count": 16,
     "metadata": {},
     "output_type": "execute_result"
    }
   ],
   "source": [
    "config = {\"configurable\": {\"thread_id\": \"10\"}}\n",
    "\n",
    "async def chat(user_input: str, history):\n",
    "    result = await graph.ainvoke({\"messages\": [{\"role\": \"user\", \"content\": user_input}]}, config=config)\n",
    "    return result[\"messages\"][-1].content\n",
    "\n",
    "\n",
    "gr.ChatInterface(chat, type=\"messages\").launch()"
   ]
  },
  {
   "cell_type": "code",
   "execution_count": null,
   "metadata": {},
   "outputs": [],
   "source": []
  }
 ],
 "metadata": {
  "kernelspec": {
   "display_name": "Python 3 (ipykernel)",
   "language": "python",
   "name": "python3"
  },
  "language_info": {
   "codemirror_mode": {
    "name": "ipython",
    "version": 3
   },
   "file_extension": ".py",
   "mimetype": "text/x-python",
   "name": "python",
   "nbconvert_exporter": "python",
   "pygments_lexer": "ipython3",
   "version": "3.12.10"
  }
 },
 "nbformat": 4,
 "nbformat_minor": 4
}
