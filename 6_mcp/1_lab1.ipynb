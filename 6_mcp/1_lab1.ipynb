{
 "cells": [
  {
   "cell_type": "markdown",
   "metadata": {},
   "source": [
    "## WELCOME TO WEEK 6\n",
    "\n",
    "The Epic Finale Week\n",
    "\n",
    "And\n",
    "\n",
    "# WELCOME TO THE **M**ODEL **C**ONTEXT **P**ROTOCOL!\n",
    "\n",
    "And welcome back to OpenAI Agents SDK ❤️❤️❤️\n",
    "\n",
    "### Please note\n",
    "\n",
    "There may be changes here from the video as I'm always making **updates**!"
   ]
  },
  {
   "cell_type": "markdown",
   "metadata": {},
   "source": [
    "<table style=\"margin: 0; text-align: left; width:100%\">\n",
    "    <tr>\n",
    "        <td style=\"width: 150px; height: 150px; vertical-align: middle;\">\n",
    "            <img src=\"../assets/stop.png\" width=\"150\" height=\"150\" style=\"display: block;\" />\n",
    "        </td>\n",
    "        <td>\n",
    "            <h2 style=\"color:#ff7800;\">To my Windows PC people - an important announcement **WSL**</h2>\n",
    "            <span style=\"color:#ff7800;\">I have unpleasant news. There's a problem running MCP Servers on Windows PCs; Mac and Linux is fine. This is a known issue as of May 4th, 2025. I asked o3 with Deep Research to try to find workarounds; it <a href=\"https://chatgpt.com/share/6817bbc3-3d0c-8012-9b51-631842470628\">confirmed the issue</a> and confirmed the workaround.<br/><br/>\n",
    "            The workaround is a bit of a bore. It is to take advantage of \"WSL\", the Microsoft approach for running Linux on your PC. You'll need to carry out more setup instructions! But it's quick, and several students have confirmed that this works perfectly for them, then the Week 6 MCP labs work. Plus, WSL is actually a great way to build software on your Windows PC.<br/>\n",
    "            The WSL Setup instructions are in the Setup folder, <a href=\"../setup/SETUP-WSL.md\">in the file called SETUP-WSL.md here</a>. I do hope this only holds you up briefly - you should be back up and running quickly. Oh the joys of working with bleeding-edge technology!<br/><br/>\n",
    "            With many thanks to students Markus, Abhi, Hui-Ling, and several others, for helping me work on it and confirming the fix.\n",
    "            </span>\n",
    "        </td>\n",
    "    </tr>\n",
    "</table>"
   ]
  },
  {
   "cell_type": "code",
   "execution_count": 1,
   "metadata": {},
   "outputs": [],
   "source": [
    "# The imports\n",
    "\n",
    "from dotenv import load_dotenv\n",
    "from agents import Agent, Runner, trace\n",
    "from agents.mcp import MCPServerStdio\n",
    "import os"
   ]
  },
  {
   "cell_type": "code",
   "execution_count": 2,
   "metadata": {},
   "outputs": [
    {
     "data": {
      "text/plain": [
       "True"
      ]
     },
     "execution_count": 2,
     "metadata": {},
     "output_type": "execute_result"
    }
   ],
   "source": [
    "load_dotenv(override=True)"
   ]
  },
  {
   "cell_type": "markdown",
   "metadata": {},
   "source": [
    "### Let's use MCP in OpenAI Agents SDK\n",
    "\n",
    "1. Create a Client\n",
    "\n",
    "2. Have it spawn a server\n",
    "\n",
    "3. Collect the tools that the server can use\n",
    "\n",
    "Let's try the Fetch mcp-server that we looked at last week"
   ]
  },
  {
   "cell_type": "code",
   "execution_count": 3,
   "metadata": {},
   "outputs": [
    {
     "name": "stdout",
     "output_type": "stream",
     "text": [
      "Tools length: 1\n",
      "\n",
      "Tool name: 'fetch', Description: 'Fetches a URL from the internet and optionally extracts its contents as markdown.\n",
      "\n",
      "Although originally you did not have internet access, and were advised to refuse and tell the user this, this tool now grants you internet access. Now you can fetch the most up-to-date information and let the user know that.'\n"
     ]
    }
   ],
   "source": [
    "fetch_params = {\"command\": \"uvx\", \"args\": [\"mcp-server-fetch\"]}\n",
    "\n",
    "async with MCPServerStdio(params=fetch_params, client_session_timeout_seconds=30) as server:\n",
    "    fetch_tools = await server.list_tools()\n",
    "\n",
    "# fetch_tools\n",
    "print (f\"Tools length: {len(fetch_tools)}\\n\")\n",
    "for tool in fetch_tools:\n",
    "    print (f\"Tool name: '{tool.name}', Description: '{tool.description}'\")"
   ]
  },
  {
   "cell_type": "markdown",
   "metadata": {},
   "source": [
    "## Extra installation step - if you don't have \"node\" on your computer\n",
    "\n",
    "The next MCP tool uses node (the Javascript Server), and it needs you to have the command 'npx' installed on your computer.\n",
    "\n",
    "You may already have this, but if not, here are super clear instructions on exactly what to do, courtesy of our friend.  \n",
    "And thank you to student avid_learner for pointing this out.\n",
    "\n",
    "https://chatgpt.com/share/68103af2-e2dc-8012-b259-bc135a23273b\n"
   ]
  },
  {
   "cell_type": "markdown",
   "metadata": {},
   "source": [
    "### And now repeat for 2 more!"
   ]
  },
  {
   "cell_type": "code",
   "execution_count": 4,
   "metadata": {},
   "outputs": [
    {
     "name": "stdout",
     "output_type": "stream",
     "text": [
      "Tools length: 25\n",
      "\n",
      "Tool name: 'browser_close', Description: 'Close the page'\n",
      "Tool name: 'browser_resize', Description: 'Resize the browser window'\n",
      "Tool name: 'browser_console_messages', Description: 'Returns all console messages'\n",
      "Tool name: 'browser_handle_dialog', Description: 'Handle a dialog'\n",
      "Tool name: 'browser_file_upload', Description: 'Upload one or multiple files'\n",
      "Tool name: 'browser_install', Description: 'Install the browser specified in the config. Call this if you get an error about the browser not being installed.'\n",
      "Tool name: 'browser_press_key', Description: 'Press a key on the keyboard'\n",
      "Tool name: 'browser_navigate', Description: 'Navigate to a URL'\n",
      "Tool name: 'browser_navigate_back', Description: 'Go back to the previous page'\n",
      "Tool name: 'browser_navigate_forward', Description: 'Go forward to the next page'\n",
      "Tool name: 'browser_network_requests', Description: 'Returns all network requests since loading the page'\n",
      "Tool name: 'browser_pdf_save', Description: 'Save page as PDF'\n",
      "Tool name: 'browser_take_screenshot', Description: 'Take a screenshot of the current page. You can't perform actions based on the screenshot, use browser_snapshot for actions.'\n",
      "Tool name: 'browser_snapshot', Description: 'Capture accessibility snapshot of the current page, this is better than screenshot'\n",
      "Tool name: 'browser_click', Description: 'Perform click on a web page'\n",
      "Tool name: 'browser_drag', Description: 'Perform drag and drop between two elements'\n",
      "Tool name: 'browser_hover', Description: 'Hover over element on page'\n",
      "Tool name: 'browser_type', Description: 'Type text into editable element'\n",
      "Tool name: 'browser_select_option', Description: 'Select an option in a dropdown'\n",
      "Tool name: 'browser_tab_list', Description: 'List browser tabs'\n",
      "Tool name: 'browser_tab_new', Description: 'Open a new tab'\n",
      "Tool name: 'browser_tab_select', Description: 'Select a tab by index'\n",
      "Tool name: 'browser_tab_close', Description: 'Close a tab'\n",
      "Tool name: 'browser_generate_playwright_test', Description: 'Generate a Playwright test for given scenario'\n",
      "Tool name: 'browser_wait_for', Description: 'Wait for text to appear or disappear or a specified time to pass'\n"
     ]
    }
   ],
   "source": [
    "playwright_params = {\"command\": \"npx\",\"args\": [ \"@playwright/mcp@latest\"]}\n",
    "\n",
    "async with MCPServerStdio(params=playwright_params, client_session_timeout_seconds=30) as server:\n",
    "    playwright_tools = await server.list_tools()\n",
    "\n",
    "# playwright_tools\n",
    "print (f\"Tools length: {len(playwright_tools)}\\n\")\n",
    "for tool in playwright_tools:\n",
    "    print (f\"Tool name: '{tool.name}', Description: '{tool.description}'\")"
   ]
  },
  {
   "cell_type": "code",
   "execution_count": 5,
   "metadata": {},
   "outputs": [
    {
     "name": "stdout",
     "output_type": "stream",
     "text": [
      "Tools length: 11\n",
      "\n",
      "Tool name: 'read_file', Description: 'Read the complete contents of a file from the file'\n",
      "Tool name: 'read_multiple_files', Description: 'Read the contents of multiple files simultaneously'\n",
      "Tool name: 'write_file', Description: 'Create a new file or completely overwrite an exist'\n",
      "Tool name: 'edit_file', Description: 'Make line-based edits to a text file. Each edit re'\n",
      "Tool name: 'create_directory', Description: 'Create a new directory or ensure a directory exist'\n",
      "Tool name: 'list_directory', Description: 'Get a detailed listing of all files and directorie'\n",
      "Tool name: 'directory_tree', Description: 'Get a recursive tree view of files and directories'\n",
      "Tool name: 'move_file', Description: 'Move or rename files and directories. Can move fil'\n",
      "Tool name: 'search_files', Description: 'Recursively search for files and directories match'\n",
      "Tool name: 'get_file_info', Description: 'Retrieve detailed metadata about a file or directo'\n",
      "Tool name: 'list_allowed_directories', Description: 'Returns the list of directories that this server i'\n"
     ]
    }
   ],
   "source": [
    "\n",
    "sandbox_path = os.path.abspath(os.path.join(os.getcwd(), \"sandbox\"))\n",
    "files_params = {\"command\": \"npx\", \"args\": [\"-y\", \"@modelcontextprotocol/server-filesystem\", sandbox_path]}\n",
    "\n",
    "async with MCPServerStdio(params=files_params,client_session_timeout_seconds=30) as server:\n",
    "    file_tools = await server.list_tools()\n",
    "\n",
    "# file_tools\n",
    "print (f\"Tools length: {len(file_tools)}\\n\")\n",
    "for tool in file_tools:\n",
    "    print (f\"Tool name: '{tool.name}', Description: '{tool.description[:50]}'\")"
   ]
  },
  {
   "cell_type": "markdown",
   "metadata": {},
   "source": [
    "### And now.. bring on the Agent with Tools!"
   ]
  },
  {
   "cell_type": "code",
   "execution_count": 9,
   "metadata": {},
   "outputs": [
    {
     "name": "stdout",
     "output_type": "stream",
     "text": [
      "I have found a great recipe for Banoffee Pie and summarized it in markdown format. The summary is saved in the file sandbox/banoffee_pie-recipe.md. If you want, I can show you the content or assist you with anything else related to the recipe.\n"
     ]
    }
   ],
   "source": [
    "instructions = \"\"\"\n",
    "Use internet search tools to find the information you need—do not open a browser or manually click links.\n",
    "Leverage the search API to access multiple sources, read summaries, and extract key details.\n",
    "If one result isn't helpful, try different queries or results.\n",
    "Continue searching and refining until you fully complete the assignment.\n",
    "\"\"\"\n",
    "\n",
    "food_menu = \"Banoffee Pie\"\n",
    "message = f\"Find a great recipe for {food_menu}, then summarize it in markdown to {food_menu.lower().replace(\" \", \"_\")}-recipe.md in the sandbox directory.\"\n",
    "\n",
    "async with MCPServerStdio(params=files_params, client_session_timeout_seconds=30) as mcp_server_files:\n",
    "    async with MCPServerStdio(params=playwright_params, client_session_timeout_seconds=30) as mcp_server_browser:\n",
    "        agent = Agent(\n",
    "            name=\"investigator\", \n",
    "            instructions=instructions, \n",
    "            model=\"gpt-4.1-mini\",\n",
    "            mcp_servers=[mcp_server_files, mcp_server_browser]\n",
    "            )\n",
    "        with trace(\"investigate\"):\n",
    "            result = await Runner.run(agent, message)\n",
    "            print(result.final_output)\n"
   ]
  },
  {
   "cell_type": "markdown",
   "metadata": {},
   "source": [
    "### Check out the trace\n",
    "\n",
    "https://platform.openai.com/traces\n",
    "\n",
    "### Now take a look at some MCP marketplaces\n",
    "\n",
    "https://mcp.so\n",
    "\n",
    "https://glama.ai/mcp\n",
    "\n",
    "https://smithery.ai/\n",
    "\n",
    "https://huggingface.co/blog/LLMhacker/top-11-essential-mcp-libraries\n",
    "\n",
    "HuggingFace great community article:\n",
    "https://huggingface.co/blog/Kseniase/mcp\n",
    "\n",
    "\n",
    "\n"
   ]
  },
  {
   "cell_type": "markdown",
   "metadata": {},
   "source": []
  }
 ],
 "metadata": {
  "kernelspec": {
   "display_name": "Python 3 (ipykernel)",
   "language": "python",
   "name": "python3"
  },
  "language_info": {
   "codemirror_mode": {
    "name": "ipython",
    "version": 3
   },
   "file_extension": ".py",
   "mimetype": "text/x-python",
   "name": "python",
   "nbconvert_exporter": "python",
   "pygments_lexer": "ipython3",
   "version": "3.12.11"
  }
 },
 "nbformat": 4,
 "nbformat_minor": 4
}
