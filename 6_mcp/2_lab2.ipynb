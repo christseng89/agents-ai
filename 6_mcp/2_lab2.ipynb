{
 "cells": [
  {
   "cell_type": "markdown",
   "metadata": {},
   "source": [
    "### Week 6, Day 2\n",
    "\n",
    "We're about to create and use our own MCP Server and MCP Client!\n",
    "\n",
    "It's pretty simple, but it's not super-simple. The excitment around MCP is about how easy it is to share and use other MCP Servers - making our own does involve a bit of work.\n",
    "\n",
    "Let's review some python code made mostly by a hard-working Engineering Team:\n",
    "\n",
    "accounts.py"
   ]
  },
  {
   "cell_type": "code",
   "execution_count": 1,
   "metadata": {},
   "outputs": [
    {
     "data": {
      "text/plain": [
       "True"
      ]
     },
     "execution_count": 1,
     "metadata": {},
     "output_type": "execute_result"
    }
   ],
   "source": [
    "from dotenv import load_dotenv\n",
    "from agents import Agent, Runner, trace\n",
    "from agents.mcp import MCPServerStdio\n",
    "from IPython.display import display, Markdown\n",
    "import json\n",
    "\n",
    "load_dotenv(override=True)"
   ]
  },
  {
   "cell_type": "code",
   "execution_count": 2,
   "metadata": {},
   "outputs": [],
   "source": [
    "from accounts import Account"
   ]
  },
  {
   "cell_type": "code",
   "execution_count": 3,
   "metadata": {},
   "outputs": [
    {
     "data": {
      "text/plain": [
       "Account(name='ed', balance=3359.7302, strategy='You are a day trader that aggressively buys and sells shares based on news and market conditions.', holdings={'GMAB': 50, 'GPUS': 20, 'META': 10}, transactions=[50 shares of GMAB at 20.480880000000003 each., 20 shares of GPUS at 1.3627200000000002 each., 10 shares of META at 714.9971400000001 each.], portfolio_value_time_series=[('2025-07-03 20:50:01', 10000.0), ('2025-07-03 20:50:02', 10000.0), ('2025-07-03 20:51:13', 9997.956), ('2025-07-03 20:51:18', 9997.956), ('2025-07-03 20:51:22', 9997.956), ('2025-07-03 20:51:41', 9997.901600000001), ('2025-07-03 20:51:41', 9983.6302), ('2025-07-03 20:51:51', 9983.6302)])"
      ]
     },
     "execution_count": 3,
     "metadata": {},
     "output_type": "execute_result"
    }
   ],
   "source": [
    "account = Account.get(\"Ed\")\n",
    "account"
   ]
  },
  {
   "cell_type": "code",
   "execution_count": 4,
   "metadata": {},
   "outputs": [
    {
     "name": "stdout",
     "output_type": "stream",
     "text": [
      "Deposited $10000.00. New balance: $13359.73\n"
     ]
    }
   ],
   "source": [
    "account.deposit(10000)"
   ]
  },
  {
   "cell_type": "code",
   "execution_count": 5,
   "metadata": {},
   "outputs": [
    {
     "data": {
      "text/plain": [
       "'Completed. Latest details:\\n{\"name\": \"ed\", \"balance\": 12528.501059999999, \"strategy\": \"You are a day trader that aggressively buys and sells shares based on news and market conditions.\", \"holdings\": {\"GMAB\": 50, \"GPUS\": 20, \"META\": 10, \"AMZN\": 3, \"NVDA\": 1}, \"transactions\": [{\"symbol\": \"GMAB\", \"quantity\": 50, \"price\": 20.480880000000003, \"timestamp\": \"2025-07-03 20:51:13\", \"rationale\": \"Market undervaluation and neutral stance by Morgan Stanley suggest potential for short-term gains.\"}, {\"symbol\": \"GPUS\", \"quantity\": 20, \"price\": 1.3627200000000002, \"timestamp\": \"2025-07-03 20:51:41\", \"rationale\": \"Recent volatility and potential for a rebound after a pullback; following aggressive buying strategy.\"}, {\"symbol\": \"META\", \"quantity\": 10, \"price\": 714.9971400000001, \"timestamp\": \"2025-07-03 20:51:41\", \"rationale\": \"Promising advertising growth catalysts and a new price target suggests potential upward movement; fitting with day trading strategy.\"}, {\"symbol\": \"AMZN\", \"quantity\": 3, \"price\": 223.85682, \"timestamp\": \"2025-07-04 12:55:18\", \"rationale\": \"Because this bookstore website looks promising\"}, {\"symbol\": \"NVDA\", \"quantity\": 1, \"price\": 159.65868, \"timestamp\": \"2025-07-04 12:55:18\", \"rationale\": \"Because its AI chips technology looks promising\"}], \"portfolio_value_time_series\": [[\"2025-07-03 20:50:01\", 10000.0], [\"2025-07-03 20:50:02\", 10000.0], [\"2025-07-03 20:51:13\", 9997.956], [\"2025-07-03 20:51:18\", 9997.956], [\"2025-07-03 20:51:22\", 9997.956], [\"2025-07-03 20:51:41\", 9997.901600000001], [\"2025-07-03 20:51:41\", 9983.6302], [\"2025-07-03 20:51:51\", 9983.6302], [\"2025-07-04 12:55:18\", 21590.88974], [\"2025-07-04 12:55:18\", 21590.57106]], \"total_portfolio_value\": 21590.57106, \"total_profit_loss\": 29.571059999998397}'"
      ]
     },
     "execution_count": 5,
     "metadata": {},
     "output_type": "execute_result"
    }
   ],
   "source": [
    "account.buy_shares(\"AMZN\", 3, \"Because this bookstore website looks promising\")\n",
    "account.buy_shares(\"NVDA\", 1, \"Because its AI chips technology looks promising\")"
   ]
  },
  {
   "cell_type": "code",
   "execution_count": 6,
   "metadata": {},
   "outputs": [
    {
     "data": {
      "text/plain": [
       "'{\"name\": \"ed\", \"balance\": 12528.501059999999, \"strategy\": \"You are a day trader that aggressively buys and sells shares based on news and market conditions.\", \"holdings\": {\"GMAB\": 50, \"GPUS\": 20, \"META\": 10, \"AMZN\": 3, \"NVDA\": 1}, \"transactions\": [{\"symbol\": \"GMAB\", \"quantity\": 50, \"price\": 20.480880000000003, \"timestamp\": \"2025-07-03 20:51:13\", \"rationale\": \"Market undervaluation and neutral stance by Morgan Stanley suggest potential for short-term gains.\"}, {\"symbol\": \"GPUS\", \"quantity\": 20, \"price\": 1.3627200000000002, \"timestamp\": \"2025-07-03 20:51:41\", \"rationale\": \"Recent volatility and potential for a rebound after a pullback; following aggressive buying strategy.\"}, {\"symbol\": \"META\", \"quantity\": 10, \"price\": 714.9971400000001, \"timestamp\": \"2025-07-03 20:51:41\", \"rationale\": \"Promising advertising growth catalysts and a new price target suggests potential upward movement; fitting with day trading strategy.\"}, {\"symbol\": \"AMZN\", \"quantity\": 3, \"price\": 223.85682, \"timestamp\": \"2025-07-04 12:55:18\", \"rationale\": \"Because this bookstore website looks promising\"}, {\"symbol\": \"NVDA\", \"quantity\": 1, \"price\": 159.65868, \"timestamp\": \"2025-07-04 12:55:18\", \"rationale\": \"Because its AI chips technology looks promising\"}], \"portfolio_value_time_series\": [[\"2025-07-03 20:50:01\", 10000.0], [\"2025-07-03 20:50:02\", 10000.0], [\"2025-07-03 20:51:13\", 9997.956], [\"2025-07-03 20:51:18\", 9997.956], [\"2025-07-03 20:51:22\", 9997.956], [\"2025-07-03 20:51:41\", 9997.901600000001], [\"2025-07-03 20:51:41\", 9983.6302], [\"2025-07-03 20:51:51\", 9983.6302], [\"2025-07-04 12:55:18\", 21590.88974], [\"2025-07-04 12:55:18\", 21590.57106], [\"2025-07-04 12:55:18\", 21590.57106]], \"total_portfolio_value\": 21590.57106, \"total_profit_loss\": 29.571059999998397}'"
      ]
     },
     "execution_count": 6,
     "metadata": {},
     "output_type": "execute_result"
    }
   ],
   "source": [
    "account.report()"
   ]
  },
  {
   "cell_type": "code",
   "execution_count": 7,
   "metadata": {},
   "outputs": [
    {
     "data": {
      "text/plain": [
       "[{'symbol': 'GMAB',\n",
       "  'quantity': 50,\n",
       "  'price': 20.480880000000003,\n",
       "  'timestamp': '2025-07-03 20:51:13',\n",
       "  'rationale': 'Market undervaluation and neutral stance by Morgan Stanley suggest potential for short-term gains.'},\n",
       " {'symbol': 'GPUS',\n",
       "  'quantity': 20,\n",
       "  'price': 1.3627200000000002,\n",
       "  'timestamp': '2025-07-03 20:51:41',\n",
       "  'rationale': 'Recent volatility and potential for a rebound after a pullback; following aggressive buying strategy.'},\n",
       " {'symbol': 'META',\n",
       "  'quantity': 10,\n",
       "  'price': 714.9971400000001,\n",
       "  'timestamp': '2025-07-03 20:51:41',\n",
       "  'rationale': 'Promising advertising growth catalysts and a new price target suggests potential upward movement; fitting with day trading strategy.'},\n",
       " {'symbol': 'AMZN',\n",
       "  'quantity': 3,\n",
       "  'price': 223.85682,\n",
       "  'timestamp': '2025-07-04 12:55:18',\n",
       "  'rationale': 'Because this bookstore website looks promising'},\n",
       " {'symbol': 'NVDA',\n",
       "  'quantity': 1,\n",
       "  'price': 159.65868,\n",
       "  'timestamp': '2025-07-04 12:55:18',\n",
       "  'rationale': 'Because its AI chips technology looks promising'}]"
      ]
     },
     "execution_count": 7,
     "metadata": {},
     "output_type": "execute_result"
    }
   ],
   "source": [
    "account.list_transactions()"
   ]
  },
  {
   "cell_type": "code",
   "execution_count": 8,
   "metadata": {},
   "outputs": [],
   "source": [
    "# Account.get(\"ed\").report()"
   ]
  },
  {
   "cell_type": "markdown",
   "metadata": {},
   "source": [
    "### Now we write an MCP accounts server and use it directly!"
   ]
  },
  {
   "cell_type": "code",
   "execution_count": 9,
   "metadata": {},
   "outputs": [],
   "source": [
    "# Now let's use our accounts server as an MCP server\n",
    "\n",
    "params = {\"command\": \"uv\", \"args\": [\"run\", \"accounts_server.py\"]}\n",
    "async with MCPServerStdio(params=params, client_session_timeout_seconds=30) as server:\n",
    "    server_tools = await server.list_tools()\n"
   ]
  },
  {
   "cell_type": "code",
   "execution_count": 10,
   "metadata": {},
   "outputs": [
    {
     "name": "stdout",
     "output_type": "stream",
     "text": [
      "\n",
      "🤖 List of Tools - Accounts Server:\n",
      "========================================\n",
      "Number of tools: 5\n",
      "\n",
      "Name: 'get_balance' \n",
      "Description: 'Get the cash balance of the given account name.\n",
      "\n",
      "    Args:\n",
      "        name: The name of the account holder\n",
      "    '\n",
      "\n",
      "Name: 'get_holdings' \n",
      "Description: 'Get the holdings of the given account name.\n",
      "\n",
      "    Args:\n",
      "        name: The name of the account holder\n",
      "    '\n",
      "\n",
      "Name: 'buy_shares' \n",
      "Description: 'Buy shares of a stock.\n",
      "\n",
      "    Args:\n",
      "        name: The name of the account holder\n",
      "        symbol: The symbol of the stock\n",
      "        quantity: The quantity of shares to buy\n",
      "        rationale: The rationale for the purchase and fit with the account's strategy\n",
      "    '\n",
      "\n",
      "Name: 'sell_shares' \n",
      "Description: 'Sell shares of a stock.\n",
      "\n",
      "    Args:\n",
      "        name: The name of the account holder\n",
      "        symbol: The symbol of the stock\n",
      "        quantity: The quantity of shares to sell\n",
      "        rationale: The rationale for the sale and fit with the account's strategy\n",
      "    '\n",
      "\n",
      "Name: 'change_strategy' \n",
      "Description: 'At your discretion, if you choose to, call this to change your investment strategy for the future.\n",
      "\n",
      "    Args:\n",
      "        name: The name of the account holder\n",
      "        strategy: The new strategy for the account\n",
      "    '\n"
     ]
    }
   ],
   "source": [
    "print(\"\\n🤖 List of Tools - Accounts Server:\\n\" + \"=\"*40)\n",
    "print(f\"Number of tools: {len(server_tools)}\")\n",
    "for tool in server_tools:\n",
    "    print(f\"\\nName: '{tool.name}' \\nDescription: '{tool.description}'\")"
   ]
  },
  {
   "cell_type": "code",
   "execution_count": 11,
   "metadata": {},
   "outputs": [],
   "source": [
    "instructions = \"You are able to manage an account for a client, and answer questions about the account.\"\n",
    "request = \"My name is Ed and my account is under the name Ed. What's my balance and my holdings?\"\n",
    "model = \"gpt-4.1-mini\""
   ]
  },
  {
   "cell_type": "code",
   "execution_count": 12,
   "metadata": {},
   "outputs": [
    {
     "data": {
      "text/markdown": [
       "Ed, your current account balance is approximately $12,528.50. Your holdings include the following stocks:\n",
       "- GMAB: 50 shares\n",
       "- GPUS: 20 shares\n",
       "- META: 10 shares\n",
       "- AMZN: 3 shares\n",
       "- NVDA: 1 share\n",
       "\n",
       "If you have any specific questions or actions you'd like to take with your account, let me know!"
      ],
      "text/plain": [
       "<IPython.core.display.Markdown object>"
      ]
     },
     "metadata": {},
     "output_type": "display_data"
    }
   ],
   "source": [
    "async with MCPServerStdio(params=params, client_session_timeout_seconds=30) as mcp_server:\n",
    "    agent = Agent(name=\"account_manager\", instructions=instructions, model=model, mcp_servers=[mcp_server])\n",
    "    with trace(\"account_manager\"):\n",
    "        result = await Runner.run(agent, request)\n",
    "    display(Markdown(result.final_output))\n"
   ]
  },
  {
   "cell_type": "markdown",
   "metadata": {},
   "source": [
    "### Now let's build our own MCP Client"
   ]
  },
  {
   "cell_type": "code",
   "execution_count": 13,
   "metadata": {},
   "outputs": [],
   "source": [
    "# Print Read Accounts Resources Resource\n",
    "\n",
    "def print_account_summary(context):\n",
    "    \"\"\"\n",
    "    Prints a formatted summary of an account given its context dictionary.\n",
    "    \"\"\"\n",
    "    print(\"\\n✅ === ACCOUNT SUMMARY ===\")\n",
    "    print(f\"Name: {context['name']}\")\n",
    "    print(f\"Balance: ${context['balance']:.2f}\")\n",
    "    print(f\"Strategy: {context['strategy']}\\n\")\n",
    "\n",
    "    print(\"📊 === HOLDINGS ===\")\n",
    "    for symbol, qty in context[\"holdings\"].items():\n",
    "        print(f\"  {symbol}: {qty} shares\")\n",
    "    print()\n",
    "\n",
    "    print(\"📝 === TRANSACTIONS ===\")\n",
    "    for tx in context[\"transactions\"]:\n",
    "        action = \"BUY\" if tx[\"quantity\"] > 0 else \"SELL\"\n",
    "        quantity = abs(tx[\"quantity\"])\n",
    "        print(f\"- [{tx['timestamp']}] {action} {quantity} {tx['symbol']} @ ${tx['price']:.2f}\")\n",
    "        print(f\"    Rationale: {tx['rationale']}\\n\")\n",
    "\n",
    "    print(\"💰 === PORTFOLIO VALUE ===\")\n",
    "    print(f\"Total Value: ${context['total_portfolio_value']:.2f}\")\n",
    "    print(f\"Total Profit/Loss: ${context['total_profit_loss']:.2f}\")"
   ]
  },
  {
   "cell_type": "code",
   "execution_count": 14,
   "metadata": {},
   "outputs": [
    {
     "name": "stdout",
     "output_type": "stream",
     "text": [
      "Number of tools: 5\n",
      "\n",
      "🤖 List of OpenAI Tools - Accounts Client:\n",
      "========================================\n",
      "\n",
      "Name: 'get_balance' \n",
      "Description: 'Get the cash balance of the given account name.\n",
      "\n",
      "    Args:\n",
      "        name: The name of the account holder\n",
      "    '\n",
      "\n",
      "Name: 'get_holdings' \n",
      "Description: 'Get the holdings of the given account name.\n",
      "\n",
      "    Args:\n",
      "        name: The name of the account holder\n",
      "    '\n",
      "\n",
      "Name: 'buy_shares' \n",
      "Description: 'Buy shares of a stock.\n",
      "\n",
      "    Args:\n",
      "        name: The name of the account holder\n",
      "        symbol: The symbol of the stock\n",
      "        quantity: The quantity of shares to buy\n",
      "        rationale: The rationale for the purchase and fit with the account's strategy\n",
      "    '\n",
      "\n",
      "Name: 'sell_shares' \n",
      "Description: 'Sell shares of a stock.\n",
      "\n",
      "    Args:\n",
      "        name: The name of the account holder\n",
      "        symbol: The symbol of the stock\n",
      "        quantity: The quantity of shares to sell\n",
      "        rationale: The rationale for the sale and fit with the account's strategy\n",
      "    '\n",
      "\n",
      "Name: 'change_strategy' \n",
      "Description: 'At your discretion, if you choose to, call this to change your investment strategy for the future.\n",
      "\n",
      "    Args:\n",
      "        name: The name of the account holder\n",
      "        strategy: The new strategy for the account\n",
      "    '\n"
     ]
    }
   ],
   "source": [
    "from accounts_client import get_accounts_tools_openai, read_accounts_resource, list_accounts_tools, read_strategy_resource\n",
    "\n",
    "client_server_tools = await list_accounts_tools() #  Exposed accounts server tools to account client\n",
    "client_openai_tools= await get_accounts_tools_openai() # Convert tools to OpenAI Tool -> FunctionTool\n",
    "print(f\"Number of tools: {len(client_openai_tools)}\")\n",
    "print(\"\\n🤖 List of OpenAI Tools - Accounts Client:\\n\" + \"=\"*40)\n",
    "for tool in client_openai_tools:\n",
    "    print(f\"\\nName: '{tool.name}' \\nDescription: '{tool.description}'\")    \n"
   ]
  },
  {
   "cell_type": "code",
   "execution_count": 15,
   "metadata": {},
   "outputs": [
    {
     "name": "stdout",
     "output_type": "stream",
     "text": [
      "Ed, your account balance is $12,528.50. If you need any other information or assistance with your account, please let me know!\n"
     ]
    }
   ],
   "source": [
    "# Agent with OpenAI tools\n",
    "request = \"My name is Ed and my account is under the name Ed. What's my balance?\"\n",
    "\n",
    "agent = Agent(\n",
    "    name=\"account_manager\",\n",
    "    instructions=instructions,\n",
    "    model=model,\n",
    "    tools=client_openai_tools\n",
    ")\n",
    "with trace(\"account_mcp_client\"):\n",
    "    result = await Runner.run(agent, request)\n",
    "    print(result.final_output)    "
   ]
  },
  {
   "cell_type": "code",
   "execution_count": 16,
   "metadata": {},
   "outputs": [
    {
     "name": "stdout",
     "output_type": "stream",
     "text": [
      "\n",
      "✅ === ACCOUNT SUMMARY ===\n",
      "Name: ed\n",
      "Balance: $12528.50\n",
      "Strategy: You are a day trader that aggressively buys and sells shares based on news and market conditions.\n",
      "\n",
      "📊 === HOLDINGS ===\n",
      "  GMAB: 50 shares\n",
      "  GPUS: 20 shares\n",
      "  META: 10 shares\n",
      "  AMZN: 3 shares\n",
      "  NVDA: 1 shares\n",
      "\n",
      "📝 === TRANSACTIONS ===\n",
      "- [2025-07-03 20:51:13] BUY 50 GMAB @ $20.48\n",
      "    Rationale: Market undervaluation and neutral stance by Morgan Stanley suggest potential for short-term gains.\n",
      "\n",
      "- [2025-07-03 20:51:41] BUY 20 GPUS @ $1.36\n",
      "    Rationale: Recent volatility and potential for a rebound after a pullback; following aggressive buying strategy.\n",
      "\n",
      "- [2025-07-03 20:51:41] BUY 10 META @ $715.00\n",
      "    Rationale: Promising advertising growth catalysts and a new price target suggests potential upward movement; fitting with day trading strategy.\n",
      "\n",
      "- [2025-07-04 12:55:18] BUY 3 AMZN @ $223.86\n",
      "    Rationale: Because this bookstore website looks promising\n",
      "\n",
      "- [2025-07-04 12:55:18] BUY 1 NVDA @ $159.66\n",
      "    Rationale: Because its AI chips technology looks promising\n",
      "\n",
      "💰 === PORTFOLIO VALUE ===\n",
      "Total Value: $21590.57\n",
      "Total Profit/Loss: $29.57\n"
     ]
    }
   ],
   "source": [
    "context = await read_accounts_resource(\"ed\")\n",
    "context = json.loads(context)\n",
    "print_account_summary(context)"
   ]
  },
  {
   "cell_type": "code",
   "execution_count": 17,
   "metadata": {},
   "outputs": [
    {
     "name": "stdout",
     "output_type": "stream",
     "text": [
      "\n",
      "✅ === ACCOUNT SUMMARY ===\n",
      "Name: ed\n",
      "Balance: $12528.50\n",
      "Strategy: You are a day trader that aggressively buys and sells shares based on news and market conditions.\n",
      "\n",
      "📊 === HOLDINGS ===\n",
      "  GMAB: 50 shares\n",
      "  GPUS: 20 shares\n",
      "  META: 10 shares\n",
      "  AMZN: 3 shares\n",
      "  NVDA: 1 shares\n",
      "\n",
      "📝 === TRANSACTIONS ===\n",
      "- [2025-07-03 20:51:13] BUY 50 GMAB @ $20.48\n",
      "    Rationale: Market undervaluation and neutral stance by Morgan Stanley suggest potential for short-term gains.\n",
      "\n",
      "- [2025-07-03 20:51:41] BUY 20 GPUS @ $1.36\n",
      "    Rationale: Recent volatility and potential for a rebound after a pullback; following aggressive buying strategy.\n",
      "\n",
      "- [2025-07-03 20:51:41] BUY 10 META @ $715.00\n",
      "    Rationale: Promising advertising growth catalysts and a new price target suggests potential upward movement; fitting with day trading strategy.\n",
      "\n",
      "- [2025-07-04 12:55:18] BUY 3 AMZN @ $223.86\n",
      "    Rationale: Because this bookstore website looks promising\n",
      "\n",
      "- [2025-07-04 12:55:18] BUY 1 NVDA @ $159.66\n",
      "    Rationale: Because its AI chips technology looks promising\n",
      "\n",
      "💰 === PORTFOLIO VALUE ===\n",
      "Total Value: $21590.57\n",
      "Total Profit/Loss: $29.57\n"
     ]
    }
   ],
   "source": [
    "report = Account.get(\"ed\").report()\n",
    "report = json.loads(report)\n",
    "print_account_summary(report)"
   ]
  },
  {
   "cell_type": "code",
   "execution_count": 18,
   "metadata": {},
   "outputs": [
    {
     "name": "stdout",
     "output_type": "stream",
     "text": [
      "You are a day trader that aggressively buys and sells shares based on news and market conditions.\n"
     ]
    }
   ],
   "source": [
    "strategy = await read_strategy_resource(\"ed\")\n",
    "print (strategy)"
   ]
  },
  {
   "cell_type": "markdown",
   "metadata": {},
   "source": [
    "<table style=\"margin: 0; text-align: left; width:100%\">\n",
    "    <tr>\n",
    "        <td style=\"width: 150px; height: 150px; vertical-align: middle;\">\n",
    "            <img src=\"../assets/exercise.png\" width=\"150\" height=\"150\" style=\"display: block;\" />\n",
    "        </td>\n",
    "        <td>\n",
    "            <h2 style=\"color:#ff7800;\">Exercises</h2>\n",
    "            <span style=\"color:#ff7800;\">Make your own MCP Server! Make a simple function to return the current Date, and expose it as a tool so that an Agent can tell you today's date.<br/>Harder optional exercise: then make an MCP Client, and use a native OpenAI call (without the Agents SDK) to use your tool via your client.\n",
    "            </span>\n",
    "        </td>\n",
    "    </tr>\n",
    "</table>"
   ]
  },
  {
   "cell_type": "code",
   "execution_count": null,
   "metadata": {},
   "outputs": [],
   "source": []
  }
 ],
 "metadata": {
  "kernelspec": {
   "display_name": "Python 3 (ipykernel)",
   "language": "python",
   "name": "python3"
  },
  "language_info": {
   "codemirror_mode": {
    "name": "ipython",
    "version": 3
   },
   "file_extension": ".py",
   "mimetype": "text/x-python",
   "name": "python",
   "nbconvert_exporter": "python",
   "pygments_lexer": "ipython3",
   "version": "3.12.11"
  }
 },
 "nbformat": 4,
 "nbformat_minor": 4
}
