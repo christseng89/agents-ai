{
 "cells": [
  {
   "cell_type": "markdown",
   "metadata": {},
   "source": [
    "### Week 6, Day 2\n",
    "\n",
    "We're about to create and use our own MCP Server and MCP Client!\n",
    "\n",
    "It's pretty simple, but it's not super-simple. The excitment around MCP is about how easy it is to share and use other MCP Servers - making our own does involve a bit of work.\n",
    "\n",
    "Let's review some python code made mostly by a hard-working Engineering Team:\n",
    "\n",
    "accounts.py"
   ]
  },
  {
   "cell_type": "code",
   "execution_count": 1,
   "metadata": {},
   "outputs": [
    {
     "data": {
      "text/plain": [
       "True"
      ]
     },
     "execution_count": 1,
     "metadata": {},
     "output_type": "execute_result"
    }
   ],
   "source": [
    "from dotenv import load_dotenv\n",
    "from agents import Agent, Runner, trace\n",
    "from agents.mcp import MCPServerStdio\n",
    "from IPython.display import display, Markdown\n",
    "\n",
    "load_dotenv(override=True)"
   ]
  },
  {
   "cell_type": "code",
   "execution_count": 2,
   "metadata": {},
   "outputs": [],
   "source": [
    "from accounts import Account"
   ]
  },
  {
   "cell_type": "code",
   "execution_count": 3,
   "metadata": {},
   "outputs": [
    {
     "data": {
      "text/plain": [
       "Account(name='ed', balance=9395.6336, strategy='You are a day trader that aggressively buys and sells shares based on news and market conditions.', holdings={'NVDA': 10, 'AAPL': 15, 'MSFT': 10, 'NKE': 5, 'AMZN': 3}, transactions=[10 shares of NVDA at 158.06550000000001 each., 15 shares of AAPL at 201.48216000000002 each., 10 shares of MSFT at 496.93188 each., 5 shares of NKE at 72.18408000000001 each., 3 shares of AMZN at 223.7466 each.], portfolio_value_time_series=[('2025-06-30 00:15:40', 10000.0), ('2025-06-30 00:15:41', 10000.0), ('2025-06-30 00:15:59', 9996.845), ('2025-06-30 00:15:59', 9990.8126), ('2025-06-30 00:16:08', 9990.8126), ('2025-06-30 00:16:14', 9990.8126), ('2025-06-30 00:16:38', 9980.893799999998), ('2025-06-30 00:16:40', 9980.1734), ('2025-06-30 00:16:51', 9980.1734), ('2025-06-30 01:12:59', 19978.8336), ('2025-06-30 01:13:04', 19978.8336)])"
      ]
     },
     "execution_count": 3,
     "metadata": {},
     "output_type": "execute_result"
    }
   ],
   "source": [
    "account = Account.get(\"Ed\")\n",
    "account"
   ]
  },
  {
   "cell_type": "code",
   "execution_count": 4,
   "metadata": {},
   "outputs": [
    {
     "name": "stdout",
     "output_type": "stream",
     "text": [
      "Deposited $10000. New balance: $19395.6336\n"
     ]
    }
   ],
   "source": [
    "account.deposit(10000)"
   ]
  },
  {
   "cell_type": "code",
   "execution_count": 5,
   "metadata": {},
   "outputs": [
    {
     "data": {
      "text/plain": [
       "'Completed. Latest details:\\n{\"name\": \"ed\", \"balance\": 18724.3938, \"strategy\": \"You are a day trader that aggressively buys and sells shares based on news and market conditions.\", \"holdings\": {\"NVDA\": 10, \"AAPL\": 15, \"MSFT\": 10, \"NKE\": 5, \"AMZN\": 6}, \"transactions\": [{\"symbol\": \"NVDA\", \"quantity\": 10, \"price\": 158.06550000000001, \"timestamp\": \"2025-06-30 00:15:59\", \"rationale\": \"Investing in Nvidia due to its critical role in the AI sector and expected continued demand despite insider selling.\"}, {\"symbol\": \"AAPL\", \"quantity\": 15, \"price\": 201.48216000000002, \"timestamp\": \"2025-06-30 00:15:59\", \"rationale\": \"Apple\\'s strong market performance and resilience in product demand make it a stable choice amid inflation concerns.\"}, {\"symbol\": \"MSFT\", \"quantity\": 10, \"price\": 496.93188, \"timestamp\": \"2025-06-30 00:16:38\", \"rationale\": \"Microsoft\\'s strong growth in cloud services positions it well for the ongoing tech surge.\"}, {\"symbol\": \"NKE\", \"quantity\": 5, \"price\": 72.18408000000001, \"timestamp\": \"2025-06-30 00:16:40\", \"rationale\": \"Nike\\'s adaptation to consumer preferences and strong brand resilience provide a favorable trading outlook.\"}, {\"symbol\": \"AMZN\", \"quantity\": 3, \"price\": 223.7466, \"timestamp\": \"2025-06-30 01:12:59\", \"rationale\": \"Because this bookstore website looks promising\"}, {\"symbol\": \"AMZN\", \"quantity\": 3, \"price\": 223.7466, \"timestamp\": \"2025-06-30 01:13:28\", \"rationale\": \"Because this bookstore website looks promising\"}], \"portfolio_value_time_series\": [[\"2025-06-30 00:15:40\", 10000.0], [\"2025-06-30 00:15:41\", 10000.0], [\"2025-06-30 00:15:59\", 9996.845], [\"2025-06-30 00:15:59\", 9990.8126], [\"2025-06-30 00:16:08\", 9990.8126], [\"2025-06-30 00:16:14\", 9990.8126], [\"2025-06-30 00:16:38\", 9980.893799999998], [\"2025-06-30 00:16:40\", 9980.1734], [\"2025-06-30 00:16:51\", 9980.1734], [\"2025-06-30 01:12:59\", 19978.8336], [\"2025-06-30 01:13:04\", 19978.8336], [\"2025-06-30 01:13:28\", 29977.493800000004]], \"total_portfolio_value\": 29977.493800000004, \"total_profit_loss\": -22.506199999999808}'"
      ]
     },
     "execution_count": 5,
     "metadata": {},
     "output_type": "execute_result"
    }
   ],
   "source": [
    "account.buy_shares(\"AMZN\", 3, \"Because this bookstore website looks promising\")"
   ]
  },
  {
   "cell_type": "code",
   "execution_count": 6,
   "metadata": {},
   "outputs": [
    {
     "data": {
      "text/plain": [
       "'{\"name\": \"ed\", \"balance\": 18724.3938, \"strategy\": \"You are a day trader that aggressively buys and sells shares based on news and market conditions.\", \"holdings\": {\"NVDA\": 10, \"AAPL\": 15, \"MSFT\": 10, \"NKE\": 5, \"AMZN\": 6}, \"transactions\": [{\"symbol\": \"NVDA\", \"quantity\": 10, \"price\": 158.06550000000001, \"timestamp\": \"2025-06-30 00:15:59\", \"rationale\": \"Investing in Nvidia due to its critical role in the AI sector and expected continued demand despite insider selling.\"}, {\"symbol\": \"AAPL\", \"quantity\": 15, \"price\": 201.48216000000002, \"timestamp\": \"2025-06-30 00:15:59\", \"rationale\": \"Apple\\'s strong market performance and resilience in product demand make it a stable choice amid inflation concerns.\"}, {\"symbol\": \"MSFT\", \"quantity\": 10, \"price\": 496.93188, \"timestamp\": \"2025-06-30 00:16:38\", \"rationale\": \"Microsoft\\'s strong growth in cloud services positions it well for the ongoing tech surge.\"}, {\"symbol\": \"NKE\", \"quantity\": 5, \"price\": 72.18408000000001, \"timestamp\": \"2025-06-30 00:16:40\", \"rationale\": \"Nike\\'s adaptation to consumer preferences and strong brand resilience provide a favorable trading outlook.\"}, {\"symbol\": \"AMZN\", \"quantity\": 3, \"price\": 223.7466, \"timestamp\": \"2025-06-30 01:12:59\", \"rationale\": \"Because this bookstore website looks promising\"}, {\"symbol\": \"AMZN\", \"quantity\": 3, \"price\": 223.7466, \"timestamp\": \"2025-06-30 01:13:28\", \"rationale\": \"Because this bookstore website looks promising\"}], \"portfolio_value_time_series\": [[\"2025-06-30 00:15:40\", 10000.0], [\"2025-06-30 00:15:41\", 10000.0], [\"2025-06-30 00:15:59\", 9996.845], [\"2025-06-30 00:15:59\", 9990.8126], [\"2025-06-30 00:16:08\", 9990.8126], [\"2025-06-30 00:16:14\", 9990.8126], [\"2025-06-30 00:16:38\", 9980.893799999998], [\"2025-06-30 00:16:40\", 9980.1734], [\"2025-06-30 00:16:51\", 9980.1734], [\"2025-06-30 01:12:59\", 19978.8336], [\"2025-06-30 01:13:04\", 19978.8336], [\"2025-06-30 01:13:28\", 29977.493800000004], [\"2025-06-30 01:13:28\", 29977.493800000004]], \"total_portfolio_value\": 29977.493800000004, \"total_profit_loss\": -22.506199999999808}'"
      ]
     },
     "execution_count": 6,
     "metadata": {},
     "output_type": "execute_result"
    }
   ],
   "source": [
    "account.report()"
   ]
  },
  {
   "cell_type": "code",
   "execution_count": 7,
   "metadata": {},
   "outputs": [
    {
     "data": {
      "text/plain": [
       "[{'symbol': 'NVDA',\n",
       "  'quantity': 10,\n",
       "  'price': 158.06550000000001,\n",
       "  'timestamp': '2025-06-30 00:15:59',\n",
       "  'rationale': 'Investing in Nvidia due to its critical role in the AI sector and expected continued demand despite insider selling.'},\n",
       " {'symbol': 'AAPL',\n",
       "  'quantity': 15,\n",
       "  'price': 201.48216000000002,\n",
       "  'timestamp': '2025-06-30 00:15:59',\n",
       "  'rationale': \"Apple's strong market performance and resilience in product demand make it a stable choice amid inflation concerns.\"},\n",
       " {'symbol': 'MSFT',\n",
       "  'quantity': 10,\n",
       "  'price': 496.93188,\n",
       "  'timestamp': '2025-06-30 00:16:38',\n",
       "  'rationale': \"Microsoft's strong growth in cloud services positions it well for the ongoing tech surge.\"},\n",
       " {'symbol': 'NKE',\n",
       "  'quantity': 5,\n",
       "  'price': 72.18408000000001,\n",
       "  'timestamp': '2025-06-30 00:16:40',\n",
       "  'rationale': \"Nike's adaptation to consumer preferences and strong brand resilience provide a favorable trading outlook.\"},\n",
       " {'symbol': 'AMZN',\n",
       "  'quantity': 3,\n",
       "  'price': 223.7466,\n",
       "  'timestamp': '2025-06-30 01:12:59',\n",
       "  'rationale': 'Because this bookstore website looks promising'},\n",
       " {'symbol': 'AMZN',\n",
       "  'quantity': 3,\n",
       "  'price': 223.7466,\n",
       "  'timestamp': '2025-06-30 01:13:28',\n",
       "  'rationale': 'Because this bookstore website looks promising'}]"
      ]
     },
     "execution_count": 7,
     "metadata": {},
     "output_type": "execute_result"
    }
   ],
   "source": [
    "account.list_transactions()"
   ]
  },
  {
   "cell_type": "markdown",
   "metadata": {},
   "source": [
    "### Now we write an MCP server and use it directly!"
   ]
  },
  {
   "cell_type": "code",
   "execution_count": 8,
   "metadata": {},
   "outputs": [],
   "source": [
    "# Now let's use our accounts server as an MCP server\n",
    "\n",
    "params = {\"command\": \"uv\", \"args\": [\"run\", \"accounts_server.py\"]}\n",
    "async with MCPServerStdio(params=params, client_session_timeout_seconds=30) as server:\n",
    "    mcp_tools = await server.list_tools()\n"
   ]
  },
  {
   "cell_type": "code",
   "execution_count": 9,
   "metadata": {},
   "outputs": [
    {
     "data": {
      "text/plain": [
       "[Tool(name='get_balance', description='Get the cash balance of the given account name.\\n\\n    Args:\\n        name: The name of the account holder\\n    ', inputSchema={'properties': {'name': {'title': 'Name', 'type': 'string'}}, 'required': ['name'], 'title': 'get_balanceArguments', 'type': 'object'}, annotations=None),\n",
       " Tool(name='get_holdings', description='Get the holdings of the given account name.\\n\\n    Args:\\n        name: The name of the account holder\\n    ', inputSchema={'properties': {'name': {'title': 'Name', 'type': 'string'}}, 'required': ['name'], 'title': 'get_holdingsArguments', 'type': 'object'}, annotations=None),\n",
       " Tool(name='buy_shares', description=\"Buy shares of a stock.\\n\\n    Args:\\n        name: The name of the account holder\\n        symbol: The symbol of the stock\\n        quantity: The quantity of shares to buy\\n        rationale: The rationale for the purchase and fit with the account's strategy\\n    \", inputSchema={'properties': {'name': {'title': 'Name', 'type': 'string'}, 'symbol': {'title': 'Symbol', 'type': 'string'}, 'quantity': {'title': 'Quantity', 'type': 'integer'}, 'rationale': {'title': 'Rationale', 'type': 'string'}}, 'required': ['name', 'symbol', 'quantity', 'rationale'], 'title': 'buy_sharesArguments', 'type': 'object'}, annotations=None),\n",
       " Tool(name='sell_shares', description=\"Sell shares of a stock.\\n\\n    Args:\\n        name: The name of the account holder\\n        symbol: The symbol of the stock\\n        quantity: The quantity of shares to sell\\n        rationale: The rationale for the sale and fit with the account's strategy\\n    \", inputSchema={'properties': {'name': {'title': 'Name', 'type': 'string'}, 'symbol': {'title': 'Symbol', 'type': 'string'}, 'quantity': {'title': 'Quantity', 'type': 'integer'}, 'rationale': {'title': 'Rationale', 'type': 'string'}}, 'required': ['name', 'symbol', 'quantity', 'rationale'], 'title': 'sell_sharesArguments', 'type': 'object'}, annotations=None),\n",
       " Tool(name='change_strategy', description='At your discretion, if you choose to, call this to change your investment strategy for the future.\\n\\n    Args:\\n        name: The name of the account holder\\n        strategy: The new strategy for the account\\n    ', inputSchema={'properties': {'name': {'title': 'Name', 'type': 'string'}, 'strategy': {'title': 'Strategy', 'type': 'string'}}, 'required': ['name', 'strategy'], 'title': 'change_strategyArguments', 'type': 'object'}, annotations=None)]"
      ]
     },
     "execution_count": 9,
     "metadata": {},
     "output_type": "execute_result"
    }
   ],
   "source": [
    "mcp_tools"
   ]
  },
  {
   "cell_type": "code",
   "execution_count": 10,
   "metadata": {},
   "outputs": [],
   "source": [
    "instructions = \"You are able to manage an account for a client, and answer questions about the account.\"\n",
    "request = \"My name is Ed and my account is under the name Ed. What's my balance and my holdings?\"\n",
    "model = \"gpt-4.1-mini\""
   ]
  },
  {
   "cell_type": "code",
   "execution_count": 11,
   "metadata": {},
   "outputs": [
    {
     "data": {
      "text/markdown": [
       "Ed, your current cash balance is approximately $18,724.39. Your holdings include:\n",
       "- 10 shares of NVDA (NVIDIA)\n",
       "- 15 shares of AAPL (Apple)\n",
       "- 10 shares of MSFT (Microsoft)\n",
       "- 5 shares of NKE (Nike)\n",
       "- 6 shares of AMZN (Amazon)\n",
       "\n",
       "Is there anything you would like to do with your account?"
      ],
      "text/plain": [
       "<IPython.core.display.Markdown object>"
      ]
     },
     "metadata": {},
     "output_type": "display_data"
    }
   ],
   "source": [
    "\n",
    "async with MCPServerStdio(params=params, client_session_timeout_seconds=30) as mcp_server:\n",
    "    agent = Agent(name=\"account_manager\", instructions=instructions, model=model, mcp_servers=[mcp_server])\n",
    "    with trace(\"account_manager\"):\n",
    "        result = await Runner.run(agent, request)\n",
    "    display(Markdown(result.final_output))\n"
   ]
  },
  {
   "cell_type": "markdown",
   "metadata": {},
   "source": [
    "### Now let's build our own MCP Client"
   ]
  },
  {
   "cell_type": "code",
   "execution_count": 12,
   "metadata": {},
   "outputs": [
    {
     "name": "stdout",
     "output_type": "stream",
     "text": [
      "[Tool(name='get_balance', description='Get the cash balance of the given account name.\\n\\n    Args:\\n        name: The name of the account holder\\n    ', inputSchema={'properties': {'name': {'title': 'Name', 'type': 'string'}}, 'required': ['name'], 'title': 'get_balanceArguments', 'type': 'object'}, annotations=None), Tool(name='get_holdings', description='Get the holdings of the given account name.\\n\\n    Args:\\n        name: The name of the account holder\\n    ', inputSchema={'properties': {'name': {'title': 'Name', 'type': 'string'}}, 'required': ['name'], 'title': 'get_holdingsArguments', 'type': 'object'}, annotations=None), Tool(name='buy_shares', description=\"Buy shares of a stock.\\n\\n    Args:\\n        name: The name of the account holder\\n        symbol: The symbol of the stock\\n        quantity: The quantity of shares to buy\\n        rationale: The rationale for the purchase and fit with the account's strategy\\n    \", inputSchema={'properties': {'name': {'title': 'Name', 'type': 'string'}, 'symbol': {'title': 'Symbol', 'type': 'string'}, 'quantity': {'title': 'Quantity', 'type': 'integer'}, 'rationale': {'title': 'Rationale', 'type': 'string'}}, 'required': ['name', 'symbol', 'quantity', 'rationale'], 'title': 'buy_sharesArguments', 'type': 'object'}, annotations=None), Tool(name='sell_shares', description=\"Sell shares of a stock.\\n\\n    Args:\\n        name: The name of the account holder\\n        symbol: The symbol of the stock\\n        quantity: The quantity of shares to sell\\n        rationale: The rationale for the sale and fit with the account's strategy\\n    \", inputSchema={'properties': {'name': {'title': 'Name', 'type': 'string'}, 'symbol': {'title': 'Symbol', 'type': 'string'}, 'quantity': {'title': 'Quantity', 'type': 'integer'}, 'rationale': {'title': 'Rationale', 'type': 'string'}}, 'required': ['name', 'symbol', 'quantity', 'rationale'], 'title': 'sell_sharesArguments', 'type': 'object'}, annotations=None), Tool(name='change_strategy', description='At your discretion, if you choose to, call this to change your investment strategy for the future.\\n\\n    Args:\\n        name: The name of the account holder\\n        strategy: The new strategy for the account\\n    ', inputSchema={'properties': {'name': {'title': 'Name', 'type': 'string'}, 'strategy': {'title': 'Strategy', 'type': 'string'}}, 'required': ['name', 'strategy'], 'title': 'change_strategyArguments', 'type': 'object'}, annotations=None)]\n",
      "[FunctionTool(name='get_balance', description='Get the cash balance of the given account name.\\n\\n    Args:\\n        name: The name of the account holder\\n    ', params_json_schema={'properties': {'name': {'title': 'Name', 'type': 'string'}}, 'required': ['name'], 'title': 'get_balanceArguments', 'type': 'object', 'additionalProperties': False}, on_invoke_tool=<function get_accounts_tools_openai.<locals>.<lambda> at 0xffc2822a4360>, strict_json_schema=True), FunctionTool(name='get_holdings', description='Get the holdings of the given account name.\\n\\n    Args:\\n        name: The name of the account holder\\n    ', params_json_schema={'properties': {'name': {'title': 'Name', 'type': 'string'}}, 'required': ['name'], 'title': 'get_holdingsArguments', 'type': 'object', 'additionalProperties': False}, on_invoke_tool=<function get_accounts_tools_openai.<locals>.<lambda> at 0xffc2822a4180>, strict_json_schema=True), FunctionTool(name='buy_shares', description=\"Buy shares of a stock.\\n\\n    Args:\\n        name: The name of the account holder\\n        symbol: The symbol of the stock\\n        quantity: The quantity of shares to buy\\n        rationale: The rationale for the purchase and fit with the account's strategy\\n    \", params_json_schema={'properties': {'name': {'title': 'Name', 'type': 'string'}, 'symbol': {'title': 'Symbol', 'type': 'string'}, 'quantity': {'title': 'Quantity', 'type': 'integer'}, 'rationale': {'title': 'Rationale', 'type': 'string'}}, 'required': ['name', 'symbol', 'quantity', 'rationale'], 'title': 'buy_sharesArguments', 'type': 'object', 'additionalProperties': False}, on_invoke_tool=<function get_accounts_tools_openai.<locals>.<lambda> at 0xffc2822a4040>, strict_json_schema=True), FunctionTool(name='sell_shares', description=\"Sell shares of a stock.\\n\\n    Args:\\n        name: The name of the account holder\\n        symbol: The symbol of the stock\\n        quantity: The quantity of shares to sell\\n        rationale: The rationale for the sale and fit with the account's strategy\\n    \", params_json_schema={'properties': {'name': {'title': 'Name', 'type': 'string'}, 'symbol': {'title': 'Symbol', 'type': 'string'}, 'quantity': {'title': 'Quantity', 'type': 'integer'}, 'rationale': {'title': 'Rationale', 'type': 'string'}}, 'required': ['name', 'symbol', 'quantity', 'rationale'], 'title': 'sell_sharesArguments', 'type': 'object', 'additionalProperties': False}, on_invoke_tool=<function get_accounts_tools_openai.<locals>.<lambda> at 0xffc26fd79d00>, strict_json_schema=True), FunctionTool(name='change_strategy', description='At your discretion, if you choose to, call this to change your investment strategy for the future.\\n\\n    Args:\\n        name: The name of the account holder\\n        strategy: The new strategy for the account\\n    ', params_json_schema={'properties': {'name': {'title': 'Name', 'type': 'string'}, 'strategy': {'title': 'Strategy', 'type': 'string'}}, 'required': ['name', 'strategy'], 'title': 'change_strategyArguments', 'type': 'object', 'additionalProperties': False}, on_invoke_tool=<function get_accounts_tools_openai.<locals>.<lambda> at 0xffc26fd79b20>, strict_json_schema=True)]\n"
     ]
    }
   ],
   "source": [
    "from accounts_client import get_accounts_tools_openai, read_accounts_resource, list_accounts_tools\n",
    "\n",
    "mcp_tools = await list_accounts_tools()\n",
    "print(mcp_tools)\n",
    "openai_tools = await get_accounts_tools_openai()\n",
    "print(openai_tools)"
   ]
  },
  {
   "cell_type": "code",
   "execution_count": 13,
   "metadata": {},
   "outputs": [
    {
     "data": {
      "text/markdown": [
       "Ed, your current account balance is approximately $18,724.39. Is there anything else you would like to know or do with your account?"
      ],
      "text/plain": [
       "<IPython.core.display.Markdown object>"
      ]
     },
     "metadata": {},
     "output_type": "display_data"
    }
   ],
   "source": [
    "request = \"My name is Ed and my account is under the name Ed. What's my balance?\"\n",
    "\n",
    "with trace(\"account_mcp_client\"):\n",
    "    agent = Agent(name=\"account_manager\", instructions=instructions, model=model, tools=openai_tools)\n",
    "    result = await Runner.run(agent, request)\n",
    "    display(Markdown(result.final_output))"
   ]
  },
  {
   "cell_type": "code",
   "execution_count": 14,
   "metadata": {},
   "outputs": [
    {
     "name": "stdout",
     "output_type": "stream",
     "text": [
      "{\"name\": \"ed\", \"balance\": 18724.3938, \"strategy\": \"You are a day trader that aggressively buys and sells shares based on news and market conditions.\", \"holdings\": {\"NVDA\": 10, \"AAPL\": 15, \"MSFT\": 10, \"NKE\": 5, \"AMZN\": 6}, \"transactions\": [{\"symbol\": \"NVDA\", \"quantity\": 10, \"price\": 158.06550000000001, \"timestamp\": \"2025-06-30 00:15:59\", \"rationale\": \"Investing in Nvidia due to its critical role in the AI sector and expected continued demand despite insider selling.\"}, {\"symbol\": \"AAPL\", \"quantity\": 15, \"price\": 201.48216000000002, \"timestamp\": \"2025-06-30 00:15:59\", \"rationale\": \"Apple's strong market performance and resilience in product demand make it a stable choice amid inflation concerns.\"}, {\"symbol\": \"MSFT\", \"quantity\": 10, \"price\": 496.93188, \"timestamp\": \"2025-06-30 00:16:38\", \"rationale\": \"Microsoft's strong growth in cloud services positions it well for the ongoing tech surge.\"}, {\"symbol\": \"NKE\", \"quantity\": 5, \"price\": 72.18408000000001, \"timestamp\": \"2025-06-30 00:16:40\", \"rationale\": \"Nike's adaptation to consumer preferences and strong brand resilience provide a favorable trading outlook.\"}, {\"symbol\": \"AMZN\", \"quantity\": 3, \"price\": 223.7466, \"timestamp\": \"2025-06-30 01:12:59\", \"rationale\": \"Because this bookstore website looks promising\"}, {\"symbol\": \"AMZN\", \"quantity\": 3, \"price\": 223.7466, \"timestamp\": \"2025-06-30 01:13:28\", \"rationale\": \"Because this bookstore website looks promising\"}], \"portfolio_value_time_series\": [[\"2025-06-30 00:15:40\", 10000.0], [\"2025-06-30 00:15:41\", 10000.0], [\"2025-06-30 00:15:59\", 9996.845], [\"2025-06-30 00:15:59\", 9990.8126], [\"2025-06-30 00:16:08\", 9990.8126], [\"2025-06-30 00:16:14\", 9990.8126], [\"2025-06-30 00:16:38\", 9980.893799999998], [\"2025-06-30 00:16:40\", 9980.1734], [\"2025-06-30 00:16:51\", 9980.1734], [\"2025-06-30 01:12:59\", 19978.8336], [\"2025-06-30 01:13:04\", 19978.8336], [\"2025-06-30 01:13:28\", 29977.493800000004], [\"2025-06-30 01:13:28\", 29977.493800000004], [\"2025-06-30 01:13:37\", 29977.493800000004]], \"total_portfolio_value\": 29977.493800000004, \"total_profit_loss\": -22.506199999999808}\n"
     ]
    }
   ],
   "source": [
    "context = await read_accounts_resource(\"ed\")\n",
    "print(context)"
   ]
  },
  {
   "cell_type": "code",
   "execution_count": 15,
   "metadata": {},
   "outputs": [
    {
     "data": {
      "text/plain": [
       "'{\"name\": \"ed\", \"balance\": 18724.3938, \"strategy\": \"You are a day trader that aggressively buys and sells shares based on news and market conditions.\", \"holdings\": {\"NVDA\": 10, \"AAPL\": 15, \"MSFT\": 10, \"NKE\": 5, \"AMZN\": 6}, \"transactions\": [{\"symbol\": \"NVDA\", \"quantity\": 10, \"price\": 158.06550000000001, \"timestamp\": \"2025-06-30 00:15:59\", \"rationale\": \"Investing in Nvidia due to its critical role in the AI sector and expected continued demand despite insider selling.\"}, {\"symbol\": \"AAPL\", \"quantity\": 15, \"price\": 201.48216000000002, \"timestamp\": \"2025-06-30 00:15:59\", \"rationale\": \"Apple\\'s strong market performance and resilience in product demand make it a stable choice amid inflation concerns.\"}, {\"symbol\": \"MSFT\", \"quantity\": 10, \"price\": 496.93188, \"timestamp\": \"2025-06-30 00:16:38\", \"rationale\": \"Microsoft\\'s strong growth in cloud services positions it well for the ongoing tech surge.\"}, {\"symbol\": \"NKE\", \"quantity\": 5, \"price\": 72.18408000000001, \"timestamp\": \"2025-06-30 00:16:40\", \"rationale\": \"Nike\\'s adaptation to consumer preferences and strong brand resilience provide a favorable trading outlook.\"}, {\"symbol\": \"AMZN\", \"quantity\": 3, \"price\": 223.7466, \"timestamp\": \"2025-06-30 01:12:59\", \"rationale\": \"Because this bookstore website looks promising\"}, {\"symbol\": \"AMZN\", \"quantity\": 3, \"price\": 223.7466, \"timestamp\": \"2025-06-30 01:13:28\", \"rationale\": \"Because this bookstore website looks promising\"}], \"portfolio_value_time_series\": [[\"2025-06-30 00:15:40\", 10000.0], [\"2025-06-30 00:15:41\", 10000.0], [\"2025-06-30 00:15:59\", 9996.845], [\"2025-06-30 00:15:59\", 9990.8126], [\"2025-06-30 00:16:08\", 9990.8126], [\"2025-06-30 00:16:14\", 9990.8126], [\"2025-06-30 00:16:38\", 9980.893799999998], [\"2025-06-30 00:16:40\", 9980.1734], [\"2025-06-30 00:16:51\", 9980.1734], [\"2025-06-30 01:12:59\", 19978.8336], [\"2025-06-30 01:13:04\", 19978.8336], [\"2025-06-30 01:13:28\", 29977.493800000004], [\"2025-06-30 01:13:28\", 29977.493800000004], [\"2025-06-30 01:13:37\", 29977.493800000004], [\"2025-06-30 01:13:37\", 29977.493800000004]], \"total_portfolio_value\": 29977.493800000004, \"total_profit_loss\": -22.506199999999808}'"
      ]
     },
     "execution_count": 15,
     "metadata": {},
     "output_type": "execute_result"
    }
   ],
   "source": [
    "from accounts import Account\n",
    "Account.get(\"ed\").report()"
   ]
  },
  {
   "cell_type": "markdown",
   "metadata": {},
   "source": [
    "<table style=\"margin: 0; text-align: left; width:100%\">\n",
    "    <tr>\n",
    "        <td style=\"width: 150px; height: 150px; vertical-align: middle;\">\n",
    "            <img src=\"../assets/exercise.png\" width=\"150\" height=\"150\" style=\"display: block;\" />\n",
    "        </td>\n",
    "        <td>\n",
    "            <h2 style=\"color:#ff7800;\">Exercises</h2>\n",
    "            <span style=\"color:#ff7800;\">Make your own MCP Server! Make a simple function to return the current Date, and expose it as a tool so that an Agent can tell you today's date.<br/>Harder optional exercise: then make an MCP Client, and use a native OpenAI call (without the Agents SDK) to use your tool via your client.\n",
    "            </span>\n",
    "        </td>\n",
    "    </tr>\n",
    "</table>"
   ]
  }
 ],
 "metadata": {
  "kernelspec": {
   "display_name": "Python 3 (ipykernel)",
   "language": "python",
   "name": "python3"
  },
  "language_info": {
   "codemirror_mode": {
    "name": "ipython",
    "version": 3
   },
   "file_extension": ".py",
   "mimetype": "text/x-python",
   "name": "python",
   "nbconvert_exporter": "python",
   "pygments_lexer": "ipython3",
   "version": "3.12.11"
  }
 },
 "nbformat": 4,
 "nbformat_minor": 4
}
