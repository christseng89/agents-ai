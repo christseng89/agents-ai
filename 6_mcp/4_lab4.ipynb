{
 "cells": [
  {
   "cell_type": "markdown",
   "metadata": {},
   "source": [
    "<table style=\"margin: 0; text-align: left; width:100%\">\n",
    "    <tr>\n",
    "        <td style=\"width: 220px; height: 150px; vertical-align: middle;\">\n",
    "            <img src=\"../assets/aaa.png\" width=\"220\" height=\"150\" style=\"display: block;\" />\n",
    "        </td>\n",
    "        <td>\n",
    "            <h2 style=\"color:#ff7800;\">Autonomous Traders</h2>\n",
    "            <span style=\"color:#ff7800;\">An equity trading simulation to illustrate autonomous agents powered by tools and resources from MCP servers.\n",
    "            </span>\n",
    "        </td>\n",
    "    </tr>\n",
    "</table>"
   ]
  },
  {
   "cell_type": "markdown",
   "metadata": {},
   "source": [
    "### Week 6 Day 4\n",
    "\n",
    "And now - introducing the Capstone project:\n",
    "\n",
    "\n",
    "# Autonomous Traders\n",
    "\n",
    "An equity trading simulation, with 4 Traders and a Researcher, powered by a slew of MCP servers with tools & resources:\n",
    "\n",
    "1. Our home-made Accounts MCP server (written by our engineering team!)\n",
    "2. Fetch (get webpage via a local headless browser)\n",
    "3. Memory\n",
    "4. Brave Search\n",
    "5. Financial data\n",
    "\n",
    "And a resource to read information about the trader's account, and their investment strategy.\n",
    "\n",
    "The goal of today's lab is to make a new python module, `traders.py` that will manage a single trader on our trading floor.\n",
    "\n",
    "We will experiment and explore in the lab, and then migrate to a python module when we're ready.\n"
   ]
  },
  {
   "cell_type": "markdown",
   "metadata": {},
   "source": [
    "<table style=\"margin: 0; text-align: left; width:100%\">\n",
    "    <tr>\n",
    "        <td style=\"width: 150px; height: 150px; vertical-align: middle;\">\n",
    "            <img src=\"../assets/stop.png\" width=\"150\" height=\"150\" style=\"display: block;\" />\n",
    "        </td>\n",
    "        <td>\n",
    "            <h2 style=\"color:#ff7800;\">One more time --</h2>\n",
    "            <span style=\"color:#ff7800;\">Please **DO NOT** use this for actual trading decisions!!\n",
    "            </span>\n",
    "        </td>\n",
    "    </tr>\n",
    "</table>"
   ]
  },
  {
   "cell_type": "code",
   "execution_count": 1,
   "metadata": {},
   "outputs": [
    {
     "data": {
      "text/plain": [
       "True"
      ]
     },
     "execution_count": 1,
     "metadata": {},
     "output_type": "execute_result"
    }
   ],
   "source": [
    "import os\n",
    "from dotenv import load_dotenv\n",
    "from agents import Agent, Runner, trace, Tool\n",
    "from agents.mcp import MCPServerStdio\n",
    "from IPython.display import Markdown, display\n",
    "from datetime import datetime\n",
    "from accounts_client import read_accounts_resource, read_strategy_resource\n",
    "from accounts import Account\n",
    "\n",
    "load_dotenv(override=True)"
   ]
  },
  {
   "cell_type": "markdown",
   "metadata": {},
   "source": [
    "### Let's start by gathering the MCP params for our trader"
   ]
  },
  {
   "cell_type": "code",
   "execution_count": 2,
   "metadata": {},
   "outputs": [
    {
     "name": "stdout",
     "output_type": "stream",
     "text": [
      "False\n",
      "False\n"
     ]
    }
   ],
   "source": [
    "polygon_api_key = os.getenv(\"POLYGON_API_KEY\")\n",
    "polygon_plan = os.getenv(\"POLYGON_PLAN\")\n",
    "\n",
    "is_paid_polygon = polygon_plan == \"paid\"\n",
    "is_realtime_polygon = polygon_plan == \"realtime\"\n",
    "\n",
    "print(is_paid_polygon)\n",
    "print(is_realtime_polygon)"
   ]
  },
  {
   "cell_type": "code",
   "execution_count": 3,
   "metadata": {},
   "outputs": [],
   "source": [
    "if is_paid_polygon or is_realtime_polygon:\n",
    "    market_mcp = {\"command\": \"uvx\",\"args\": [\"--from\", \"git+https://github.com/polygon-io/mcp_polygon@master\", \"mcp_polygon\"], \"env\": {\"POLYGON_API_KEY\": polygon_api_key}}\n",
    "else:\n",
    "    market_mcp = ({\"command\": \"uv\", \"args\": [\"run\", \"market_server.py\"]})\n",
    "\n",
    "trader_mcp_server_params = [\n",
    "    {\"command\": \"uv\", \"args\": [\"run\", \"accounts_server.py\"]},\n",
    "    {\"command\": \"uv\", \"args\": [\"run\", \"push_server.py\"]},\n",
    "    market_mcp\n",
    "]"
   ]
  },
  {
   "cell_type": "markdown",
   "metadata": {},
   "source": [
    "### And now for our researcher"
   ]
  },
  {
   "cell_type": "code",
   "execution_count": 4,
   "metadata": {},
   "outputs": [],
   "source": [
    "brave_env = {\"BRAVE_API_KEY\": os.getenv(\"BRAVE_API_KEY\")}\n",
    "\n",
    "researcher_mcp_server_params = [\n",
    "    {\"command\": \"uvx\", \"args\": [\"mcp-server-fetch\"]},\n",
    "    {\"command\": \"npx\", \"args\": [\"-y\", \"@modelcontextprotocol/server-brave-search\"], \"env\": brave_env}\n",
    "]"
   ]
  },
  {
   "cell_type": "markdown",
   "metadata": {},
   "source": [
    "### Now create the MCPServerStdio for each"
   ]
  },
  {
   "cell_type": "code",
   "execution_count": 5,
   "metadata": {},
   "outputs": [],
   "source": [
    "researcher_mcp_servers = [MCPServerStdio(params, client_session_timeout_seconds=30) for params in researcher_mcp_server_params]\n",
    "trader_mcp_servers = [MCPServerStdio(params, client_session_timeout_seconds=30) for params in trader_mcp_server_params]\n",
    "mcp_servers = trader_mcp_servers + researcher_mcp_servers"
   ]
  },
  {
   "cell_type": "markdown",
   "metadata": {},
   "source": [
    "### Now let's make a Researcher Agent to do market research\n",
    "\n",
    "And turn it into a tool - remember how this works for OpenAI Agents SDK, and the difference with handoffs?"
   ]
  },
  {
   "cell_type": "code",
   "execution_count": 6,
   "metadata": {},
   "outputs": [],
   "source": [
    "async def get_researcher(mcp_servers) -> Agent:\n",
    "    instructions = f\"\"\"You are a financial researcher. You are able to search the web for interesting financial news,\n",
    "look for possible trading opportunities, and help with research.\n",
    "Based on the request, you carry out necessary research and respond with your findings.\n",
    "Take time to make multiple searches to get a comprehensive overview, and then summarize your findings.\n",
    "If there isn't a specific request, then just respond with investment opportunities based on searching latest news.\n",
    "The current datetime is {datetime.now().strftime(\"%Y-%m-%d %H:%M:%S\")}\n",
    "\"\"\"\n",
    "    researcher = Agent(\n",
    "        name=\"Researcher\",\n",
    "        instructions=instructions,\n",
    "        model=\"gpt-4.1-mini\",\n",
    "        mcp_servers=mcp_servers,\n",
    "    )\n",
    "    return researcher"
   ]
  },
  {
   "cell_type": "code",
   "execution_count": 7,
   "metadata": {},
   "outputs": [],
   "source": [
    "async def get_researcher_tool(mcp_servers) -> Tool:\n",
    "    researcher = await get_researcher(mcp_servers)\n",
    "    return researcher.as_tool(\n",
    "            tool_name=\"Researcher\",\n",
    "            tool_description=\"This tool researches online for news and opportunities, \\\n",
    "                either based on your specific request to look into a certain stock, \\\n",
    "                or generally for notable financial news and opportunities. \\\n",
    "                Describe what kind of research you're looking for.\"\n",
    "        )"
   ]
  },
  {
   "cell_type": "code",
   "execution_count": 8,
   "metadata": {},
   "outputs": [
    {
     "data": {
      "text/markdown": [
       "Here are the latest news highlights on Amazon:\n",
       "\n",
       "1. Amazon Prime Day 2025 is scheduled for July 8-11, with early access deals available now for Prime members. The event will last 4 days this year, doubling in length from previous years.\n",
       "\n",
       "2. Amazon has issued a scam warning for consumers ahead of the upcoming July 4th sales to be cautious of fraudulent activities.\n",
       "\n",
       "3. Amazon announced a major expansion of its Prime delivery network, extending same-day and next-day delivery to over 4,000 rural areas by the end of 2025.\n",
       "\n",
       "4. CEO Andy Jassy revealed that Amazon plans to reduce its total corporate workforce in the next few years due to increased AI automation replacing some jobs.\n",
       "\n",
       "5. Amazon is investing $10 billion in new data centers in North Carolina to expand its AI computing footprint, which is expected to create 500 jobs.\n",
       "\n",
       "6. Nike will raise prices and resume selling its products on Amazon after a more than five-year break.\n",
       "\n",
       "7. On a different note, Jeff Bezos, Amazon's founder, recently married Lauren Sanchez in a lavish, star-studded wedding held in Venice, Italy, which attracted significant media and protest attention.\n",
       "\n",
       "If you need any more detailed info or have other questions, just let me know!"
      ],
      "text/plain": [
       "<IPython.core.display.Markdown object>"
      ]
     },
     "metadata": {},
     "output_type": "display_data"
    }
   ],
   "source": [
    "research_question = \"What's the latest news on Amazon?\"\n",
    "\n",
    "for server in researcher_mcp_servers:\n",
    "    await server.connect()\n",
    "researcher = await get_researcher(researcher_mcp_servers)\n",
    "with trace(\"Researcher\"):\n",
    "    result = await Runner.run(researcher, research_question, max_turns=30)\n",
    "display(Markdown(result.final_output))\n",
    "\n"
   ]
  },
  {
   "cell_type": "markdown",
   "metadata": {},
   "source": [
    "### Look at the trace\n",
    "\n",
    "https://platform.openai.com/traces"
   ]
  },
  {
   "cell_type": "code",
   "execution_count": 9,
   "metadata": {},
   "outputs": [
    {
     "data": {
      "text/markdown": [
       "{\"name\": \"ed\", \"balance\": 10000.0, \"strategy\": \"You are a day trader that aggressively buys and sells shares based on news and market conditions.\", \"holdings\": {}, \"transactions\": [], \"portfolio_value_time_series\": [[\"2025-07-04 12:57:37\", 10000.0]], \"total_portfolio_value\": 10000.0, \"total_profit_loss\": 0.0}"
      ],
      "text/plain": [
       "<IPython.core.display.Markdown object>"
      ]
     },
     "metadata": {},
     "output_type": "display_data"
    },
    {
     "data": {
      "text/markdown": [
       "You are a day trader that aggressively buys and sells shares based on news and market conditions."
      ],
      "text/plain": [
       "<IPython.core.display.Markdown object>"
      ]
     },
     "metadata": {},
     "output_type": "display_data"
    }
   ],
   "source": [
    "ed_initial_strategy = \"You are a day trader that aggressively buys and sells shares based on news and market conditions.\"\n",
    "Account.get(\"Ed\").reset(ed_initial_strategy)\n",
    "\n",
    "display(Markdown(await read_accounts_resource(\"Ed\")))\n",
    "display(Markdown(await read_strategy_resource(\"Ed\")))"
   ]
  },
  {
   "cell_type": "markdown",
   "metadata": {},
   "source": [
    "### And now - to create our Trader Agent"
   ]
  },
  {
   "cell_type": "code",
   "execution_count": 10,
   "metadata": {},
   "outputs": [],
   "source": [
    "agent_name = \"Ed\"\n",
    "\n",
    "# Using MCP Servers to read resources\n",
    "account_details = await read_accounts_resource(agent_name)\n",
    "strategy = await read_strategy_resource(agent_name)\n",
    "\n",
    "instructions = f\"\"\"\n",
    "You are a trader that manages a portfolio of shares. Your name is {agent_name} and your account is under your name, {agent_name}.\n",
    "You have access to tools that allow you to search the internet for company news, check stock prices, and buy and sell shares.\n",
    "Your investment strategy for your portfolio is:\n",
    "{strategy}\n",
    "Your current holdings and balance is:\n",
    "{account_details}\n",
    "You have the tools to perform a websearch for relevant news and information.\n",
    "You have tools to check stock prices.\n",
    "You have tools to buy and sell shares.\n",
    "You have tools to save memory of companies, research and thinking so far.\n",
    "Please make use of these tools to manage your portfolio. Carry out trades as you see fit; do not wait for instructions or ask for confirmation.\n",
    "\"\"\"\n",
    "\n",
    "prompt = \"\"\"\n",
    "Use your tools to make decisions about your portfolio.\n",
    "Investigate the news and the market, make your decision, make the trades, and respond with a summary of your actions.\n",
    "\"\"\""
   ]
  },
  {
   "cell_type": "code",
   "execution_count": 11,
   "metadata": {},
   "outputs": [
    {
     "name": "stdout",
     "output_type": "stream",
     "text": [
      "\n",
      "You are a trader that manages a portfolio of shares. Your name is Ed and your account is under your name, Ed.\n",
      "You have access to tools that allow you to search the internet for company news, check stock prices, and buy and sell shares.\n",
      "Your investment strategy for your portfolio is:\n",
      "You are a day trader that aggressively buys and sells shares based on news and market conditions.\n",
      "Your current holdings and balance is:\n",
      "{\"name\": \"ed\", \"balance\": 10000.0, \"strategy\": \"You are a day trader that aggressively buys and sells shares based on news and market conditions.\", \"holdings\": {}, \"transactions\": [], \"portfolio_value_time_series\": [[\"2025-07-04 12:57:37\", 10000.0], [\"2025-07-04 12:57:38\", 10000.0]], \"total_portfolio_value\": 10000.0, \"total_profit_loss\": 0.0}\n",
      "You have the tools to perform a websearch for relevant news and information.\n",
      "You have tools to check stock prices.\n",
      "You have tools to buy and sell shares.\n",
      "You have tools to save memory of companies, research and thinking so far.\n",
      "Please make use of these tools to manage your portfolio. Carry out trades as you see fit; do not wait for instructions or ask for confirmation.\n",
      "\n"
     ]
    }
   ],
   "source": [
    "print(instructions)"
   ]
  },
  {
   "cell_type": "markdown",
   "metadata": {},
   "source": [
    "### And to run our Trader"
   ]
  },
  {
   "cell_type": "code",
   "execution_count": 12,
   "metadata": {},
   "outputs": [
    {
     "data": {
      "text/markdown": [
       "### Summary of Actions Taken\n",
       "\n",
       "1. **Market Research**:\n",
       "   - The stock market is buoyed by optimism surrounding trade talks and a potential Federal Reserve rate cut. The tech sector is showing strong performance.\n",
       "\n",
       "2. **Stock Prices for Key Holdings**:\n",
       "   - **Apple (AAPL)**: $213.55\n",
       "   - **Tesla (TSLA)**: $315.35\n",
       "   - **Other stocks (not bought due to strategy decisions)**: \n",
       "     - Google (GOOGL): $179.53\n",
       "     - Microsoft (MSFT): $498.84\n",
       "     - Amazon (AMZN): $223.41\n",
       "\n",
       "3. **Transactions Executed**:\n",
       "   - **Bought 30 shares of Apple (AAPL)** at an average price of $213.98 per share.\n",
       "     - **Rationale**: Positive market sentiment in the tech sector suggests potential for growth.\n",
       "   - **Bought 10 shares of Tesla (TSLA)** at an average price of $315.98 per share.\n",
       "     - **Rationale**: Increasing demand for EVs bolsters Tesla's valuation.\n",
       "\n",
       "### Portfolio Status:\n",
       "\n",
       "- **Current Balance**: $420.88\n",
       "- **Current Holdings**:\n",
       "  - AAPL: 30 shares \n",
       "  - TSLA: 10 shares\n",
       "- **Total Portfolio Value**: $9,980.88\n",
       "- **Total Profit/Loss**: -$19.12\n",
       "\n",
       "### Next Steps:\n",
       "I will monitor the performance of these stocks closely, especially due to the active earnings season and market shifts. I will be ready to make further trades based on new information."
      ],
      "text/plain": [
       "<IPython.core.display.Markdown object>"
      ]
     },
     "metadata": {},
     "output_type": "display_data"
    }
   ],
   "source": [
    "for server in mcp_servers:\n",
    "    await server.connect()\n",
    "\n",
    "researcher_tool = await get_researcher_tool(researcher_mcp_servers)\n",
    "trader = Agent(\n",
    "    name=agent_name,\n",
    "    instructions=instructions,\n",
    "    tools=[researcher_tool],\n",
    "    mcp_servers=trader_mcp_servers,\n",
    "    model=\"gpt-4o-mini\",\n",
    ")\n",
    "with trace(agent_name):\n",
    "    result = await Runner.run(trader, prompt, max_turns=30)\n",
    "display(Markdown(result.final_output))"
   ]
  },
  {
   "cell_type": "markdown",
   "metadata": {},
   "source": [
    "### Then go and look at the trace\n",
    "\n",
    "http://platform.openai.com/traces\n"
   ]
  },
  {
   "cell_type": "code",
   "execution_count": 13,
   "metadata": {},
   "outputs": [
    {
     "data": {
      "text/plain": [
       "'{\"name\": \"ed\", \"balance\": 420.87999999999965, \"strategy\": \"You are a day trader that aggressively buys and sells shares based on news and market conditions.\", \"holdings\": {\"AAPL\": 30, \"TSLA\": 10}, \"transactions\": [{\"symbol\": \"AAPL\", \"quantity\": 30, \"price\": 213.9771, \"timestamp\": \"2025-07-04 12:57:59\", \"rationale\": \"Positive market sentiment in tech sector and potential growth based on recent trends.\"}, {\"symbol\": \"TSLA\", \"quantity\": 10, \"price\": 315.9807, \"timestamp\": \"2025-07-04 12:57:59\", \"rationale\": \"Tesla\\'s valuation is strengthening as EV demand increases and it\\'s at a competitive price point.\"}], \"portfolio_value_time_series\": [[\"2025-07-04 12:57:37\", 10000.0], [\"2025-07-04 12:57:38\", 10000.0], [\"2025-07-04 12:57:59\", 9987.187], [\"2025-07-04 12:58:00\", 9980.88], [\"2025-07-04 12:58:05\", 9980.88]], \"total_portfolio_value\": 9980.88, \"total_profit_loss\": -19.120000000001255}'"
      ]
     },
     "execution_count": 13,
     "metadata": {},
     "output_type": "execute_result"
    }
   ],
   "source": [
    "# And let's look at the results of the trading\n",
    "\n",
    "await read_accounts_resource(agent_name)"
   ]
  },
  {
   "cell_type": "code",
   "execution_count": null,
   "metadata": {},
   "outputs": [],
   "source": []
  },
  {
   "cell_type": "markdown",
   "metadata": {},
   "source": [
    "### Now it's time to review the Python module made from this:\n",
    "\n",
    "`mcp_params.py` is where the MCP servers are specified. You'll notice I've brought in some familiar friends: memory and push notifications!\n",
    "\n",
    "`templates.py` is where the instructions and messages are set up (i.e. the System prompts and User prompts)\n",
    "\n",
    "`traders.py` brings it all together.\n",
    "\n",
    "You'll notice I've done something a bit fancy with code like this **async with AsyncExitStack() as stack**:\n",
    "\n",
    "```\n",
    "async with AsyncExitStack() as stack:\n",
    "    mcp_servers = [await stack.enter_async_context(MCPServerStdio(params)) for params in mcp_server_params]\n",
    "```\n",
    "\n",
    "This is just a tidy way to combine our \"with\" statements (known as context managers) so that we don't need to do something ugly like this:\n",
    "\n",
    "```\n",
    "async with MCPServerStdio(params=params1) as mcp_server1:\n",
    "    async with MCPServerStdio(params=params2) as mcp_server2:\n",
    "        async with MCPServerStdio(params=params3) as mcp_server3:\n",
    "            mcp_servers = [mcp_server1, mcp_server2, mcp_server3]\n",
    "```\n",
    "\n",
    "But it's equivalent.\n"
   ]
  },
  {
   "cell_type": "code",
   "execution_count": 14,
   "metadata": {},
   "outputs": [],
   "source": [
    "from traders import Trader\n"
   ]
  },
  {
   "cell_type": "code",
   "execution_count": 15,
   "metadata": {},
   "outputs": [],
   "source": [
    "trader = Trader(\"Ed\")"
   ]
  },
  {
   "cell_type": "code",
   "execution_count": 16,
   "metadata": {},
   "outputs": [],
   "source": [
    "await trader.run()"
   ]
  },
  {
   "cell_type": "code",
   "execution_count": 17,
   "metadata": {},
   "outputs": [
    {
     "data": {
      "text/plain": [
       "'{\"name\": \"ed\", \"balance\": 1642.7744999999998, \"strategy\": \"You are a day trader that aggressively buys and sells shares based on news and market conditions.\", \"holdings\": {\"AAPL\": 30, \"TSLA\": 5, \"NIO\": 100}, \"transactions\": [{\"symbol\": \"AAPL\", \"quantity\": 30, \"price\": 213.9771, \"timestamp\": \"2025-07-04 12:57:59\", \"rationale\": \"Positive market sentiment in tech sector and potential growth based on recent trends.\"}, {\"symbol\": \"TSLA\", \"quantity\": 10, \"price\": 315.9807, \"timestamp\": \"2025-07-04 12:57:59\", \"rationale\": \"Tesla\\'s valuation is strengthening as EV demand increases and it\\'s at a competitive price point.\"}, {\"symbol\": \"NIO\", \"quantity\": 100, \"price\": 3.5170199999999996, \"timestamp\": \"2025-07-04 12:59:07\", \"rationale\": \"Strong year-over-year growth in deliveries and positive market sentiment in the EV sector.\"}, {\"symbol\": \"TSLA\", \"quantity\": -5, \"price\": 314.71930000000003, \"timestamp\": \"2025-07-04 12:59:09\", \"rationale\": \"Taking partial profits due to current volatility and improving liquidity.\"}], \"portfolio_value_time_series\": [[\"2025-07-04 12:57:37\", 10000.0], [\"2025-07-04 12:57:38\", 10000.0], [\"2025-07-04 12:57:59\", 9987.187], [\"2025-07-04 12:58:00\", 9980.88], [\"2025-07-04 12:58:05\", 9980.88], [\"2025-07-04 12:58:10\", 9980.88], [\"2025-07-04 12:59:07\", 9980.178], [\"2025-07-04 12:59:09\", 9977.0245], [\"2025-07-04 12:59:15\", 9977.0245]], \"total_portfolio_value\": 9977.0245, \"total_profit_loss\": -22.975500000000693}'"
      ]
     },
     "execution_count": 17,
     "metadata": {},
     "output_type": "execute_result"
    }
   ],
   "source": [
    "await read_accounts_resource(\"Ed\")"
   ]
  },
  {
   "cell_type": "markdown",
   "metadata": {},
   "source": [
    "### Now look at the trace\n",
    "\n",
    "https://platform.openai.com/traces\n",
    "\n",
    "### How many tools did we use in total?"
   ]
  },
  {
   "cell_type": "code",
   "execution_count": 18,
   "metadata": {},
   "outputs": [
    {
     "name": "stdout",
     "output_type": "stream",
     "text": [
      "We have 6 MCP servers, and 18 tools\n"
     ]
    }
   ],
   "source": [
    "from mcp_params import trader_mcp_server_params, researcher_mcp_server_params\n",
    "\n",
    "all_params = trader_mcp_server_params + researcher_mcp_server_params(\"ed\")\n",
    "\n",
    "count = 0\n",
    "for each_params in all_params:\n",
    "    async with MCPServerStdio(params=each_params, client_session_timeout_seconds=60) as server:\n",
    "        mcp_tools = await server.list_tools()\n",
    "        count += len(mcp_tools)\n",
    "print(f\"We have {len(all_params)} MCP servers, and {count} tools\")"
   ]
  },
  {
   "cell_type": "code",
   "execution_count": 19,
   "metadata": {},
   "outputs": [
    {
     "name": "stdout",
     "output_type": "stream",
     "text": [
      "Params: uv ['run', 'accounts_server.py']\n",
      "Params: uv ['run', 'push_server.py']\n",
      "Params: uv ['run', 'market_server.py']\n",
      "Params: uvx ['mcp-server-fetch']\n",
      "Params: npx ['-y', '@modelcontextprotocol/server-brave-search']\n",
      "Params: npx ['-y', 'mcp-memory-libsql']\n"
     ]
    }
   ],
   "source": [
    "for params in all_params:\n",
    "    print(f\"Params: {params['command']} {params['args']}\")"
   ]
  },
  {
   "cell_type": "code",
   "execution_count": 20,
   "metadata": {},
   "outputs": [
    {
     "name": "stdout",
     "output_type": "stream",
     "text": [
      "name='create_entities' description='Create new entities with observations and optional embeddings' inputSchema={'type': 'object', 'properties': {'entities': {'type': 'array', 'items': {'type': 'object', 'properties': {'name': {'type': 'string'}, 'entityType': {'type': 'string'}, 'observations': {'type': 'array', 'items': {'type': 'string'}}, 'embedding': {'type': 'array', 'items': {'type': 'number'}, 'description': 'Optional vector embedding for similarity search'}}, 'required': ['name', 'entityType', 'observations']}}}, 'required': ['entities']} annotations=None\n",
      "name='search_nodes' description='Search for entities and their relations using text or vector similarity' inputSchema={'type': 'object', 'properties': {'query': {'oneOf': [{'type': 'string', 'description': 'Text search query'}, {'type': 'array', 'items': {'type': 'number'}, 'description': 'Vector for similarity search'}]}}, 'required': ['query']} annotations=None\n",
      "name='read_graph' description='Get recent entities and their relations' inputSchema={'type': 'object', 'properties': {}, 'required': []} annotations=None\n",
      "name='create_relations' description='Create relations between entities' inputSchema={'type': 'object', 'properties': {'relations': {'type': 'array', 'items': {'type': 'object', 'properties': {'source': {'type': 'string'}, 'target': {'type': 'string'}, 'type': {'type': 'string'}}, 'required': ['source', 'target', 'type']}}}, 'required': ['relations']} annotations=None\n",
      "name='delete_entity' description='Delete an entity and all its associated data (observations and relations)' inputSchema={'type': 'object', 'properties': {'name': {'type': 'string', 'description': 'Name of the entity to delete'}}, 'required': ['name']} annotations=None\n",
      "name='delete_relation' description='Delete a specific relation between entities' inputSchema={'type': 'object', 'properties': {'source': {'type': 'string', 'description': 'Source entity name'}, 'target': {'type': 'string', 'description': 'Target entity name'}, 'type': {'type': 'string', 'description': 'Type of relation'}}, 'required': ['source', 'target', 'type']} annotations=None\n"
     ]
    }
   ],
   "source": [
    "for tool in mcp_tools:\n",
    "    print(tool)"
   ]
  },
  {
   "cell_type": "code",
   "execution_count": null,
   "metadata": {},
   "outputs": [],
   "source": []
  }
 ],
 "metadata": {
  "kernelspec": {
   "display_name": "Python 3 (ipykernel)",
   "language": "python",
   "name": "python3"
  },
  "language_info": {
   "codemirror_mode": {
    "name": "ipython",
    "version": 3
   },
   "file_extension": ".py",
   "mimetype": "text/x-python",
   "name": "python",
   "nbconvert_exporter": "python",
   "pygments_lexer": "ipython3",
   "version": "3.12.11"
  }
 },
 "nbformat": 4,
 "nbformat_minor": 4
}
